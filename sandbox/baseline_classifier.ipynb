{
 "cells": [
  {
   "cell_type": "code",
   "id": "initial_id",
   "metadata": {
    "collapsed": true,
    "ExecuteTime": {
     "end_time": "2024-07-31T17:29:46.032269Z",
     "start_time": "2024-07-31T17:29:45.863725Z"
    }
   },
   "source": [
    "%load_ext autoreload\n",
    "%autoreload 2\n",
    "import os\n",
    "import sys\n",
    "import pandas as pd\n",
    "import pickle\n",
    "\n",
    "from sklearn.pipeline import Pipeline, FeatureUnion\n",
    "from sklearn.compose import ColumnTransformer\n",
    "\n",
    "#from rulefit import RuleFit\n",
    "from sklearn.tree import DecisionTreeClassifier\n",
    "from sklearn.linear_model import BayesianRidge, LinearRegression, LogisticRegression, ElasticNet\n",
    "from sklearn.ensemble import RandomForestClassifier, GradientBoostingClassifier\n",
    "from xgboost import XGBClassifier\n",
    "from sklearn.model_selection import RepeatedStratifiedKFold, TunedThresholdClassifierCV\n",
    "from sklearn.preprocessing import LabelBinarizer, LabelEncoder\n",
    "#from category_encoders import JamesSteinEncoder, CatBoostEncoder\n",
    "from sklearn.preprocessing import OrdinalEncoder, OneHotEncoder\n",
    "from sklearn.calibration import calibration_curve, CalibratedClassifierCV\n",
    "from sklearn.feature_selection import SelectFromModel, VarianceThreshold\n",
    "\n",
    "from sklearn.experimental import enable_iterative_imputer\n",
    "from sklearn.impute import IterativeImputer, SimpleImputer\n",
    "\n",
    "# add ../src to python path\n",
    "sys.path.insert(0, os.path.join(os.path.abspath('.'),'..', 'src'))\n",
    "\n",
    "import tree_utils"
   ],
   "outputs": [
    {
     "name": "stdout",
     "output_type": "stream",
     "text": [
      "The autoreload extension is already loaded. To reload it, use:\n",
      "  %reload_ext autoreload\n"
     ]
    }
   ],
   "execution_count": 47
  },
  {
   "metadata": {
    "ExecuteTime": {
     "end_time": "2024-07-31T13:39:44.353277Z",
     "start_time": "2024-07-31T13:39:44.216210Z"
    }
   },
   "cell_type": "code",
   "source": [
    "# Try from sklego.meta import HierarchicalClassifier\n",
    "# hc = HierarchicalClassifier(\n",
    "#    estimator=LogisticRegression(),\n",
    "#    groups=groups\n",
    "#).fit(X, y)\n",
    "#hc.estimators_"
   ],
   "id": "2da11eab31e03653",
   "outputs": [],
   "execution_count": 2
  },
  {
   "metadata": {
    "ExecuteTime": {
     "end_time": "2024-07-31T13:39:44.508225Z",
     "start_time": "2024-07-31T13:39:44.355712Z"
    }
   },
   "cell_type": "code",
   "source": [
    "data_path =  r\"J:\\Onderzoek\\21-763_rvanes_MiniECG-2-Data\\E_ResearchData\\2_ResearchData\\Analysis\"\n",
    "file_name =  r\"input_decision_tree_complete.pkl\"\n",
    "\n",
    "num_splits = 10\n",
    "num_repeats = 10\n",
    "MAX_FEATURES = 100 # only relevant if USE_LEAD_COMBOS is True\n",
    "USE_CLASS_WEIGHT = False\n",
    "ALL_FEATURES = False\n",
    "USE_REDUCED_LABELS = False\n",
    "USE_CALIBRATED_CLASSIFIER = True\n",
    "USE_LEAD_COMBOS = False\n",
    "COMBO_WITH_FEATURE_FILTER = False \n",
    "ALL_FEATURES_STRING = \"_useAllvars\" if ALL_FEATURES else \"\"\n",
    "CLASS_WEIGHT_STRING = \"_withClassWeights\" if USE_CLASS_WEIGHT else \"\"\n",
    "REDUCED_LABEL_STRING = \"_withReducedLabels\" if USE_REDUCED_LABELS else \"\"\n",
    "CALIBRATED_CLASSIFIER_STRING = \"_withCalibratedClassifier\" if USE_CALIBRATED_CLASSIFIER else \"\"\n",
    "FEATURE_COMBO_STRING = \"_withLeadCombos\" if USE_LEAD_COMBOS else \"\""
   ],
   "id": "b287448247b39c96",
   "outputs": [],
   "execution_count": 3
  },
  {
   "metadata": {
    "ExecuteTime": {
     "end_time": "2024-07-31T13:39:44.725217Z",
     "start_time": "2024-07-31T13:39:44.510726Z"
    }
   },
   "cell_type": "code",
   "source": [
    "with open(os.path.join(data_path, file_name), 'rb') as f:\n",
    "    input_decision_tree_complete = pickle.load(f)"
   ],
   "id": "4c8568e7c45a3b69",
   "outputs": [],
   "execution_count": 4
  },
  {
   "metadata": {
    "ExecuteTime": {
     "end_time": "2024-07-31T13:39:44.942361Z",
     "start_time": "2024-07-31T13:39:44.728713Z"
    }
   },
   "cell_type": "code",
   "source": "DATA = pd.DataFrame(input_decision_tree_complete).T",
   "id": "6d358b6d09bb7abf",
   "outputs": [],
   "execution_count": 5
  },
  {
   "metadata": {
    "ExecuteTime": {
     "end_time": "2024-07-31T13:39:45.468676Z",
     "start_time": "2024-07-31T13:39:44.944212Z"
    }
   },
   "cell_type": "code",
   "source": [
    "out_folder =r\"J:\\Onderzoek\\21-763_rvanes_MiniECG-2-Data\\E_ResearchData\\2_ResearchData\\Parquet\"\n",
    "DATA.to_parquet(os.path.join(out_folder,'DATA.parquet'))"
   ],
   "id": "f5ce94c57a4b896e",
   "outputs": [],
   "execution_count": 6
  },
  {
   "metadata": {
    "ExecuteTime": {
     "end_time": "2024-07-31T13:39:45.639185Z",
     "start_time": "2024-07-31T13:39:45.470674Z"
    }
   },
   "cell_type": "code",
   "source": [
    "morphology_columns = [c for c in DATA.columns if 'morphology' in c]\n",
    "lead_columns = [c for c in DATA.columns if ('lead' in c) & ('morphology' not in c)]\n",
    "\n",
    "for c in morphology_columns:\n",
    "    DATA.loc[:, c] = DATA[c].apply(lambda x: x[0].strip(\",\").strip(\" \"))\n",
    "    DATA.loc[:, c] = DATA[c].apply(lambda x: x if x.strip()!=\"\" else \"none\")"
   ],
   "id": "140fe6b8f4ccc11c",
   "outputs": [],
   "execution_count": 7
  },
  {
   "metadata": {
    "ExecuteTime": {
     "end_time": "2024-07-31T13:39:45.809680Z",
     "start_time": "2024-07-31T13:39:45.642177Z"
    }
   },
   "cell_type": "code",
   "source": [
    "morphology_values = []\n",
    "for c in morphology_columns:\n",
    "    morphology_values.extend(DATA[c].unique().tolist())\n",
    "morphology_values = list(set(morphology_values))"
   ],
   "id": "eda403d789cb7adb",
   "outputs": [],
   "execution_count": 8
  },
  {
   "metadata": {
    "ExecuteTime": {
     "end_time": "2024-07-31T13:39:45.964677Z",
     "start_time": "2024-07-31T13:39:45.811677Z"
    }
   },
   "cell_type": "code",
   "source": [
    "ComboFunctions = {\n",
    "    'AbsFactor' : lambda x,y: abs(x-y) # np.sign(x*y)*np.sqrt(np.abs(x*y))\n",
    "}"
   ],
   "id": "9272e8b914105713",
   "outputs": [],
   "execution_count": 9
  },
  {
   "metadata": {
    "ExecuteTime": {
     "end_time": "2024-07-31T13:39:46.104202Z",
     "start_time": "2024-07-31T13:39:45.966176Z"
    }
   },
   "cell_type": "code",
   "source": [
    "if USE_LEAD_COMBOS:\n",
    "    Enriched_DF, new_columns = tree_utils.create_feature_combinations(df=DATA[lead_columns], \n",
    "                                           lambda_functions=ComboFunctions)\n",
    "    DATA = DATA.drop(lead_columns, axis=1)\n",
    "    DATA = pd.concat([DATA, Enriched_DF], axis=1)\n"
   ],
   "id": "40f50f4d6b9d1d77",
   "outputs": [],
   "execution_count": 10
  },
  {
   "metadata": {},
   "cell_type": "markdown",
   "source": "# Model prepping",
   "id": "b22bea538597a99"
  },
  {
   "metadata": {
    "ExecuteTime": {
     "end_time": "2024-07-31T13:39:46.243707Z",
     "start_time": "2024-07-31T13:39:46.105683Z"
    }
   },
   "cell_type": "code",
   "source": [
    "# TODO: need to add a feature combiner, perhaps use PySR or GpLearn, focus on vectors\n",
    "\n",
    "impute_kwargs = {\n",
    "    'estimator': LinearRegression(), \n",
    "    'random_state':7,\n",
    "    'imputation_order': 'ascending', \n",
    "    'skip_complete': True,\n",
    "    'max_iter': 2000,\n",
    "    'initial_strategy': 'median',\n",
    "    'add_indicator': True\n",
    "}\n",
    "gradientboosting_kwargs = {\n",
    "    'n_estimators': 500, \n",
    "    'max_depth': 10, \n",
    "    'learning_rate':0.01,\n",
    "    'max_leaf_nodes':40,\n",
    "    'random_state': 7\n",
    "}\n",
    "randomforest_kwargs = {\n",
    "    'n_estimators': 150,\n",
    "    'max_depth': 6,\n",
    "    'min_samples_split': 10, \n",
    "    'min_samples_leaf': 10,\n",
    "    'random_state': 7\n",
    "}\n",
    "rulefit_kwargs={\n",
    "    'tree_size': 10,\n",
    "    'max_rules': 100,\n",
    "    'tree_generator': GradientBoostingClassifier(**gradientboosting_kwargs)\n",
    "}\n",
    "decisiontree_kwargs = {\n",
    "    'criterion':'gini', \n",
    "    'splitter':'best', \n",
    "    'max_depth':10, \n",
    "    'min_samples_split':10, \n",
    "    'min_samples_leaf': 5, \n",
    "    'min_weight_fraction_leaf':0.05, \n",
    "    'max_features':None, \n",
    "    'random_state':7, \n",
    "    'max_leaf_nodes':50,\n",
    "    'class_weight': 'balanced'\n",
    "}\n",
    "xgboost_kwargs = {\n",
    "    'n_estimators': 150,\n",
    "    'max_depth': 6,\n",
    "    'max_leaves': 50,\n",
    "    'learning_rate': 2e-3,\n",
    "    'gamma': 0.4,\n",
    "    'subsample': 0.55,\n",
    "    'colsample_bytree':0.85,\n",
    "    'reg_alpha': 0.005\n",
    "}\n",
    "logistic_kwargs = {\n",
    "    'penalty': 'elasticnet', \n",
    "    'dual': False, \n",
    "    'tol': 0.0001, \n",
    "    'C':1.0, \n",
    "    'fit_intercept': True, \n",
    "    'intercept_scaling':1, \n",
    "    'class_weight':None, \n",
    "    'random_state':7, \n",
    "    'solver': 'saga', \n",
    "    'max_iter':2000, \n",
    "    'verbose': 0, \n",
    "    'warm_start': False, \n",
    "    'n_jobs':-1, \n",
    "    'l1_ratio':0.5\n",
    "}\n",
    "calibration_kwargs ={\n",
    "    'method': 'sigmoid',\n",
    "    'n_jobs': -1, \n",
    "    'ensemble': True,\n",
    "    'cv': 5\n",
    "}\n"
   ],
   "id": "6004219c54779520",
   "outputs": [],
   "execution_count": 11
  },
  {
   "metadata": {
    "ExecuteTime": {
     "end_time": "2024-07-31T13:39:46.398710Z",
     "start_time": "2024-07-31T13:39:46.246678Z"
    }
   },
   "cell_type": "code",
   "source": [
    "OrdEncoder = OrdinalEncoder(\n",
    "    categories='auto',\n",
    "    dtype=int,\n",
    "    handle_unknown='use_encoded_value',\n",
    "    unknown_value=-2,\n",
    "    encoded_missing_value=-1,\n",
    ")\n",
    "OneHot = OneHotEncoder(drop=None, sparse_output=False, min_frequency=0.05)\n",
    "\n",
    "PipeOrdEncoder = ColumnTransformer([(\"cat_encoder\", OneHot, morphology_columns)],\n",
    "                                   remainder='passthrough')\n",
    "\n",
    "FFilter = SelectFromModel(estimator=LogisticRegression(**logistic_kwargs),\n",
    "                            max_features=MAX_FEATURES)\n",
    "\n",
    "_imputer = IterativeImputer(**impute_kwargs)\n",
    "\n",
    "if ALL_FEATURES:\n",
    "    _cat_enc = PipeOrdEncoder\n",
    "else:\n",
    "    _cat_enc = None\n",
    "\n",
    "if (USE_LEAD_COMBOS) & (COMBO_WITH_FEATURE_FILTER):\n",
    "    _feature_filter = FFilter\n",
    "    _imputer = SimpleImputer(strategy='median', add_indicator=True)\n",
    "else:\n",
    "    _feature_filter = None\n",
    "\n",
    "if USE_CALIBRATED_CLASSIFIER:\n",
    "    RF_clf = CalibratedClassifierCV(RandomForestClassifier(**randomforest_kwargs), \n",
    "                                    **calibration_kwargs)\n",
    "    GBC_clf = CalibratedClassifierCV(GradientBoostingClassifier(**gradientboosting_kwargs),\n",
    "                                     **calibration_kwargs)\n",
    "    XGB_clf = CalibratedClassifierCV(XGBClassifier(**xgboost_kwargs),\n",
    "                                     **calibration_kwargs)\n",
    "    DT_clf = CalibratedClassifierCV(DecisionTreeClassifier(**decisiontree_kwargs),\n",
    "                                     **calibration_kwargs)\n",
    "    LR_clf = CalibratedClassifierCV(LogisticRegression(**logistic_kwargs),\n",
    "                                     **calibration_kwargs)\n",
    "else:\n",
    "    RF_clf = RandomForestClassifier(**randomforest_kwargs)\n",
    "    GBC_clf = GradientBoostingClassifier(**gradientboosting_kwargs)\n",
    "    XGB_clf = tree_utils.GenericCalibratedClassifier(XGBClassifier(**xgboost_kwargs))\n",
    "    DT_clf = DecisionTreeClassifier(**decisiontree_kwargs)\n",
    "    LR_clf = LogisticRegression(**logistic_kwargs)\n",
    "\n",
    "le_pipe_rf = Pipeline([\n",
    "    (\"CatEncoder\", _cat_enc),\n",
    "    (\"Impute\", _imputer),\n",
    "    (\"FeatureFilter\", _feature_filter),\n",
    "    (\"RandomForest\", RF_clf)])\n",
    "\n",
    "le_pipe_gbc = Pipeline([\n",
    "    (\"CatEncoder\", _cat_enc),\n",
    "    (\"Impute\", _imputer),\n",
    "    (\"FeatureFilter\", _feature_filter),\n",
    "    (\"GradientBoosting\", GBC_clf)])\n",
    "\n",
    "le_pipe_xgb = Pipeline([\n",
    "    (\"CatEncoder\", _cat_enc),\n",
    "    (\"Impute\", _imputer),\n",
    "    (\"FeatureFilter\", _feature_filter),\n",
    "    (\"XGBoost\", XGB_clf)])\n",
    "\n",
    "le_pipe_dt = Pipeline([\n",
    "    (\"CatEncoder\", _cat_enc),\n",
    "    (\"Impute\", _imputer),\n",
    "    (\"FeatureFilter\", _feature_filter),\n",
    "    (\"DecisionTree\", DT_clf)])\n",
    "\n",
    "le_pipe_lr = Pipeline([\n",
    "    (\"CatEncoder\", _cat_enc),\n",
    "    (\"Impute\", _imputer),\n",
    "    (\"FeatureFilter\", _feature_filter),\n",
    "    (\"LogisticRegression\", LR_clf)])\n",
    "\n",
    "PipeDict = {}\n",
    "#PipeDict['rf'] = le_pipe_rf\n",
    "#PipeDict['gbc'] = le_pipe_gbc\n",
    "PipeDict['xgb'] = le_pipe_xgb\n",
    "PipeDict['dt'] = le_pipe_dt\n",
    "PipeDict['lr'] = le_pipe_lr\n"
   ],
   "id": "b17720ea4e5a9c0f",
   "outputs": [],
   "execution_count": 12
  },
  {
   "metadata": {},
   "cell_type": "markdown",
   "source": "# Axis model",
   "id": "5af910b8b1a3657e"
  },
  {
   "metadata": {
    "ExecuteTime": {
     "end_time": "2024-07-31T13:39:46.600182Z",
     "start_time": "2024-07-31T13:39:46.400690Z"
    }
   },
   "cell_type": "code",
   "source": [
    "target_col = \"Heart Axis Diagnosis\"\n",
    "if not USE_REDUCED_LABELS:\n",
    "    target_inclusion = ['Left', 'Normal', 'Right']\n",
    "else:\n",
    "    target_inclusion = ['Left', 'Normal', 'Right', 'Extreme']\n",
    "    \n",
    "Reduction_map = {'Left': 'Disease', \n",
    "                 'Right': 'Disease',\n",
    "                 'Extreme': 'Disease',\n",
    "                 'Normal': 'Normal'}\n",
    "if ALL_FEATURES:\n",
    "    features_to_use = []\n",
    "else:\n",
    "    features_to_use = ['qrs_vector mean lead_0',\n",
    "                     'p_vector mean lead_0',\n",
    "                     't_vector mean lead_0',\n",
    "                     'qrs_vector mean lead_1',\n",
    "                     'p_vector mean lead_1',\n",
    "                     't_vector mean lead_1',\n",
    "                     'qrs_vector mean lead_2',\n",
    "                     'p_vector mean lead_2',\n",
    "                     't_vector mean lead_2',\n",
    "                     'qrs_vector mean lead_3',\n",
    "                     'p_vector mean lead_3',\n",
    "                     't_vector mean lead_3',\n",
    "                     'qrs_vector mean lead_4',\n",
    "                     'p_vector mean lead_4',\n",
    "                     't_vector mean lead_4',\n",
    "                     'qrs_vector mean lead_5',\n",
    "                     'p_vector mean lead_5',\n",
    "                     't_vector mean lead_5',\n",
    "                     'qrs_vector mean lead_6',\n",
    "                     'p_vector mean lead_6',\n",
    "                     't_vector mean lead_6',\n",
    "                     'qrs_vector mean lead_7',\n",
    "                     'p_vector mean lead_7',\n",
    "                     't_vector mean lead_7'\n",
    "                       ]"
   ],
   "id": "2b0a8c5759074ef9",
   "outputs": [],
   "execution_count": 13
  },
  {
   "metadata": {
    "ExecuteTime": {
     "end_time": "2024-07-31T13:39:47.250711Z",
     "start_time": "2024-07-31T13:39:46.606181Z"
    }
   },
   "cell_type": "code",
   "source": [
    "if len(features_to_use)==0:\n",
    "    meas_cols = [c for c in DATA.columns if ('Dataset' not in c) \n",
    "                 & (target_col not in c)\n",
    "                 & ('Diagnosis' not in c)]\n",
    "else:\n",
    "    meas_cols = features_to_use\n",
    "    \n",
    "fstring = f\"AXIS_{CLASS_WEIGHT_STRING}{ALL_FEATURES_STRING}{REDUCED_LABEL_STRING}{CALIBRATED_CLASSIFIER_STRING}{FEATURE_COMBO_STRING}\"\n",
    "os.makedirs(os.path.join(data_path, fstring), exist_ok=True)\n",
    "\n",
    "AXIS_DATA = DATA.loc[DATA[target_col].isin(target_inclusion), meas_cols+[target_col]+['Dataset']]\n",
    "if USE_REDUCED_LABELS:\n",
    "    AXIS_DATA.loc[:, target_col] = AXIS_DATA[target_col].map(Reduction_map)\n",
    "    \n",
    "AXIS_DATA.to_parquet(os.path.join(data_path, fstring, 'DATA.parquet'))\n",
    "AXIS_DATA = AXIS_DATA.drop('Dataset', axis=1)"
   ],
   "id": "aea10a2f941fc161",
   "outputs": [],
   "execution_count": 14
  },
  {
   "metadata": {},
   "cell_type": "markdown",
   "source": "### TRAINING LOOP",
   "id": "f8b76eb1c95fd94d"
  },
  {
   "metadata": {
    "ExecuteTime": {
     "end_time": "2024-07-31T13:39:47.436703Z",
     "start_time": "2024-07-31T13:39:47.252703Z"
    }
   },
   "cell_type": "code",
   "source": [
    "splitter = RepeatedStratifiedKFold(n_splits=num_splits, n_repeats=num_repeats, random_state=7)\n",
    "\n",
    "X = AXIS_DATA.iloc[:, :-1]\n",
    "Y = AXIS_DATA.iloc[:,-1]\n",
    "\n",
    "lb = LabelBinarizer()\n",
    "lbe = LabelEncoder()\n",
    "\n",
    " #(RES_LIST_AXIS[0]['Y_test'])\n",
    "Yenc = lbe.fit_transform(Y.values) #(RES_LIST_AXIS[0]['Y_test'])\n",
    "y_bin = lb.fit(Yenc)\n",
    "ClassMap_AXIS = {i:c for i,c in enumerate(lbe.classes_)}"
   ],
   "id": "8e9179e2af7f0304",
   "outputs": [],
   "execution_count": 15
  },
  {
   "metadata": {
    "ExecuteTime": {
     "end_time": "2024-07-31T13:39:47.591712Z",
     "start_time": "2024-07-31T13:39:47.438704Z"
    }
   },
   "cell_type": "code",
   "source": "ClassMap_AXIS",
   "id": "6bfc27e965a32c03",
   "outputs": [
    {
     "data": {
      "text/plain": [
       "{0: 'Left', 1: 'Normal', 2: 'Right'}"
      ]
     },
     "execution_count": 16,
     "metadata": {},
     "output_type": "execute_result"
    }
   ],
   "execution_count": 16
  },
  {
   "metadata": {
    "ExecuteTime": {
     "end_time": "2024-07-31T14:46:27.606783Z",
     "start_time": "2024-07-31T13:39:47.593705Z"
    }
   },
   "cell_type": "code",
   "source": [
    "RES_LIST_AXIS, RES_AXIS_DF, RES_AXIS_INDCS_DF = tree_utils.training_loop(X, Yenc, splitter, \n",
    "                              PipeDict, \n",
    "                              use_class_weights=USE_CLASS_WEIGHT, ClassMap=ClassMap_AXIS,\n",
    "                              num_splits=num_splits, num_repeats=num_repeats, make_df=True)"
   ],
   "id": "69d92546487d7101",
   "outputs": [
    {
     "name": "stderr",
     "output_type": "stream",
     "text": [
      "100%|██████████| 100/100 [1:06:39<00:00, 40.00s/it]\n"
     ]
    }
   ],
   "execution_count": 17
  },
  {
   "metadata": {
    "ExecuteTime": {
     "end_time": "2024-07-31T14:46:28.660811Z",
     "start_time": "2024-07-31T14:46:27.608776Z"
    }
   },
   "cell_type": "code",
   "source": [
    "RES_AXIS_DF.to_parquet(os.path.join(data_path, fstring, \"RESULTS.parquet\"))\n",
    "RES_AXIS_INDCS_DF.to_parquet(os.path.join(data_path, fstring, \"RESULTS_w_indices.parquet\"))"
   ],
   "id": "cbac039b03dfa334",
   "outputs": [],
   "execution_count": 18
  },
  {
   "metadata": {},
   "cell_type": "markdown",
   "source": "### make roc and precision recall curves",
   "id": "b83ba3a4c13171e7"
  },
  {
   "metadata": {
    "ExecuteTime": {
     "end_time": "2024-07-31T14:46:28.877817Z",
     "start_time": "2024-07-31T14:46:28.663811Z"
    }
   },
   "cell_type": "code",
   "source": "Y.value_counts()",
   "id": "6bedd5c9af9153e5",
   "outputs": [
    {
     "data": {
      "text/plain": [
       "Heart Axis Diagnosis\n",
       "Normal    1245\n",
       "Left       377\n",
       "Right       73\n",
       "Name: count, dtype: int64"
      ]
     },
     "execution_count": 19,
     "metadata": {},
     "output_type": "execute_result"
    }
   ],
   "execution_count": 19
  },
  {
   "metadata": {
    "ExecuteTime": {
     "end_time": "2024-07-31T14:46:29.094822Z",
     "start_time": "2024-07-31T14:46:28.880817Z"
    }
   },
   "cell_type": "code",
   "source": [
    "n_classes = len(lb.classes_)\n",
    "colors = ['blue', 'green', 'red', 'yellow', 'magenta', 'cyan', 'black']"
   ],
   "id": "5faf16ee09a870e5",
   "outputs": [],
   "execution_count": 20
  },
  {
   "metadata": {
    "ExecuteTime": {
     "end_time": "2024-07-31T14:46:36.085041Z",
     "start_time": "2024-07-31T14:46:29.097322Z"
    }
   },
   "cell_type": "code",
   "source": [
    "PLOTS_AXIS = tree_utils.make_plots(RES_LIST_AXIS, lb,  n_classes, \n",
    "                                   colors, ClassMap_AXIS,\n",
    "                                   output_map=os.path.join(data_path, fstring),\n",
    "                                   show_plot=False, \n",
    "                                   models = list(PipeDict.keys()),\n",
    "                                   plot_title=\"Heart Axis\")\n",
    "perf_list = tree_utils.get_performance(RES_LIST_AXIS, \n",
    "                                       threshold=1/n_classes,\n",
    "                                       ClassMap=ClassMap_AXIS, \n",
    "                                       models = list(PipeDict.keys()),\n",
    "                                       binarizer=lb)\n",
    "PERF_AXIS = pd.DataFrame(perf_list)"
   ],
   "id": "2b6620bf0e4e8e07",
   "outputs": [],
   "execution_count": 21
  },
  {
   "metadata": {
    "ExecuteTime": {
     "end_time": "2024-07-31T14:46:36.271047Z",
     "start_time": "2024-07-31T14:46:36.086542Z"
    }
   },
   "cell_type": "code",
   "source": "PERF_AXIS[['f1', 'precision', 'recall', 'specificity', 'model', 'Class']].groupby(['model', 'Class']).mean()",
   "id": "276127563cf1a9a8",
   "outputs": [
    {
     "data": {
      "text/plain": [
       "                    f1  precision    recall  specificity\n",
       "model Class                                             \n",
       "DT    Left    0.426666   0.499874  0.377831     0.889075\n",
       "      Normal  0.846938   0.734521  1.000000     0.000000\n",
       "      Right   0.000000   0.000000  0.000000     0.999877\n",
       "LR    Left    0.291768   0.445923  0.220704     0.918609\n",
       "      Normal  0.847873   0.736499  0.998955     0.011095\n",
       "      Right   0.056399   0.277778  0.035000     0.995374\n",
       "XGB   Left    0.545947   0.522145  0.579260     0.845532\n",
       "      Normal  0.851049   0.756201  0.973342     0.131321\n",
       "      Right   0.104394   0.406122  0.069464     0.994513"
      ],
      "text/html": [
       "<div>\n",
       "<style scoped>\n",
       "    .dataframe tbody tr th:only-of-type {\n",
       "        vertical-align: middle;\n",
       "    }\n",
       "\n",
       "    .dataframe tbody tr th {\n",
       "        vertical-align: top;\n",
       "    }\n",
       "\n",
       "    .dataframe thead th {\n",
       "        text-align: right;\n",
       "    }\n",
       "</style>\n",
       "<table border=\"1\" class=\"dataframe\">\n",
       "  <thead>\n",
       "    <tr style=\"text-align: right;\">\n",
       "      <th></th>\n",
       "      <th></th>\n",
       "      <th>f1</th>\n",
       "      <th>precision</th>\n",
       "      <th>recall</th>\n",
       "      <th>specificity</th>\n",
       "    </tr>\n",
       "    <tr>\n",
       "      <th>model</th>\n",
       "      <th>Class</th>\n",
       "      <th></th>\n",
       "      <th></th>\n",
       "      <th></th>\n",
       "      <th></th>\n",
       "    </tr>\n",
       "  </thead>\n",
       "  <tbody>\n",
       "    <tr>\n",
       "      <th rowspan=\"3\" valign=\"top\">DT</th>\n",
       "      <th>Left</th>\n",
       "      <td>0.426666</td>\n",
       "      <td>0.499874</td>\n",
       "      <td>0.377831</td>\n",
       "      <td>0.889075</td>\n",
       "    </tr>\n",
       "    <tr>\n",
       "      <th>Normal</th>\n",
       "      <td>0.846938</td>\n",
       "      <td>0.734521</td>\n",
       "      <td>1.000000</td>\n",
       "      <td>0.000000</td>\n",
       "    </tr>\n",
       "    <tr>\n",
       "      <th>Right</th>\n",
       "      <td>0.000000</td>\n",
       "      <td>0.000000</td>\n",
       "      <td>0.000000</td>\n",
       "      <td>0.999877</td>\n",
       "    </tr>\n",
       "    <tr>\n",
       "      <th rowspan=\"3\" valign=\"top\">LR</th>\n",
       "      <th>Left</th>\n",
       "      <td>0.291768</td>\n",
       "      <td>0.445923</td>\n",
       "      <td>0.220704</td>\n",
       "      <td>0.918609</td>\n",
       "    </tr>\n",
       "    <tr>\n",
       "      <th>Normal</th>\n",
       "      <td>0.847873</td>\n",
       "      <td>0.736499</td>\n",
       "      <td>0.998955</td>\n",
       "      <td>0.011095</td>\n",
       "    </tr>\n",
       "    <tr>\n",
       "      <th>Right</th>\n",
       "      <td>0.056399</td>\n",
       "      <td>0.277778</td>\n",
       "      <td>0.035000</td>\n",
       "      <td>0.995374</td>\n",
       "    </tr>\n",
       "    <tr>\n",
       "      <th rowspan=\"3\" valign=\"top\">XGB</th>\n",
       "      <th>Left</th>\n",
       "      <td>0.545947</td>\n",
       "      <td>0.522145</td>\n",
       "      <td>0.579260</td>\n",
       "      <td>0.845532</td>\n",
       "    </tr>\n",
       "    <tr>\n",
       "      <th>Normal</th>\n",
       "      <td>0.851049</td>\n",
       "      <td>0.756201</td>\n",
       "      <td>0.973342</td>\n",
       "      <td>0.131321</td>\n",
       "    </tr>\n",
       "    <tr>\n",
       "      <th>Right</th>\n",
       "      <td>0.104394</td>\n",
       "      <td>0.406122</td>\n",
       "      <td>0.069464</td>\n",
       "      <td>0.994513</td>\n",
       "    </tr>\n",
       "  </tbody>\n",
       "</table>\n",
       "</div>"
      ]
     },
     "execution_count": 22,
     "metadata": {},
     "output_type": "execute_result"
    }
   ],
   "execution_count": 22
  },
  {
   "metadata": {
    "ExecuteTime": {
     "end_time": "2024-07-31T14:46:40.890218Z",
     "start_time": "2024-07-31T14:46:36.273547Z"
    }
   },
   "cell_type": "code",
   "source": [
    "tree_utils.net_benefit_curve_plot(RES_AXIS_DF, true_col_prefix='Y_test',\n",
    "                                     pred_col_prefix='Y_pred',\n",
    "                                     output_path=os.path.join(data_path, fstring),\n",
    "                                     threshold_steps=20, \n",
    "                                     xlim=[0,0.5],\n",
    "                                     ylim=[-1,1],\n",
    "                                     plot_title=\"Heart Axis\")\n",
    "\n",
    "tree_utils.calibration_curve_plot(RES_AXIS_DF,\n",
    "                                   true_col_prefix='Y_test',\n",
    "                                   pred_col_prefix='Y_pred',\n",
    "                                   output_path=os.path.join(data_path, fstring),\n",
    "                                   n_bins=10,\n",
    "                                   plot_title=\"Heart Axis\",\n",
    "                                   show_plot=True)"
   ],
   "id": "fb9016e8da8d17b1",
   "outputs": [
    {
     "name": "stderr",
     "output_type": "stream",
     "text": [
      "T:\\laupodteam\\AIOS\\Bram\\notebooks\\code_dev\\miniECG_interpretation\\TreeBuilder\\sandbox\\..\\src\\tree_utils.py:253: RuntimeWarning: invalid value encountered in scalar divide\n",
      "  net_benefit = (tp - fp * threshold / (1 - threshold)) / N\n",
      "T:\\laupodteam\\AIOS\\Bram\\notebooks\\code_dev\\miniECG_interpretation\\TreeBuilder\\sandbox\\..\\src\\tree_utils.py:257: RuntimeWarning: divide by zero encountered in scalar divide\n",
      "  all_positive_benefit = tp/N - threshold / (1 - threshold)*(1-prevalence)\n",
      "T:\\laupodteam\\AIOS\\Bram\\notebooks\\code_dev\\miniECG_interpretation\\TreeBuilder\\sandbox\\..\\src\\tree_utils.py:253: RuntimeWarning: invalid value encountered in scalar divide\n",
      "  net_benefit = (tp - fp * threshold / (1 - threshold)) / N\n",
      "T:\\laupodteam\\AIOS\\Bram\\notebooks\\code_dev\\miniECG_interpretation\\TreeBuilder\\sandbox\\..\\src\\tree_utils.py:257: RuntimeWarning: divide by zero encountered in scalar divide\n",
      "  all_positive_benefit = tp/N - threshold / (1 - threshold)*(1-prevalence)\n",
      "T:\\laupodteam\\AIOS\\Bram\\notebooks\\code_dev\\miniECG_interpretation\\TreeBuilder\\sandbox\\..\\src\\tree_utils.py:253: RuntimeWarning: invalid value encountered in scalar divide\n",
      "  net_benefit = (tp - fp * threshold / (1 - threshold)) / N\n",
      "T:\\laupodteam\\AIOS\\Bram\\notebooks\\code_dev\\miniECG_interpretation\\TreeBuilder\\sandbox\\..\\src\\tree_utils.py:257: RuntimeWarning: divide by zero encountered in scalar divide\n",
      "  all_positive_benefit = tp/N - threshold / (1 - threshold)*(1-prevalence)\n",
      "T:\\laupodteam\\AIOS\\Bram\\notebooks\\code_dev\\miniECG_interpretation\\TreeBuilder\\sandbox\\..\\src\\tree_utils.py:253: RuntimeWarning: invalid value encountered in scalar divide\n",
      "  net_benefit = (tp - fp * threshold / (1 - threshold)) / N\n",
      "T:\\laupodteam\\AIOS\\Bram\\notebooks\\code_dev\\miniECG_interpretation\\TreeBuilder\\sandbox\\..\\src\\tree_utils.py:257: RuntimeWarning: divide by zero encountered in scalar divide\n",
      "  all_positive_benefit = tp/N - threshold / (1 - threshold)*(1-prevalence)\n",
      "T:\\laupodteam\\AIOS\\Bram\\notebooks\\code_dev\\miniECG_interpretation\\TreeBuilder\\sandbox\\..\\src\\tree_utils.py:253: RuntimeWarning: invalid value encountered in scalar divide\n",
      "  net_benefit = (tp - fp * threshold / (1 - threshold)) / N\n",
      "T:\\laupodteam\\AIOS\\Bram\\notebooks\\code_dev\\miniECG_interpretation\\TreeBuilder\\sandbox\\..\\src\\tree_utils.py:257: RuntimeWarning: divide by zero encountered in scalar divide\n",
      "  all_positive_benefit = tp/N - threshold / (1 - threshold)*(1-prevalence)\n",
      "T:\\laupodteam\\AIOS\\Bram\\notebooks\\code_dev\\miniECG_interpretation\\TreeBuilder\\sandbox\\..\\src\\tree_utils.py:253: RuntimeWarning: invalid value encountered in scalar divide\n",
      "  net_benefit = (tp - fp * threshold / (1 - threshold)) / N\n",
      "T:\\laupodteam\\AIOS\\Bram\\notebooks\\code_dev\\miniECG_interpretation\\TreeBuilder\\sandbox\\..\\src\\tree_utils.py:257: RuntimeWarning: divide by zero encountered in scalar divide\n",
      "  all_positive_benefit = tp/N - threshold / (1 - threshold)*(1-prevalence)\n",
      "T:\\laupodteam\\AIOS\\Bram\\notebooks\\code_dev\\miniECG_interpretation\\TreeBuilder\\sandbox\\..\\src\\tree_utils.py:253: RuntimeWarning: invalid value encountered in scalar divide\n",
      "  net_benefit = (tp - fp * threshold / (1 - threshold)) / N\n",
      "T:\\laupodteam\\AIOS\\Bram\\notebooks\\code_dev\\miniECG_interpretation\\TreeBuilder\\sandbox\\..\\src\\tree_utils.py:257: RuntimeWarning: divide by zero encountered in scalar divide\n",
      "  all_positive_benefit = tp/N - threshold / (1 - threshold)*(1-prevalence)\n",
      "T:\\laupodteam\\AIOS\\Bram\\notebooks\\code_dev\\miniECG_interpretation\\TreeBuilder\\sandbox\\..\\src\\tree_utils.py:253: RuntimeWarning: invalid value encountered in scalar divide\n",
      "  net_benefit = (tp - fp * threshold / (1 - threshold)) / N\n",
      "T:\\laupodteam\\AIOS\\Bram\\notebooks\\code_dev\\miniECG_interpretation\\TreeBuilder\\sandbox\\..\\src\\tree_utils.py:257: RuntimeWarning: divide by zero encountered in scalar divide\n",
      "  all_positive_benefit = tp/N - threshold / (1 - threshold)*(1-prevalence)\n",
      "T:\\laupodteam\\AIOS\\Bram\\notebooks\\code_dev\\miniECG_interpretation\\TreeBuilder\\sandbox\\..\\src\\tree_utils.py:253: RuntimeWarning: invalid value encountered in scalar divide\n",
      "  net_benefit = (tp - fp * threshold / (1 - threshold)) / N\n",
      "T:\\laupodteam\\AIOS\\Bram\\notebooks\\code_dev\\miniECG_interpretation\\TreeBuilder\\sandbox\\..\\src\\tree_utils.py:257: RuntimeWarning: divide by zero encountered in scalar divide\n",
      "  all_positive_benefit = tp/N - threshold / (1 - threshold)*(1-prevalence)\n"
     ]
    }
   ],
   "execution_count": 23
  },
  {
   "metadata": {},
   "cell_type": "markdown",
   "source": "# Muscle model",
   "id": "a040b2c8e742961e"
  },
  {
   "metadata": {
    "ExecuteTime": {
     "end_time": "2024-07-31T14:46:41.060728Z",
     "start_time": "2024-07-31T14:46:40.892193Z"
    }
   },
   "cell_type": "code",
   "source": [
    "target_col = \"Diagnosis\"\n",
    "target_inclusion = ['SR','LVH','Microvoltages']\n",
    "Reduction_map = {'Microvoltages': 'Disease', \n",
    "                 'LVH': 'Disease',\n",
    "                 'SR': 'Normal'}\n",
    "if ALL_FEATURES:\n",
    "    features_to_use = []\n",
    "else:\n",
    "    features_to_use = ['qrs_vector mean lead_0',\n",
    "                     'qrs_ampl mean lead_0',\n",
    "                     'qrs_vector mean lead_1',\n",
    "                     'qrs_ampl mean lead_1',\n",
    "                     'qrs_vector mean lead_2',\n",
    "                     'qrs_ampl mean lead_2',\n",
    "                     'qrs_vector mean lead_3',\n",
    "                     'qrs_ampl mean lead_3',\n",
    "                     'qrs_vector mean lead_4',\n",
    "                     'qrs_ampl mean lead_4',\n",
    "                     'qrs_vector mean lead_5',\n",
    "                     'qrs_ampl mean lead_5',\n",
    "                     'qrs_vector mean lead_6',\n",
    "                     'qrs_ampl mean lead_6',\n",
    "                     'qrs_vector mean lead_7',\n",
    "                     'qrs_ampl mean lead_7',\n",
    "                     'morphology lead_0',\n",
    "                     'morphology lead_1',\n",
    "                     'morphology lead_2',\n",
    "                     'morphology lead_3',\n",
    "                     'morphology lead_4',\n",
    "                     'morphology lead_5',\n",
    "                     'morphology lead_6',\n",
    "                     'morphology lead_7']"
   ],
   "id": "9d1fd628d813459a",
   "outputs": [],
   "execution_count": 24
  },
  {
   "metadata": {
    "ExecuteTime": {
     "end_time": "2024-07-31T14:46:41.231236Z",
     "start_time": "2024-07-31T14:46:41.062208Z"
    }
   },
   "cell_type": "code",
   "source": [
    "_cat_enc = PipeOrdEncoder\n",
    "for k in PipeDict.keys():\n",
    "    PipeDict[k].set_params(CatEncoder= _cat_enc)"
   ],
   "id": "b9ead5a0bf37213b",
   "outputs": [],
   "execution_count": 25
  },
  {
   "metadata": {
    "ExecuteTime": {
     "end_time": "2024-07-31T14:46:41.727218Z",
     "start_time": "2024-07-31T14:46:41.233708Z"
    }
   },
   "cell_type": "code",
   "source": [
    "if len(features_to_use)==0:\n",
    "    meas_cols = [c for c in DATA.columns if ('Dataset' not in c) \n",
    "                 & (target_col not in c)\n",
    "                 & (\"Heart Axis Diagnosis\" not in c)]\n",
    "else:\n",
    "    meas_cols = features_to_use\n",
    "    \n",
    "fstring = f\"MUSCLE_{CLASS_WEIGHT_STRING}{ALL_FEATURES_STRING}{REDUCED_LABEL_STRING}{CALIBRATED_CLASSIFIER_STRING}{FEATURE_COMBO_STRING}\"\n",
    "os.makedirs(os.path.join(data_path, fstring), exist_ok=True)\n",
    "\n",
    "MUSCLE_DATA = DATA.loc[DATA[target_col].apply(lambda x: any([c in x for c in target_inclusion])), \n",
    "                       meas_cols+[target_col]+['Dataset']]\n",
    "\n",
    "MUSCLE_DATA = MUSCLE_DATA.assign(Diagnosis=MUSCLE_DATA.Diagnosis.map({\n",
    "                                                            'SR': 'SR',\n",
    "                                                            'Microvoltages': 'Microvoltages',\n",
    "                                                            'LVH': 'LVH',\n",
    "                                                            'LAFB , LVH': 'LVH',\n",
    "                                                            'Microvoltages , BF': 'Microvoltages',\n",
    "                                                            'Microvoltages , RBBB': 'Microvoltages',\n",
    "                                                            'Microvoltages , LAFB': 'Microvoltages',\n",
    "                                                            'LVH , BF': 'LVH',\n",
    "                                                            'LVH , RBBB': 'LVH',\n",
    "                                                            'LVH , LBBB': 'LVH'\n",
    "                                                        }))\n",
    "\n",
    "if USE_REDUCED_LABELS:\n",
    "    MUSCLE_DATA.loc[:, target_col] = MUSCLE_DATA[target_col].map(Reduction_map)\n",
    "    \n",
    "MUSCLE_DATA.to_parquet(os.path.join(data_path, fstring, f'DATA.parquet'))\n",
    "MUSCLE_DATA = MUSCLE_DATA.drop('Dataset', axis=1)"
   ],
   "id": "26f49ef36ab8692",
   "outputs": [],
   "execution_count": 26
  },
  {
   "metadata": {},
   "cell_type": "markdown",
   "source": "## Training loop",
   "id": "a9cc5bc4b0e4bb08"
  },
  {
   "metadata": {
    "ExecuteTime": {
     "end_time": "2024-07-31T14:46:41.882223Z",
     "start_time": "2024-07-31T14:46:41.729222Z"
    }
   },
   "cell_type": "code",
   "source": [
    "splitter = RepeatedStratifiedKFold(n_splits=num_splits, n_repeats=num_repeats, random_state=7)\n",
    "X = MUSCLE_DATA.iloc[:, :-1]\n",
    "Y = MUSCLE_DATA.iloc[:,-1]\n",
    "\n",
    "lb = LabelBinarizer()\n",
    "lbe = LabelEncoder()\n",
    " #(RES_LIST_AXIS[0]['Y_test'])\n",
    "Yenc = lbe.fit_transform(Y.values) #(RES_LIST_AXIS[0]['Y_test'])\n",
    "lb.fit(Yenc)\n",
    "ClassMap_MUSCLE = {i:c for i,c in enumerate(lbe.classes_)}"
   ],
   "id": "65feafe3a20f9a45",
   "outputs": [],
   "execution_count": 27
  },
  {
   "metadata": {
    "ExecuteTime": {
     "end_time": "2024-07-31T14:46:42.037267Z",
     "start_time": "2024-07-31T14:46:41.884726Z"
    }
   },
   "cell_type": "code",
   "source": "ClassMap_MUSCLE",
   "id": "5f0121096cf31e5",
   "outputs": [
    {
     "data": {
      "text/plain": [
       "{0: 'LVH', 1: 'Microvoltages', 2: 'SR'}"
      ]
     },
     "execution_count": 28,
     "metadata": {},
     "output_type": "execute_result"
    }
   ],
   "execution_count": 28
  },
  {
   "metadata": {
    "ExecuteTime": {
     "end_time": "2024-07-31T15:41:27.709464Z",
     "start_time": "2024-07-31T14:46:42.039729Z"
    }
   },
   "cell_type": "code",
   "source": [
    "RES_LIST_MUSCLE, RES_MUSCLE_DF, RES_MUSCLE_INDCS_DF =\\\n",
    "    tree_utils.training_loop(X, Yenc, splitter, PipeDict,  \n",
    "                             use_class_weights=USE_CLASS_WEIGHT, \n",
    "                             ClassMap=ClassMap_MUSCLE, \n",
    "                             num_splits=num_splits, \n",
    "                             num_repeats=num_repeats, \n",
    "                             make_df=True)"
   ],
   "id": "3cf0fe7e343dfeab",
   "outputs": [
    {
     "name": "stderr",
     "output_type": "stream",
     "text": [
      "100%|██████████| 100/100 [54:45<00:00, 32.85s/it] \n"
     ]
    }
   ],
   "execution_count": 29
  },
  {
   "metadata": {
    "ExecuteTime": {
     "end_time": "2024-07-31T15:41:28.419884Z",
     "start_time": "2024-07-31T15:41:27.711441Z"
    }
   },
   "cell_type": "code",
   "source": [
    "RES_MUSCLE_DF.to_parquet(os.path.join(data_path, fstring, \"RESULTS.parquet\"))\n",
    "RES_MUSCLE_INDCS_DF.to_parquet(os.path.join(data_path, fstring, \"RESULTS_w_indices.parquet\"))"
   ],
   "id": "73a6cbf256be55f1",
   "outputs": [],
   "execution_count": 30
  },
  {
   "metadata": {},
   "cell_type": "markdown",
   "source": "### make roc and precision recall curves",
   "id": "2ce70375c9da0869"
  },
  {
   "metadata": {
    "ExecuteTime": {
     "end_time": "2024-07-31T15:41:28.574745Z",
     "start_time": "2024-07-31T15:41:28.421742Z"
    }
   },
   "cell_type": "code",
   "source": "Y.value_counts()",
   "id": "a24aa3b0b5e40444",
   "outputs": [
    {
     "data": {
      "text/plain": [
       "Diagnosis\n",
       "SR               649\n",
       "Microvoltages    215\n",
       "LVH              198\n",
       "Name: count, dtype: int64"
      ]
     },
     "execution_count": 31,
     "metadata": {},
     "output_type": "execute_result"
    }
   ],
   "execution_count": 31
  },
  {
   "metadata": {
    "ExecuteTime": {
     "end_time": "2024-07-31T15:41:28.714290Z",
     "start_time": "2024-07-31T15:41:28.576745Z"
    }
   },
   "cell_type": "code",
   "source": [
    "n_classes = len(lb.classes_)\n",
    "colors = ['blue', 'green', 'red', 'yellow', 'magenta', 'cyan', 'black']"
   ],
   "id": "a22535ee56ddb698",
   "outputs": [],
   "execution_count": 32
  },
  {
   "metadata": {
    "ExecuteTime": {
     "end_time": "2024-07-31T15:41:35.037596Z",
     "start_time": "2024-07-31T15:41:28.717759Z"
    }
   },
   "cell_type": "code",
   "source": [
    "PLOTS_MUSCLE = tree_utils.make_plots(RES_LIST_MUSCLE, lb,  n_classes, colors,\n",
    "                                     ClassMap_MUSCLE,\n",
    "                                     output_map=os.path.join(data_path, fstring),\n",
    "                                     show_plot=False,\n",
    "                                     models = list(PipeDict.keys()),\n",
    "                                     plot_title=\"Heart Muscle\")\n",
    "\n",
    "perf_list = tree_utils.get_performance(RES_LIST_MUSCLE, \n",
    "                                       threshold=1/n_classes, \n",
    "                                       ClassMap=ClassMap_MUSCLE, \n",
    "                                       models = list(PipeDict.keys()),\n",
    "                                       binarizer=lb)\n",
    "PERF_MUSCLE = pd.DataFrame(perf_list)"
   ],
   "id": "b1e8cc3894802668",
   "outputs": [],
   "execution_count": 33
  },
  {
   "metadata": {
    "ExecuteTime": {
     "end_time": "2024-07-31T15:41:35.177075Z",
     "start_time": "2024-07-31T15:41:35.039571Z"
    }
   },
   "cell_type": "code",
   "source": "PERF_MUSCLE[['f1', 'precision', 'recall', 'specificity', 'model', 'Class']].groupby(['model', 'Class']).mean()",
   "id": "3d3b70009b26d9a7",
   "outputs": [
    {
     "data": {
      "text/plain": [
       "                           f1  precision    recall  specificity\n",
       "model Class                                                    \n",
       "DT    LVH            0.578045   0.649932  0.531447     0.932392\n",
       "      Microvoltages  0.528123   0.522121  0.545844     0.869556\n",
       "      SR             0.775127   0.636727  0.990755     0.110738\n",
       "LR    LVH            0.516591   0.611504  0.457395     0.930552\n",
       "      Microvoltages  0.436028   0.475515  0.408442     0.883322\n",
       "      SR             0.795704   0.678422  0.962714     0.281156\n",
       "XGB   LVH            0.674969   0.704004  0.657158     0.934381\n",
       "      Microvoltages  0.616870   0.601799  0.640714     0.889632\n",
       "      SR             0.849117   0.775634  0.938978     0.570418"
      ],
      "text/html": [
       "<div>\n",
       "<style scoped>\n",
       "    .dataframe tbody tr th:only-of-type {\n",
       "        vertical-align: middle;\n",
       "    }\n",
       "\n",
       "    .dataframe tbody tr th {\n",
       "        vertical-align: top;\n",
       "    }\n",
       "\n",
       "    .dataframe thead th {\n",
       "        text-align: right;\n",
       "    }\n",
       "</style>\n",
       "<table border=\"1\" class=\"dataframe\">\n",
       "  <thead>\n",
       "    <tr style=\"text-align: right;\">\n",
       "      <th></th>\n",
       "      <th></th>\n",
       "      <th>f1</th>\n",
       "      <th>precision</th>\n",
       "      <th>recall</th>\n",
       "      <th>specificity</th>\n",
       "    </tr>\n",
       "    <tr>\n",
       "      <th>model</th>\n",
       "      <th>Class</th>\n",
       "      <th></th>\n",
       "      <th></th>\n",
       "      <th></th>\n",
       "      <th></th>\n",
       "    </tr>\n",
       "  </thead>\n",
       "  <tbody>\n",
       "    <tr>\n",
       "      <th rowspan=\"3\" valign=\"top\">DT</th>\n",
       "      <th>LVH</th>\n",
       "      <td>0.578045</td>\n",
       "      <td>0.649932</td>\n",
       "      <td>0.531447</td>\n",
       "      <td>0.932392</td>\n",
       "    </tr>\n",
       "    <tr>\n",
       "      <th>Microvoltages</th>\n",
       "      <td>0.528123</td>\n",
       "      <td>0.522121</td>\n",
       "      <td>0.545844</td>\n",
       "      <td>0.869556</td>\n",
       "    </tr>\n",
       "    <tr>\n",
       "      <th>SR</th>\n",
       "      <td>0.775127</td>\n",
       "      <td>0.636727</td>\n",
       "      <td>0.990755</td>\n",
       "      <td>0.110738</td>\n",
       "    </tr>\n",
       "    <tr>\n",
       "      <th rowspan=\"3\" valign=\"top\">LR</th>\n",
       "      <th>LVH</th>\n",
       "      <td>0.516591</td>\n",
       "      <td>0.611504</td>\n",
       "      <td>0.457395</td>\n",
       "      <td>0.930552</td>\n",
       "    </tr>\n",
       "    <tr>\n",
       "      <th>Microvoltages</th>\n",
       "      <td>0.436028</td>\n",
       "      <td>0.475515</td>\n",
       "      <td>0.408442</td>\n",
       "      <td>0.883322</td>\n",
       "    </tr>\n",
       "    <tr>\n",
       "      <th>SR</th>\n",
       "      <td>0.795704</td>\n",
       "      <td>0.678422</td>\n",
       "      <td>0.962714</td>\n",
       "      <td>0.281156</td>\n",
       "    </tr>\n",
       "    <tr>\n",
       "      <th rowspan=\"3\" valign=\"top\">XGB</th>\n",
       "      <th>LVH</th>\n",
       "      <td>0.674969</td>\n",
       "      <td>0.704004</td>\n",
       "      <td>0.657158</td>\n",
       "      <td>0.934381</td>\n",
       "    </tr>\n",
       "    <tr>\n",
       "      <th>Microvoltages</th>\n",
       "      <td>0.616870</td>\n",
       "      <td>0.601799</td>\n",
       "      <td>0.640714</td>\n",
       "      <td>0.889632</td>\n",
       "    </tr>\n",
       "    <tr>\n",
       "      <th>SR</th>\n",
       "      <td>0.849117</td>\n",
       "      <td>0.775634</td>\n",
       "      <td>0.938978</td>\n",
       "      <td>0.570418</td>\n",
       "    </tr>\n",
       "  </tbody>\n",
       "</table>\n",
       "</div>"
      ]
     },
     "execution_count": 34,
     "metadata": {},
     "output_type": "execute_result"
    }
   ],
   "execution_count": 34
  },
  {
   "metadata": {
    "ExecuteTime": {
     "end_time": "2024-07-31T15:41:40.447191Z",
     "start_time": "2024-07-31T15:41:35.179074Z"
    }
   },
   "cell_type": "code",
   "source": [
    "tree_utils.net_benefit_curve_plot(RES_MUSCLE_DF, true_col_prefix='Y_test',\n",
    "                                     pred_col_prefix='Y_pred',\n",
    "                                     output_path=os.path.join(data_path, fstring),\n",
    "                                     threshold_steps=20, \n",
    "                                     xlim=[0,0.5],\n",
    "                                     ylim=[-1,1],\n",
    "                                     plot_title=\"Heart Muscle\")\n",
    "\n",
    "tree_utils.calibration_curve_plot(RES_MUSCLE_DF,\n",
    "                                   true_col_prefix='Y_test',\n",
    "                                   pred_col_prefix='Y_pred',\n",
    "                                   output_path=os.path.join(data_path, fstring),\n",
    "                                   n_bins=10,\n",
    "                                   plot_title=\"Heart Muscle\",\n",
    "                                   show_plot=True)"
   ],
   "id": "dbdc874b90d7ca84",
   "outputs": [
    {
     "name": "stderr",
     "output_type": "stream",
     "text": [
      "T:\\laupodteam\\AIOS\\Bram\\notebooks\\code_dev\\miniECG_interpretation\\TreeBuilder\\sandbox\\..\\src\\tree_utils.py:253: RuntimeWarning: invalid value encountered in scalar divide\n",
      "  net_benefit = (tp - fp * threshold / (1 - threshold)) / N\n",
      "T:\\laupodteam\\AIOS\\Bram\\notebooks\\code_dev\\miniECG_interpretation\\TreeBuilder\\sandbox\\..\\src\\tree_utils.py:257: RuntimeWarning: divide by zero encountered in scalar divide\n",
      "  all_positive_benefit = tp/N - threshold / (1 - threshold)*(1-prevalence)\n",
      "T:\\laupodteam\\AIOS\\Bram\\notebooks\\code_dev\\miniECG_interpretation\\TreeBuilder\\sandbox\\..\\src\\tree_utils.py:253: RuntimeWarning: invalid value encountered in scalar divide\n",
      "  net_benefit = (tp - fp * threshold / (1 - threshold)) / N\n",
      "T:\\laupodteam\\AIOS\\Bram\\notebooks\\code_dev\\miniECG_interpretation\\TreeBuilder\\sandbox\\..\\src\\tree_utils.py:257: RuntimeWarning: divide by zero encountered in scalar divide\n",
      "  all_positive_benefit = tp/N - threshold / (1 - threshold)*(1-prevalence)\n",
      "T:\\laupodteam\\AIOS\\Bram\\notebooks\\code_dev\\miniECG_interpretation\\TreeBuilder\\sandbox\\..\\src\\tree_utils.py:253: RuntimeWarning: invalid value encountered in scalar divide\n",
      "  net_benefit = (tp - fp * threshold / (1 - threshold)) / N\n",
      "T:\\laupodteam\\AIOS\\Bram\\notebooks\\code_dev\\miniECG_interpretation\\TreeBuilder\\sandbox\\..\\src\\tree_utils.py:257: RuntimeWarning: divide by zero encountered in scalar divide\n",
      "  all_positive_benefit = tp/N - threshold / (1 - threshold)*(1-prevalence)\n",
      "T:\\laupodteam\\AIOS\\Bram\\notebooks\\code_dev\\miniECG_interpretation\\TreeBuilder\\sandbox\\..\\src\\tree_utils.py:253: RuntimeWarning: invalid value encountered in scalar divide\n",
      "  net_benefit = (tp - fp * threshold / (1 - threshold)) / N\n",
      "T:\\laupodteam\\AIOS\\Bram\\notebooks\\code_dev\\miniECG_interpretation\\TreeBuilder\\sandbox\\..\\src\\tree_utils.py:257: RuntimeWarning: divide by zero encountered in scalar divide\n",
      "  all_positive_benefit = tp/N - threshold / (1 - threshold)*(1-prevalence)\n",
      "T:\\laupodteam\\AIOS\\Bram\\notebooks\\code_dev\\miniECG_interpretation\\TreeBuilder\\sandbox\\..\\src\\tree_utils.py:253: RuntimeWarning: invalid value encountered in scalar divide\n",
      "  net_benefit = (tp - fp * threshold / (1 - threshold)) / N\n",
      "T:\\laupodteam\\AIOS\\Bram\\notebooks\\code_dev\\miniECG_interpretation\\TreeBuilder\\sandbox\\..\\src\\tree_utils.py:257: RuntimeWarning: divide by zero encountered in scalar divide\n",
      "  all_positive_benefit = tp/N - threshold / (1 - threshold)*(1-prevalence)\n",
      "T:\\laupodteam\\AIOS\\Bram\\notebooks\\code_dev\\miniECG_interpretation\\TreeBuilder\\sandbox\\..\\src\\tree_utils.py:253: RuntimeWarning: invalid value encountered in scalar divide\n",
      "  net_benefit = (tp - fp * threshold / (1 - threshold)) / N\n",
      "T:\\laupodteam\\AIOS\\Bram\\notebooks\\code_dev\\miniECG_interpretation\\TreeBuilder\\sandbox\\..\\src\\tree_utils.py:257: RuntimeWarning: divide by zero encountered in scalar divide\n",
      "  all_positive_benefit = tp/N - threshold / (1 - threshold)*(1-prevalence)\n",
      "T:\\laupodteam\\AIOS\\Bram\\notebooks\\code_dev\\miniECG_interpretation\\TreeBuilder\\sandbox\\..\\src\\tree_utils.py:253: RuntimeWarning: invalid value encountered in scalar divide\n",
      "  net_benefit = (tp - fp * threshold / (1 - threshold)) / N\n",
      "T:\\laupodteam\\AIOS\\Bram\\notebooks\\code_dev\\miniECG_interpretation\\TreeBuilder\\sandbox\\..\\src\\tree_utils.py:257: RuntimeWarning: divide by zero encountered in scalar divide\n",
      "  all_positive_benefit = tp/N - threshold / (1 - threshold)*(1-prevalence)\n",
      "T:\\laupodteam\\AIOS\\Bram\\notebooks\\code_dev\\miniECG_interpretation\\TreeBuilder\\sandbox\\..\\src\\tree_utils.py:253: RuntimeWarning: invalid value encountered in scalar divide\n",
      "  net_benefit = (tp - fp * threshold / (1 - threshold)) / N\n",
      "T:\\laupodteam\\AIOS\\Bram\\notebooks\\code_dev\\miniECG_interpretation\\TreeBuilder\\sandbox\\..\\src\\tree_utils.py:257: RuntimeWarning: divide by zero encountered in scalar divide\n",
      "  all_positive_benefit = tp/N - threshold / (1 - threshold)*(1-prevalence)\n",
      "T:\\laupodteam\\AIOS\\Bram\\notebooks\\code_dev\\miniECG_interpretation\\TreeBuilder\\sandbox\\..\\src\\tree_utils.py:253: RuntimeWarning: invalid value encountered in scalar divide\n",
      "  net_benefit = (tp - fp * threshold / (1 - threshold)) / N\n",
      "T:\\laupodteam\\AIOS\\Bram\\notebooks\\code_dev\\miniECG_interpretation\\TreeBuilder\\sandbox\\..\\src\\tree_utils.py:257: RuntimeWarning: divide by zero encountered in scalar divide\n",
      "  all_positive_benefit = tp/N - threshold / (1 - threshold)*(1-prevalence)\n"
     ]
    }
   ],
   "execution_count": 35
  },
  {
   "metadata": {},
   "cell_type": "markdown",
   "source": "# Conduction model",
   "id": "f288241a0f7e1e34"
  },
  {
   "metadata": {
    "ExecuteTime": {
     "end_time": "2024-07-31T15:41:40.741698Z",
     "start_time": "2024-07-31T15:41:40.449192Z"
    }
   },
   "cell_type": "code",
   "source": [
    "target_col = \"Diagnosis\"\n",
    "target_inclusion = ['BF', 'LBBB','RBBB','LAFB', 'SR']\n",
    "Reduction_map = {'BF': 'Disease', \n",
    "                 'LBBB': 'Disease', \n",
    "                 'RBBB': 'Disease',\n",
    "                 'LAFB': 'Disease',\n",
    "                 'SR': 'Normal'}\n",
    "features_to_use = []\n",
    "_cat_enc = PipeOrdEncoder\n",
    "for k in PipeDict.keys():\n",
    "    PipeDict[k].set_params(CatEncoder= _cat_enc)"
   ],
   "id": "8208fa606e99709c",
   "outputs": [],
   "execution_count": 36
  },
  {
   "metadata": {
    "ExecuteTime": {
     "end_time": "2024-07-31T15:41:41.547721Z",
     "start_time": "2024-07-31T15:41:40.744700Z"
    }
   },
   "cell_type": "code",
   "source": [
    "if len(features_to_use)==0:\n",
    "    meas_cols = [c for c in DATA.columns if ('Dataset' not in c) \n",
    "                 & (target_col not in c)\n",
    "                 & (\"Heart Axis Diagnosis\" not in c)]\n",
    "else:\n",
    "    meas_cols = features_to_use\n",
    "    \n",
    "fstring = f\"CONDUCTION{CLASS_WEIGHT_STRING}{ALL_FEATURES_STRING}{REDUCED_LABEL_STRING}{CALIBRATED_CLASSIFIER_STRING}{FEATURE_COMBO_STRING}\"\n",
    "os.makedirs(os.path.join(data_path, fstring), exist_ok=True)\n",
    "\n",
    "CONDUCTION_DATA = DATA.loc[DATA[target_col].apply(lambda x: any([c in x for c in target_inclusion])),  meas_cols+[target_col]+['Dataset']]\n",
    "\n",
    "CONDUCTION_DATA = CONDUCTION_DATA.assign(Diagnosis=CONDUCTION_DATA.Diagnosis.map({\n",
    "                                                                'SR': 'SR',\n",
    "                                                                'BF': 'BF',\n",
    "                                                                'RBBB': 'RBBB',\n",
    "                                                                'LBBB': 'LBBB',\n",
    "                                                                'LAFB': 'LAFB',\n",
    "                                                                'LAFB , LVH': 'LAFB',\n",
    "                                                                'Microvoltages , BF': 'BF',\n",
    "                                                                'Microvoltages , RBBB': 'RBBB',\n",
    "                                                                'Microvoltages , LAFB': 'LAFB', \n",
    "                                                                'LVH , BF': 'BF',\n",
    "                                                                'LVH , RBBB': 'RBBB',\n",
    "                                                                'LVH , LBBB': 'LBBB'\n",
    "                                                            }))\n",
    "if USE_REDUCED_LABELS:\n",
    "    CONDUCTION_DATA.loc[:, target_col] = CONDUCTION_DATA[target_col].map(Reduction_map)\n",
    "    \n",
    "CONDUCTION_DATA.to_parquet(os.path.join(data_path, fstring, 'CONDUCTION.parquet'))\n",
    "CONDUCTION_DATA = CONDUCTION_DATA.drop('Dataset', axis=1)"
   ],
   "id": "13961e3c61f51dcf",
   "outputs": [],
   "execution_count": 37
  },
  {
   "metadata": {},
   "cell_type": "markdown",
   "source": "## Training loop",
   "id": "cc77f778e5ba6dc3"
  },
  {
   "metadata": {
    "ExecuteTime": {
     "end_time": "2024-07-31T15:41:41.749219Z",
     "start_time": "2024-07-31T15:41:41.550217Z"
    }
   },
   "cell_type": "code",
   "source": [
    "splitter = RepeatedStratifiedKFold(n_splits=num_splits, n_repeats=num_repeats, random_state=7)\n",
    "X = CONDUCTION_DATA.iloc[:, :-1]\n",
    "Y = CONDUCTION_DATA.iloc[:,-1]\n",
    "\n",
    "lb = LabelBinarizer()\n",
    "lbe = LabelEncoder()\n",
    "Yenc = lbe.fit_transform(Y)\n",
    "lb.fit(Yenc)    \n",
    "ClassMap_CONDUCTION = {i:c for i,c in enumerate(lbe.classes_)}"
   ],
   "id": "6c063168d558da7a",
   "outputs": [],
   "execution_count": 38
  },
  {
   "metadata": {
    "ExecuteTime": {
     "end_time": "2024-07-31T15:41:41.935225Z",
     "start_time": "2024-07-31T15:41:41.751720Z"
    }
   },
   "cell_type": "code",
   "source": "ClassMap_CONDUCTION",
   "id": "7d2e799addecd3dd",
   "outputs": [
    {
     "data": {
      "text/plain": [
       "{0: 'BF', 1: 'LAFB', 2: 'LBBB', 3: 'RBBB', 4: 'SR'}"
      ]
     },
     "execution_count": 39,
     "metadata": {},
     "output_type": "execute_result"
    }
   ],
   "execution_count": 39
  },
  {
   "metadata": {
    "ExecuteTime": {
     "end_time": "2024-07-31T17:29:25.527502Z",
     "start_time": "2024-07-31T15:41:41.937728Z"
    }
   },
   "cell_type": "code",
   "source": [
    "RES_LIST_CONDUCTION, RES_CONDUCTION_DF, RES_CONDUCTION_INDCS_DF = tree_utils.training_loop(X, Yenc, splitter, PipeDict,\n",
    "                                    use_class_weights=USE_CLASS_WEIGHT, \n",
    "                                    ClassMap=ClassMap_CONDUCTION,\n",
    "                                    num_splits=num_splits,num_repeats=num_repeats,\n",
    "                                    make_df=True)"
   ],
   "id": "4392a30a2cbe5aea",
   "outputs": [
    {
     "name": "stderr",
     "output_type": "stream",
     "text": [
      "100%|██████████| 100/100 [1:47:43<00:00, 64.63s/it]\n"
     ]
    }
   ],
   "execution_count": 40
  },
  {
   "metadata": {
    "ExecuteTime": {
     "end_time": "2024-07-31T17:29:26.672514Z",
     "start_time": "2024-07-31T17:29:25.533003Z"
    }
   },
   "cell_type": "code",
   "source": [
    "RES_CONDUCTION_DF.to_parquet(os.path.join(data_path, fstring, \"RESULTS.parquet\"))\n",
    "RES_CONDUCTION_INDCS_DF.to_parquet(os.path.join(data_path, fstring, \"RESULTS_w_indices.parquet\"))"
   ],
   "id": "85e6da4aa953ca6b",
   "outputs": [],
   "execution_count": 41
  },
  {
   "metadata": {},
   "cell_type": "markdown",
   "source": "### make roc and precision recall curves",
   "id": "fb9808561967a6d3"
  },
  {
   "metadata": {
    "ExecuteTime": {
     "end_time": "2024-07-31T17:29:26.827516Z",
     "start_time": "2024-07-31T17:29:26.674985Z"
    }
   },
   "cell_type": "code",
   "source": "Y.value_counts()",
   "id": "4ae73bcfe00c24c3",
   "outputs": [
    {
     "data": {
      "text/plain": [
       "Diagnosis\n",
       "SR      649\n",
       "RBBB    207\n",
       "BF      185\n",
       "LAFB    160\n",
       "LBBB    150\n",
       "Name: count, dtype: int64"
      ]
     },
     "execution_count": 42,
     "metadata": {},
     "output_type": "execute_result"
    }
   ],
   "execution_count": 42
  },
  {
   "metadata": {
    "ExecuteTime": {
     "end_time": "2024-07-31T17:29:26.982486Z",
     "start_time": "2024-07-31T17:29:26.829488Z"
    }
   },
   "cell_type": "code",
   "source": [
    "n_classes = len(lb.classes_)\n",
    "colors = ['blue', 'green', 'red', 'yellow', 'magenta', 'cyan', 'black']"
   ],
   "id": "9ec0e390ff9b9722",
   "outputs": [],
   "execution_count": 43
  },
  {
   "metadata": {},
   "cell_type": "markdown",
   "source": "",
   "id": "11cf6bcf2eb9d9de"
  },
  {
   "metadata": {
    "ExecuteTime": {
     "end_time": "2024-07-31T17:29:37.724204Z",
     "start_time": "2024-07-31T17:29:26.983986Z"
    }
   },
   "cell_type": "code",
   "source": [
    "PLOTS_CONDUCTION = tree_utils.make_plots(RES_LIST_CONDUCTION, lb,  n_classes, colors,\n",
    "                                         ClassMap_CONDUCTION,\n",
    "                                         output_map=os.path.join(data_path, fstring),\n",
    "                                         show_plot=False,\n",
    "                                         models = list(PipeDict.keys()),\n",
    "                                         plot_title=\"Heart Conduction\")\n",
    "\n",
    "perf_list = tree_utils.get_performance(RES_LIST_CONDUCTION,\n",
    "                                       threshold=1/n_classes, \n",
    "                                       ClassMap=ClassMap_CONDUCTION,\n",
    "                                       models = list(PipeDict.keys()),\n",
    "                                       binarizer=lb)\n",
    "\n",
    "PERF_CONDUCTION = pd.DataFrame(perf_list)"
   ],
   "id": "59c90bef553b4566",
   "outputs": [],
   "execution_count": 44
  },
  {
   "metadata": {
    "ExecuteTime": {
     "end_time": "2024-07-31T17:29:37.879128Z",
     "start_time": "2024-07-31T17:29:37.728126Z"
    }
   },
   "cell_type": "code",
   "source": "PERF_CONDUCTION[['f1', 'precision', 'recall', 'specificity', 'model', 'Class']].groupby(['model', 'Class']).mean()",
   "id": "8c727dfb89c2dfb2",
   "outputs": [
    {
     "data": {
      "text/plain": [
       "                   f1  precision    recall  specificity\n",
       "model Class                                            \n",
       "DT    BF     0.532067   0.425943  0.714766     0.845623\n",
       "      LAFB   0.482745   0.402875  0.619375     0.871716\n",
       "      LBBB   0.707384   0.646674  0.792000     0.943881\n",
       "      RBBB   0.694413   0.591019  0.847000     0.892928\n",
       "      SR     0.872595   0.793830  0.969805     0.765346\n",
       "LR    BF     0.468127   0.328616  0.816082     0.734904\n",
       "      LAFB   0.312553   0.323387  0.312500     0.909238\n",
       "      LBBB   0.594088   0.472870  0.808000     0.884857\n",
       "      RBBB   0.600750   0.450394  0.906857     0.797737\n",
       "      SR     0.842902   0.731447  0.995072     0.660964\n",
       "XGB   BF     0.563185   0.451262  0.754912     0.852757\n",
       "      LAFB   0.590246   0.510872  0.708125     0.906972\n",
       "      LBBB   0.727168   0.721366  0.746667     0.961946\n",
       "      RBBB   0.715361   0.627077  0.839476     0.908312\n",
       "      SR     0.884781   0.813998  0.969808     0.793972"
      ],
      "text/html": [
       "<div>\n",
       "<style scoped>\n",
       "    .dataframe tbody tr th:only-of-type {\n",
       "        vertical-align: middle;\n",
       "    }\n",
       "\n",
       "    .dataframe tbody tr th {\n",
       "        vertical-align: top;\n",
       "    }\n",
       "\n",
       "    .dataframe thead th {\n",
       "        text-align: right;\n",
       "    }\n",
       "</style>\n",
       "<table border=\"1\" class=\"dataframe\">\n",
       "  <thead>\n",
       "    <tr style=\"text-align: right;\">\n",
       "      <th></th>\n",
       "      <th></th>\n",
       "      <th>f1</th>\n",
       "      <th>precision</th>\n",
       "      <th>recall</th>\n",
       "      <th>specificity</th>\n",
       "    </tr>\n",
       "    <tr>\n",
       "      <th>model</th>\n",
       "      <th>Class</th>\n",
       "      <th></th>\n",
       "      <th></th>\n",
       "      <th></th>\n",
       "      <th></th>\n",
       "    </tr>\n",
       "  </thead>\n",
       "  <tbody>\n",
       "    <tr>\n",
       "      <th rowspan=\"5\" valign=\"top\">DT</th>\n",
       "      <th>BF</th>\n",
       "      <td>0.532067</td>\n",
       "      <td>0.425943</td>\n",
       "      <td>0.714766</td>\n",
       "      <td>0.845623</td>\n",
       "    </tr>\n",
       "    <tr>\n",
       "      <th>LAFB</th>\n",
       "      <td>0.482745</td>\n",
       "      <td>0.402875</td>\n",
       "      <td>0.619375</td>\n",
       "      <td>0.871716</td>\n",
       "    </tr>\n",
       "    <tr>\n",
       "      <th>LBBB</th>\n",
       "      <td>0.707384</td>\n",
       "      <td>0.646674</td>\n",
       "      <td>0.792000</td>\n",
       "      <td>0.943881</td>\n",
       "    </tr>\n",
       "    <tr>\n",
       "      <th>RBBB</th>\n",
       "      <td>0.694413</td>\n",
       "      <td>0.591019</td>\n",
       "      <td>0.847000</td>\n",
       "      <td>0.892928</td>\n",
       "    </tr>\n",
       "    <tr>\n",
       "      <th>SR</th>\n",
       "      <td>0.872595</td>\n",
       "      <td>0.793830</td>\n",
       "      <td>0.969805</td>\n",
       "      <td>0.765346</td>\n",
       "    </tr>\n",
       "    <tr>\n",
       "      <th rowspan=\"5\" valign=\"top\">LR</th>\n",
       "      <th>BF</th>\n",
       "      <td>0.468127</td>\n",
       "      <td>0.328616</td>\n",
       "      <td>0.816082</td>\n",
       "      <td>0.734904</td>\n",
       "    </tr>\n",
       "    <tr>\n",
       "      <th>LAFB</th>\n",
       "      <td>0.312553</td>\n",
       "      <td>0.323387</td>\n",
       "      <td>0.312500</td>\n",
       "      <td>0.909238</td>\n",
       "    </tr>\n",
       "    <tr>\n",
       "      <th>LBBB</th>\n",
       "      <td>0.594088</td>\n",
       "      <td>0.472870</td>\n",
       "      <td>0.808000</td>\n",
       "      <td>0.884857</td>\n",
       "    </tr>\n",
       "    <tr>\n",
       "      <th>RBBB</th>\n",
       "      <td>0.600750</td>\n",
       "      <td>0.450394</td>\n",
       "      <td>0.906857</td>\n",
       "      <td>0.797737</td>\n",
       "    </tr>\n",
       "    <tr>\n",
       "      <th>SR</th>\n",
       "      <td>0.842902</td>\n",
       "      <td>0.731447</td>\n",
       "      <td>0.995072</td>\n",
       "      <td>0.660964</td>\n",
       "    </tr>\n",
       "    <tr>\n",
       "      <th rowspan=\"5\" valign=\"top\">XGB</th>\n",
       "      <th>BF</th>\n",
       "      <td>0.563185</td>\n",
       "      <td>0.451262</td>\n",
       "      <td>0.754912</td>\n",
       "      <td>0.852757</td>\n",
       "    </tr>\n",
       "    <tr>\n",
       "      <th>LAFB</th>\n",
       "      <td>0.590246</td>\n",
       "      <td>0.510872</td>\n",
       "      <td>0.708125</td>\n",
       "      <td>0.906972</td>\n",
       "    </tr>\n",
       "    <tr>\n",
       "      <th>LBBB</th>\n",
       "      <td>0.727168</td>\n",
       "      <td>0.721366</td>\n",
       "      <td>0.746667</td>\n",
       "      <td>0.961946</td>\n",
       "    </tr>\n",
       "    <tr>\n",
       "      <th>RBBB</th>\n",
       "      <td>0.715361</td>\n",
       "      <td>0.627077</td>\n",
       "      <td>0.839476</td>\n",
       "      <td>0.908312</td>\n",
       "    </tr>\n",
       "    <tr>\n",
       "      <th>SR</th>\n",
       "      <td>0.884781</td>\n",
       "      <td>0.813998</td>\n",
       "      <td>0.969808</td>\n",
       "      <td>0.793972</td>\n",
       "    </tr>\n",
       "  </tbody>\n",
       "</table>\n",
       "</div>"
      ]
     },
     "execution_count": 45,
     "metadata": {},
     "output_type": "execute_result"
    }
   ],
   "execution_count": 45
  },
  {
   "metadata": {
    "ExecuteTime": {
     "end_time": "2024-07-31T17:29:45.846224Z",
     "start_time": "2024-07-31T17:29:37.881625Z"
    }
   },
   "cell_type": "code",
   "source": [
    "tree_utils.net_benefit_curve_plot(RES_CONDUCTION_DF, true_col_prefix='Y_test',\n",
    "                                     pred_col_prefix='Y_pred',\n",
    "                                     output_path=os.path.join(data_path, fstring),\n",
    "                                     threshold_steps=20, \n",
    "                                     xlim=[0,0.5],\n",
    "                                     ylim=[-1,1],\n",
    "                                     plot_title=\"Heart Conduction\")\n",
    "\n",
    "tree_utils.calibration_curve_plot(RES_CONDUCTION_DF,\n",
    "                                   true_col_prefix='Y_test',\n",
    "                                   pred_col_prefix='Y_pred',\n",
    "                                   output_path=os.path.join(data_path, fstring),\n",
    "                                   n_bins=10,\n",
    "                                   plot_title=\"Heart Conduction\",\n",
    "                                   show_plot=True)"
   ],
   "id": "54d2906bf2a27141",
   "outputs": [
    {
     "name": "stderr",
     "output_type": "stream",
     "text": [
      "T:\\laupodteam\\AIOS\\Bram\\notebooks\\code_dev\\miniECG_interpretation\\TreeBuilder\\sandbox\\..\\src\\tree_utils.py:253: RuntimeWarning: invalid value encountered in scalar divide\n",
      "  net_benefit = (tp - fp * threshold / (1 - threshold)) / N\n",
      "T:\\laupodteam\\AIOS\\Bram\\notebooks\\code_dev\\miniECG_interpretation\\TreeBuilder\\sandbox\\..\\src\\tree_utils.py:257: RuntimeWarning: divide by zero encountered in scalar divide\n",
      "  all_positive_benefit = tp/N - threshold / (1 - threshold)*(1-prevalence)\n",
      "T:\\laupodteam\\AIOS\\Bram\\notebooks\\code_dev\\miniECG_interpretation\\TreeBuilder\\sandbox\\..\\src\\tree_utils.py:253: RuntimeWarning: invalid value encountered in scalar divide\n",
      "  net_benefit = (tp - fp * threshold / (1 - threshold)) / N\n",
      "T:\\laupodteam\\AIOS\\Bram\\notebooks\\code_dev\\miniECG_interpretation\\TreeBuilder\\sandbox\\..\\src\\tree_utils.py:257: RuntimeWarning: divide by zero encountered in scalar divide\n",
      "  all_positive_benefit = tp/N - threshold / (1 - threshold)*(1-prevalence)\n",
      "T:\\laupodteam\\AIOS\\Bram\\notebooks\\code_dev\\miniECG_interpretation\\TreeBuilder\\sandbox\\..\\src\\tree_utils.py:253: RuntimeWarning: invalid value encountered in scalar divide\n",
      "  net_benefit = (tp - fp * threshold / (1 - threshold)) / N\n",
      "T:\\laupodteam\\AIOS\\Bram\\notebooks\\code_dev\\miniECG_interpretation\\TreeBuilder\\sandbox\\..\\src\\tree_utils.py:257: RuntimeWarning: divide by zero encountered in scalar divide\n",
      "  all_positive_benefit = tp/N - threshold / (1 - threshold)*(1-prevalence)\n",
      "T:\\laupodteam\\AIOS\\Bram\\notebooks\\code_dev\\miniECG_interpretation\\TreeBuilder\\sandbox\\..\\src\\tree_utils.py:253: RuntimeWarning: invalid value encountered in scalar divide\n",
      "  net_benefit = (tp - fp * threshold / (1 - threshold)) / N\n",
      "T:\\laupodteam\\AIOS\\Bram\\notebooks\\code_dev\\miniECG_interpretation\\TreeBuilder\\sandbox\\..\\src\\tree_utils.py:257: RuntimeWarning: divide by zero encountered in scalar divide\n",
      "  all_positive_benefit = tp/N - threshold / (1 - threshold)*(1-prevalence)\n",
      "T:\\laupodteam\\AIOS\\Bram\\notebooks\\code_dev\\miniECG_interpretation\\TreeBuilder\\sandbox\\..\\src\\tree_utils.py:253: RuntimeWarning: invalid value encountered in scalar divide\n",
      "  net_benefit = (tp - fp * threshold / (1 - threshold)) / N\n",
      "T:\\laupodteam\\AIOS\\Bram\\notebooks\\code_dev\\miniECG_interpretation\\TreeBuilder\\sandbox\\..\\src\\tree_utils.py:257: RuntimeWarning: divide by zero encountered in scalar divide\n",
      "  all_positive_benefit = tp/N - threshold / (1 - threshold)*(1-prevalence)\n",
      "T:\\laupodteam\\AIOS\\Bram\\notebooks\\code_dev\\miniECG_interpretation\\TreeBuilder\\sandbox\\..\\src\\tree_utils.py:253: RuntimeWarning: invalid value encountered in scalar divide\n",
      "  net_benefit = (tp - fp * threshold / (1 - threshold)) / N\n",
      "T:\\laupodteam\\AIOS\\Bram\\notebooks\\code_dev\\miniECG_interpretation\\TreeBuilder\\sandbox\\..\\src\\tree_utils.py:257: RuntimeWarning: divide by zero encountered in scalar divide\n",
      "  all_positive_benefit = tp/N - threshold / (1 - threshold)*(1-prevalence)\n",
      "T:\\laupodteam\\AIOS\\Bram\\notebooks\\code_dev\\miniECG_interpretation\\TreeBuilder\\sandbox\\..\\src\\tree_utils.py:253: RuntimeWarning: invalid value encountered in scalar divide\n",
      "  net_benefit = (tp - fp * threshold / (1 - threshold)) / N\n",
      "T:\\laupodteam\\AIOS\\Bram\\notebooks\\code_dev\\miniECG_interpretation\\TreeBuilder\\sandbox\\..\\src\\tree_utils.py:257: RuntimeWarning: divide by zero encountered in scalar divide\n",
      "  all_positive_benefit = tp/N - threshold / (1 - threshold)*(1-prevalence)\n",
      "T:\\laupodteam\\AIOS\\Bram\\notebooks\\code_dev\\miniECG_interpretation\\TreeBuilder\\sandbox\\..\\src\\tree_utils.py:253: RuntimeWarning: invalid value encountered in scalar divide\n",
      "  net_benefit = (tp - fp * threshold / (1 - threshold)) / N\n",
      "T:\\laupodteam\\AIOS\\Bram\\notebooks\\code_dev\\miniECG_interpretation\\TreeBuilder\\sandbox\\..\\src\\tree_utils.py:257: RuntimeWarning: divide by zero encountered in scalar divide\n",
      "  all_positive_benefit = tp/N - threshold / (1 - threshold)*(1-prevalence)\n",
      "T:\\laupodteam\\AIOS\\Bram\\notebooks\\code_dev\\miniECG_interpretation\\TreeBuilder\\sandbox\\..\\src\\tree_utils.py:253: RuntimeWarning: invalid value encountered in scalar divide\n",
      "  net_benefit = (tp - fp * threshold / (1 - threshold)) / N\n",
      "T:\\laupodteam\\AIOS\\Bram\\notebooks\\code_dev\\miniECG_interpretation\\TreeBuilder\\sandbox\\..\\src\\tree_utils.py:257: RuntimeWarning: divide by zero encountered in scalar divide\n",
      "  all_positive_benefit = tp/N - threshold / (1 - threshold)*(1-prevalence)\n",
      "T:\\laupodteam\\AIOS\\Bram\\notebooks\\code_dev\\miniECG_interpretation\\TreeBuilder\\sandbox\\..\\src\\tree_utils.py:253: RuntimeWarning: invalid value encountered in scalar divide\n",
      "  net_benefit = (tp - fp * threshold / (1 - threshold)) / N\n",
      "T:\\laupodteam\\AIOS\\Bram\\notebooks\\code_dev\\miniECG_interpretation\\TreeBuilder\\sandbox\\..\\src\\tree_utils.py:257: RuntimeWarning: divide by zero encountered in scalar divide\n",
      "  all_positive_benefit = tp/N - threshold / (1 - threshold)*(1-prevalence)\n",
      "T:\\laupodteam\\AIOS\\Bram\\notebooks\\code_dev\\miniECG_interpretation\\TreeBuilder\\sandbox\\..\\src\\tree_utils.py:253: RuntimeWarning: invalid value encountered in scalar divide\n",
      "  net_benefit = (tp - fp * threshold / (1 - threshold)) / N\n",
      "T:\\laupodteam\\AIOS\\Bram\\notebooks\\code_dev\\miniECG_interpretation\\TreeBuilder\\sandbox\\..\\src\\tree_utils.py:257: RuntimeWarning: divide by zero encountered in scalar divide\n",
      "  all_positive_benefit = tp/N - threshold / (1 - threshold)*(1-prevalence)\n",
      "T:\\laupodteam\\AIOS\\Bram\\notebooks\\code_dev\\miniECG_interpretation\\TreeBuilder\\sandbox\\..\\src\\tree_utils.py:253: RuntimeWarning: invalid value encountered in scalar divide\n",
      "  net_benefit = (tp - fp * threshold / (1 - threshold)) / N\n",
      "T:\\laupodteam\\AIOS\\Bram\\notebooks\\code_dev\\miniECG_interpretation\\TreeBuilder\\sandbox\\..\\src\\tree_utils.py:257: RuntimeWarning: divide by zero encountered in scalar divide\n",
      "  all_positive_benefit = tp/N - threshold / (1 - threshold)*(1-prevalence)\n",
      "T:\\laupodteam\\AIOS\\Bram\\notebooks\\code_dev\\miniECG_interpretation\\TreeBuilder\\sandbox\\..\\src\\tree_utils.py:253: RuntimeWarning: invalid value encountered in scalar divide\n",
      "  net_benefit = (tp - fp * threshold / (1 - threshold)) / N\n",
      "T:\\laupodteam\\AIOS\\Bram\\notebooks\\code_dev\\miniECG_interpretation\\TreeBuilder\\sandbox\\..\\src\\tree_utils.py:257: RuntimeWarning: divide by zero encountered in scalar divide\n",
      "  all_positive_benefit = tp/N - threshold / (1 - threshold)*(1-prevalence)\n",
      "T:\\laupodteam\\AIOS\\Bram\\notebooks\\code_dev\\miniECG_interpretation\\TreeBuilder\\sandbox\\..\\src\\tree_utils.py:253: RuntimeWarning: invalid value encountered in scalar divide\n",
      "  net_benefit = (tp - fp * threshold / (1 - threshold)) / N\n",
      "T:\\laupodteam\\AIOS\\Bram\\notebooks\\code_dev\\miniECG_interpretation\\TreeBuilder\\sandbox\\..\\src\\tree_utils.py:257: RuntimeWarning: divide by zero encountered in scalar divide\n",
      "  all_positive_benefit = tp/N - threshold / (1 - threshold)*(1-prevalence)\n",
      "T:\\laupodteam\\AIOS\\Bram\\notebooks\\code_dev\\miniECG_interpretation\\TreeBuilder\\sandbox\\..\\src\\tree_utils.py:253: RuntimeWarning: invalid value encountered in scalar divide\n",
      "  net_benefit = (tp - fp * threshold / (1 - threshold)) / N\n",
      "T:\\laupodteam\\AIOS\\Bram\\notebooks\\code_dev\\miniECG_interpretation\\TreeBuilder\\sandbox\\..\\src\\tree_utils.py:257: RuntimeWarning: divide by zero encountered in scalar divide\n",
      "  all_positive_benefit = tp/N - threshold / (1 - threshold)*(1-prevalence)\n"
     ]
    }
   ],
   "execution_count": 46
  },
  {
   "metadata": {
    "ExecuteTime": {
     "end_time": "2024-07-31T17:29:45.861724Z",
     "start_time": "2024-07-31T17:29:45.848237Z"
    }
   },
   "cell_type": "code",
   "source": "",
   "id": "c2ad6a50ea3cb0be",
   "outputs": [],
   "execution_count": 46
  }
 ],
 "metadata": {
  "kernelspec": {
   "display_name": "Python 3 (base_310)",
   "language": "python",
   "name": "python3_base"
  },
  "language_info": {
   "codemirror_mode": {
    "name": "ipython",
    "version": 2
   },
   "file_extension": ".py",
   "mimetype": "text/x-python",
   "name": "python",
   "nbconvert_exporter": "python",
   "pygments_lexer": "ipython2",
   "version": "2.7.6"
  }
 },
 "nbformat": 4,
 "nbformat_minor": 5
}
