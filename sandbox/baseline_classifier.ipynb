{
 "cells": [
  {
   "cell_type": "code",
   "id": "initial_id",
   "metadata": {
    "collapsed": true,
    "ExecuteTime": {
     "end_time": "2024-07-30T13:42:06.771085Z",
     "start_time": "2024-07-30T13:42:06.581085Z"
    }
   },
   "source": [
    "%load_ext autoreload\n",
    "%autoreload 2\n",
    "import os\n",
    "import sys\n",
    "import numpy as np\n",
    "import scipy as sc\n",
    "from scipy import stats\n",
    "import pandas as pd\n",
    "import pickle\n",
    "import tqdm\n",
    "\n",
    "from typing import List, Callable\n",
    "\n",
    "from sklearn.pipeline import Pipeline, FeatureUnion\n",
    "from sklearn.compose import ColumnTransformer\n",
    "\n",
    "#from rulefit import RuleFit\n",
    "from sklearn.tree import DecisionTreeClassifier\n",
    "from sklearn.linear_model import BayesianRidge, LinearRegression, LogisticRegression, ElasticNet\n",
    "from sklearn.ensemble import RandomForestClassifier, GradientBoostingClassifier\n",
    "from xgboost import XGBClassifier\n",
    "from sklearn.model_selection import RepeatedStratifiedKFold, TunedThresholdClassifierCV\n",
    "from sklearn.preprocessing import LabelBinarizer, LabelEncoder\n",
    "#from category_encoders import JamesSteinEncoder, CatBoostEncoder\n",
    "from sklearn.preprocessing import OrdinalEncoder\n",
    "from sklearn.calibration import calibration_curve, CalibratedClassifierCV\n",
    "from sklearn.feature_selection import SelectFromModel\n",
    "\n",
    "from sklearn.metrics import roc_auc_score, f1_score, precision_score, recall_score, confusion_matrix, roc_curve, auc\n",
    "\n",
    "from sklearn.experimental import enable_iterative_imputer\n",
    "from sklearn.impute import IterativeImputer, SimpleImputer\n",
    "\n",
    "import matplotlib.pyplot as plt\n",
    "\n",
    "# add ../src to python path\n",
    "sys.path.insert(0, os.path.join(os.path.abspath('.'),'..', 'src'))\n",
    "\n",
    "import tree_utils"
   ],
   "outputs": [
    {
     "name": "stdout",
     "output_type": "stream",
     "text": [
      "The autoreload extension is already loaded. To reload it, use:\n",
      "  %reload_ext autoreload\n"
     ]
    }
   ],
   "execution_count": 62
  },
  {
   "metadata": {
    "ExecuteTime": {
     "end_time": "2024-07-30T13:42:07.359809Z",
     "start_time": "2024-07-30T13:42:07.160794Z"
    }
   },
   "cell_type": "code",
   "source": "import seaborn as sns",
   "id": "c69a406082cb40f9",
   "outputs": [],
   "execution_count": 63
  },
  {
   "metadata": {
    "ExecuteTime": {
     "end_time": "2024-07-30T13:42:07.576799Z",
     "start_time": "2024-07-30T13:42:07.362797Z"
    }
   },
   "cell_type": "code",
   "source": [
    "from sklearn.datasets import make_classification\n",
    "from sklearn.model_selection import train_test_split\n",
    "from sklearn.metrics import brier_score_loss\n",
    "from sklearn.calibration import calibration_curve"
   ],
   "id": "b04f33174833105c",
   "outputs": [],
   "execution_count": 64
  },
  {
   "metadata": {
    "ExecuteTime": {
     "end_time": "2024-07-30T13:42:07.778303Z",
     "start_time": "2024-07-30T13:42:07.579299Z"
    }
   },
   "cell_type": "code",
   "source": [
    "# Try from sklego.meta import HierarchicalClassifier\n",
    "# hc = HierarchicalClassifier(\n",
    "#    estimator=LogisticRegression(),\n",
    "#    groups=groups\n",
    "#).fit(X, y)\n",
    "#hc.estimators_"
   ],
   "id": "2da11eab31e03653",
   "outputs": [],
   "execution_count": 65
  },
  {
   "metadata": {
    "ExecuteTime": {
     "end_time": "2024-07-30T13:42:07.995306Z",
     "start_time": "2024-07-30T13:42:07.781802Z"
    }
   },
   "cell_type": "code",
   "source": [
    "data_path =  r\"J:\\Onderzoek\\21-763_rvanes_MiniECG-2-Data\\E_ResearchData\\2_ResearchData\\Analysis\"\n",
    "file_name =  r\"input_decision_tree_complete.pkl\"\n",
    "\n",
    "num_splits = 10\n",
    "num_repeats = 10\n",
    "MAX_FEATURES = 100 # only relevant if USE_LEAD_COMBOS is True\n",
    "USE_CLASS_WEIGHT = False\n",
    "ALL_FEATURES = True\n",
    "USE_REDUCED_LABELS = True\n",
    "USE_CALIBRATED_CLASSIFIER = True\n",
    "USE_LEAD_COMBOS = False\n",
    "COMBO_WITH_FEATURE_FILTER = False \n",
    "ALL_FEATURES_STRING = \"_useAllvars\" if ALL_FEATURES else \"\"\n",
    "CLASS_WEIGHT_STRING = \"_withClassWeights\" if USE_CLASS_WEIGHT else \"\"\n",
    "REDUCED_LABEL_STRING = \"_withReducedLabels\" if USE_REDUCED_LABELS else \"\"\n",
    "CALIBRATED_CLASSIFIER_STRING = \"_withCalibratedClassifier\" if USE_CALIBRATED_CLASSIFIER else \"\"\n",
    "FEATURE_COMBO_STRING = \"_withLeadCombos\" if USE_LEAD_COMBOS else \"\""
   ],
   "id": "b287448247b39c96",
   "outputs": [],
   "execution_count": 66
  },
  {
   "metadata": {
    "ExecuteTime": {
     "end_time": "2024-07-30T13:42:08.289811Z",
     "start_time": "2024-07-30T13:42:07.997309Z"
    }
   },
   "cell_type": "code",
   "source": [
    "with open(os.path.join(data_path, file_name), 'rb') as f:\n",
    "    input_decision_tree_complete = pickle.load(f)"
   ],
   "id": "4c8568e7c45a3b69",
   "outputs": [],
   "execution_count": 67
  },
  {
   "metadata": {
    "ExecuteTime": {
     "end_time": "2024-07-30T13:42:08.537834Z",
     "start_time": "2024-07-30T13:42:08.291811Z"
    }
   },
   "cell_type": "code",
   "source": "DATA = pd.DataFrame(input_decision_tree_complete).T",
   "id": "6d358b6d09bb7abf",
   "outputs": [],
   "execution_count": 68
  },
  {
   "metadata": {
    "ExecuteTime": {
     "end_time": "2024-07-30T13:42:08.739314Z",
     "start_time": "2024-07-30T13:42:08.540814Z"
    }
   },
   "cell_type": "code",
   "source": [
    "morphology_columns = [c for c in DATA.columns if 'morphology' in c]\n",
    "lead_columns = [c for c in DATA.columns if ('lead' in c) & ('morphology' not in c)]\n",
    "\n",
    "for c in morphology_columns:\n",
    "    DATA.loc[:, c] = DATA[c].apply(lambda x: x[0].strip(\",\").strip(\" \"))\n",
    "    DATA.loc[:, c] = DATA[c].apply(lambda x: x if x.strip()!=\"\" else \"none\")"
   ],
   "id": "140fe6b8f4ccc11c",
   "outputs": [],
   "execution_count": 69
  },
  {
   "metadata": {
    "ExecuteTime": {
     "end_time": "2024-07-30T13:42:08.909822Z",
     "start_time": "2024-07-30T13:42:08.741316Z"
    }
   },
   "cell_type": "code",
   "source": [
    "morphology_values = []\n",
    "for c in morphology_columns:\n",
    "    morphology_values.extend(DATA[c].unique().tolist())\n",
    "morphology_values = list(set(morphology_values))"
   ],
   "id": "eda403d789cb7adb",
   "outputs": [],
   "execution_count": 70
  },
  {
   "metadata": {
    "ExecuteTime": {
     "end_time": "2024-07-30T13:42:09.064853Z",
     "start_time": "2024-07-30T13:42:08.913822Z"
    }
   },
   "cell_type": "code",
   "source": [
    "ComboFunctions = {\n",
    "    'AbsFactor' : lambda x,y: abs(x-y) # np.sign(x*y)*np.sqrt(np.abs(x*y))\n",
    "}"
   ],
   "id": "9272e8b914105713",
   "outputs": [],
   "execution_count": 71
  },
  {
   "metadata": {
    "ExecuteTime": {
     "end_time": "2024-07-30T13:42:09.235321Z",
     "start_time": "2024-07-30T13:42:09.067322Z"
    }
   },
   "cell_type": "code",
   "source": [
    "if USE_LEAD_COMBOS:\n",
    "    Enriched_DF, new_columns = tree_utils.create_feature_combinations(df=DATA[lead_columns], \n",
    "                                           lambda_functions=ComboFunctions)\n",
    "    DATA = DATA.drop(lead_columns, axis=1)\n",
    "    DATA = pd.concat([DATA, Enriched_DF], axis=1)\n"
   ],
   "id": "40f50f4d6b9d1d77",
   "outputs": [],
   "execution_count": 72
  },
  {
   "metadata": {},
   "cell_type": "markdown",
   "source": "# Model prepping",
   "id": "b22bea538597a99"
  },
  {
   "metadata": {
    "ExecuteTime": {
     "end_time": "2024-07-30T13:42:09.405829Z",
     "start_time": "2024-07-30T13:42:09.237833Z"
    }
   },
   "cell_type": "code",
   "source": [
    "# TODO: need to add a feature combiner, perhaps use PySR or GpLearn, focus on vectors\n",
    "\n",
    "impute_kwargs = {\n",
    "    'estimator': LinearRegression(), \n",
    "    'random_state':7,\n",
    "    'imputation_order': 'ascending', \n",
    "    'skip_complete': True,\n",
    "    'max_iter': 2000,\n",
    "    'initial_strategy': 'median',\n",
    "    'add_indicator': True\n",
    "}\n",
    "gradientboosting_kwargs = {\n",
    "    'n_estimators': 500, \n",
    "    'max_depth': 10, \n",
    "    'learning_rate':0.01,\n",
    "    'max_leaf_nodes':40,\n",
    "    'random_state': 7\n",
    "}\n",
    "randomforest_kwargs = {\n",
    "    'n_estimators': 150,\n",
    "    'max_depth': 6,\n",
    "    'min_samples_split': 10, \n",
    "    'min_samples_leaf': 10,\n",
    "    'random_state': 7\n",
    "}\n",
    "rulefit_kwargs={\n",
    "    'tree_size': 10,\n",
    "    'max_rules': 100,\n",
    "    'tree_generator': GradientBoostingClassifier(**gradientboosting_kwargs)\n",
    "}\n",
    "decisiontree_kwargs = {\n",
    "    'criterion':'gini', \n",
    "    'splitter':'best', \n",
    "    'max_depth':10, \n",
    "    'min_samples_split':10, \n",
    "    'min_samples_leaf': 5, \n",
    "    'min_weight_fraction_leaf':0.0, \n",
    "    'max_features':None, \n",
    "    'random_state':7, \n",
    "    'max_leaf_nodes':50,\n",
    "    'class_weight': 'balanced'\n",
    "}\n",
    "xgboost_kwargs = {\n",
    "    'n_estimators': 150,\n",
    "    'max_depth': 6,\n",
    "    'max_leaves': 50,\n",
    "    'learning_rate': 2e-3,\n",
    "    'gamma': 0.4,\n",
    "    'subsample': 0.55,\n",
    "    'colsample_bytree':0.85,\n",
    "    'reg_alpha': 0.005\n",
    "}\n",
    "logistic_kwargs = {\n",
    "    'penalty': 'elasticnet', \n",
    "    'dual': False, \n",
    "    'tol': 0.0001, \n",
    "    'C':1.0, \n",
    "    'fit_intercept': True, \n",
    "    'intercept_scaling':1, \n",
    "    'class_weight':None, \n",
    "    'random_state':7, \n",
    "    'solver': 'saga', \n",
    "    'max_iter':2000, \n",
    "    'verbose': 0, \n",
    "    'warm_start': False, \n",
    "    'n_jobs':-1, \n",
    "    'l1_ratio':0.5\n",
    "}\n",
    "calibration_kwargs ={\n",
    "    'method': 'sigmoid',\n",
    "    'n_jobs': -1, \n",
    "    'ensemble': True,\n",
    "    'cv': 5\n",
    "}\n"
   ],
   "id": "6004219c54779520",
   "outputs": [],
   "execution_count": 73
  },
  {
   "metadata": {
    "ExecuteTime": {
     "end_time": "2024-07-30T13:42:09.576334Z",
     "start_time": "2024-07-30T13:42:09.408825Z"
    }
   },
   "cell_type": "code",
   "source": [
    "OrdEncoder = OrdinalEncoder(\n",
    "    categories='auto',\n",
    "    dtype=int,\n",
    "    handle_unknown='use_encoded_value',\n",
    "    unknown_value=-2,\n",
    "    encoded_missing_value=-1,\n",
    ")\n",
    "PipeOrdEncoder = ColumnTransformer([(\"cat_encoder\", OrdEncoder, morphology_columns)],\n",
    "                                   remainder='passthrough')\n",
    "\n",
    "FFilter = SelectFromModel(estimator=LogisticRegression(**logistic_kwargs),\n",
    "                            max_features=MAX_FEATURES)\n",
    "\n",
    "_imputer = IterativeImputer(**impute_kwargs)\n",
    "\n",
    "if ALL_FEATURES:\n",
    "    _cat_enc = PipeOrdEncoder\n",
    "else:\n",
    "    _cat_enc = None\n",
    "\n",
    "if (USE_LEAD_COMBOS) & (COMBO_WITH_FEATURE_FILTER):\n",
    "    _feature_filter = FFilter\n",
    "    _imputer = SimpleImputer(strategy='median', add_indicator=True)\n",
    "else:\n",
    "    _feature_filter = None\n",
    "\n",
    "if USE_CALIBRATED_CLASSIFIER:\n",
    "    RF_clf = CalibratedClassifierCV(RandomForestClassifier(**randomforest_kwargs), \n",
    "                                    **calibration_kwargs)\n",
    "    GBC_clf = CalibratedClassifierCV(GradientBoostingClassifier(**gradientboosting_kwargs),\n",
    "                                     **calibration_kwargs)\n",
    "    XGB_clf = CalibratedClassifierCV(XGBClassifier(**xgboost_kwargs),\n",
    "                                     **calibration_kwargs)\n",
    "    DT_clf = CalibratedClassifierCV(DecisionTreeClassifier(**decisiontree_kwargs),\n",
    "                                     **calibration_kwargs)\n",
    "    LR_clf = CalibratedClassifierCV(LogisticRegression(**logistic_kwargs),\n",
    "                                     **calibration_kwargs)\n",
    "else:\n",
    "    RF_clf = RandomForestClassifier(**randomforest_kwargs)\n",
    "    GBC_clf = GradientBoostingClassifier(**gradientboosting_kwargs)\n",
    "    XGB_clf = tree_utils.GenericCalibratedClassifier(XGBClassifier(**xgboost_kwargs))\n",
    "    DT_clf = DecisionTreeClassifier(**decisiontree_kwargs)\n",
    "    LR_clf = LogisticRegression(**logistic_kwargs)\n",
    "\n",
    "le_pipe_rf = Pipeline([\n",
    "    (\"CatEncoder\", _cat_enc),\n",
    "    (\"Impute\", _imputer),\n",
    "    (\"FeatureFilter\", _feature_filter),\n",
    "    (\"RandomForest\", RF_clf)])\n",
    "\n",
    "le_pipe_gbc = Pipeline([\n",
    "    (\"CatEncoder\", _cat_enc),\n",
    "    (\"Impute\", _imputer),\n",
    "    (\"FeatureFilter\", _feature_filter),\n",
    "    (\"GradientBoosting\", GBC_clf)])\n",
    "\n",
    "le_pipe_xgb = Pipeline([\n",
    "    (\"CatEncoder\", _cat_enc),\n",
    "    (\"Impute\", _imputer),\n",
    "    (\"FeatureFilter\", _feature_filter),\n",
    "    (\"XGBoost\", XGB_clf)])\n",
    "\n",
    "le_pipe_dt = Pipeline([\n",
    "    (\"CatEncoder\", _cat_enc),\n",
    "    (\"Impute\", _imputer),\n",
    "    (\"FeatureFilter\", _feature_filter),\n",
    "    (\"DecisionTree\", DT_clf)])\n",
    "\n",
    "le_pipe_lr = Pipeline([\n",
    "    (\"CatEncoder\", _cat_enc),\n",
    "    (\"Impute\", _imputer),\n",
    "    (\"FeatureFilter\", _feature_filter),\n",
    "    (\"LogisticRegression\", LR_clf)])\n",
    "\n",
    "PipeDict = {}\n",
    "#PipeDict['rf'] = le_pipe_rf\n",
    "#PipeDict['gbc'] = le_pipe_gbc\n",
    "PipeDict['xgb'] = le_pipe_xgb\n",
    "PipeDict['dt'] = le_pipe_dt\n",
    "PipeDict['lr'] = le_pipe_lr\n"
   ],
   "id": "b17720ea4e5a9c0f",
   "outputs": [],
   "execution_count": 74
  },
  {
   "metadata": {},
   "cell_type": "markdown",
   "source": "# Axis model",
   "id": "5af910b8b1a3657e"
  },
  {
   "metadata": {
    "ExecuteTime": {
     "end_time": "2024-07-30T13:42:09.762331Z",
     "start_time": "2024-07-30T13:42:09.579329Z"
    }
   },
   "cell_type": "code",
   "source": [
    "target_col = \"Heart Axis Diagnosis\"\n",
    "if not USE_REDUCED_LABELS:\n",
    "    target_inclusion = ['Left', 'Normal', 'Right']\n",
    "else:\n",
    "    target_inclusion = ['Left', 'Normal', 'Right', 'Extreme']\n",
    "    \n",
    "Reduction_map = {'Left': 'Disease', \n",
    "                 'Right': 'Disease',\n",
    "                 'Extreme': 'Disease',\n",
    "                 'Normal': 'Normal'}\n",
    "if ALL_FEATURES:\n",
    "    features_to_use = []\n",
    "else:\n",
    "    features_to_use = ['qrs_vector mean lead_0',\n",
    "                     'p_vector mean lead_0',\n",
    "                     't_vector mean lead_0',\n",
    "                     'qrs_vector mean lead_1',\n",
    "                     'p_vector mean lead_1',\n",
    "                     't_vector mean lead_1',\n",
    "                     'qrs_vector mean lead_2',\n",
    "                     'p_vector mean lead_2',\n",
    "                     't_vector mean lead_2',\n",
    "                     'qrs_vector mean lead_3',\n",
    "                     'p_vector mean lead_3',\n",
    "                     't_vector mean lead_3',\n",
    "                     'qrs_vector mean lead_4',\n",
    "                     'p_vector mean lead_4',\n",
    "                     't_vector mean lead_4',\n",
    "                     'qrs_vector mean lead_5',\n",
    "                     'p_vector mean lead_5',\n",
    "                     't_vector mean lead_5',\n",
    "                     'qrs_vector mean lead_6',\n",
    "                     'p_vector mean lead_6',\n",
    "                     't_vector mean lead_6',\n",
    "                     'qrs_vector mean lead_7',\n",
    "                     'p_vector mean lead_7',\n",
    "                     't_vector mean lead_7'\n",
    "                       ]"
   ],
   "id": "2b0a8c5759074ef9",
   "outputs": [],
   "execution_count": 75
  },
  {
   "metadata": {
    "ExecuteTime": {
     "end_time": "2024-07-30T13:42:10.537345Z",
     "start_time": "2024-07-30T13:42:09.764831Z"
    }
   },
   "cell_type": "code",
   "source": [
    "if len(features_to_use)==0:\n",
    "    meas_cols = [c for c in DATA.columns if ('Dataset' not in c) \n",
    "                 & (target_col not in c)\n",
    "                 & ('Diagnosis' not in c)]\n",
    "else:\n",
    "    meas_cols = features_to_use\n",
    "    \n",
    "fstring = f\"AXIS_{CLASS_WEIGHT_STRING}{ALL_FEATURES_STRING}{REDUCED_LABEL_STRING}{CALIBRATED_CLASSIFIER_STRING}{FEATURE_COMBO_STRING}\"\n",
    "os.makedirs(os.path.join(data_path, fstring), exist_ok=True)\n",
    "\n",
    "AXIS_DATA = DATA.loc[DATA[target_col].isin(target_inclusion), meas_cols+[target_col]+['Dataset']]\n",
    "if USE_REDUCED_LABELS:\n",
    "    AXIS_DATA.loc[:, target_col] = AXIS_DATA[target_col].map(Reduction_map)\n",
    "    \n",
    "AXIS_DATA.to_parquet(os.path.join(data_path, fstring, 'DATA.parquet'))\n",
    "AXIS_DATA = AXIS_DATA.drop('Dataset', axis=1)"
   ],
   "id": "aea10a2f941fc161",
   "outputs": [],
   "execution_count": 76
  },
  {
   "metadata": {},
   "cell_type": "markdown",
   "source": "### TRAINING LOOP",
   "id": "f8b76eb1c95fd94d"
  },
  {
   "metadata": {
    "ExecuteTime": {
     "end_time": "2024-07-30T13:42:10.707846Z",
     "start_time": "2024-07-30T13:42:10.541346Z"
    }
   },
   "cell_type": "code",
   "source": [
    "splitter = RepeatedStratifiedKFold(n_splits=num_splits, n_repeats=num_repeats, random_state=7)\n",
    "\n",
    "X = AXIS_DATA.iloc[:, :-1]\n",
    "Y = AXIS_DATA.iloc[:,-1]\n",
    "\n",
    "lb = LabelBinarizer()\n",
    "lbe = LabelEncoder()\n",
    "\n",
    " #(RES_LIST_AXIS[0]['Y_test'])\n",
    "Yenc = lbe.fit_transform(Y.values) #(RES_LIST_AXIS[0]['Y_test'])\n",
    "y_bin = lb.fit(Yenc)\n",
    "ClassMap_AXIS = {i:c for i,c in enumerate(lbe.classes_)}"
   ],
   "id": "8e9179e2af7f0304",
   "outputs": [],
   "execution_count": 77
  },
  {
   "metadata": {
    "ExecuteTime": {
     "end_time": "2024-07-30T13:42:10.878355Z",
     "start_time": "2024-07-30T13:42:10.709852Z"
    }
   },
   "cell_type": "code",
   "source": "ClassMap_AXIS",
   "id": "6bfc27e965a32c03",
   "outputs": [
    {
     "data": {
      "text/plain": [
       "{0: 'Disease', 1: 'Normal'}"
      ]
     },
     "execution_count": 78,
     "metadata": {},
     "output_type": "execute_result"
    }
   ],
   "execution_count": 78
  },
  {
   "metadata": {
    "ExecuteTime": {
     "end_time": "2024-07-30T14:16:13.792965Z",
     "start_time": "2024-07-30T13:42:10.880848Z"
    }
   },
   "cell_type": "code",
   "source": [
    "RES_LIST_AXIS, RES_AXIS_DF, RES_AXIS_INDCS_DF = tree_utils.training_loop(X, Yenc, splitter, \n",
    "                              PipeDict, \n",
    "                              use_class_weights=USE_CLASS_WEIGHT, ClassMap=ClassMap_AXIS,\n",
    "                              num_splits=num_splits, num_repeats=num_repeats, make_df=True)"
   ],
   "id": "69d92546487d7101",
   "outputs": [
    {
     "name": "stderr",
     "output_type": "stream",
     "text": [
      "100%|██████████| 100/100 [34:02<00:00, 20.43s/it]\n"
     ]
    }
   ],
   "execution_count": 79
  },
  {
   "metadata": {
    "ExecuteTime": {
     "end_time": "2024-07-30T14:16:14.552485Z",
     "start_time": "2024-07-30T14:16:13.794966Z"
    }
   },
   "cell_type": "code",
   "source": [
    "RES_AXIS_DF.to_parquet(os.path.join(data_path, fstring, \"RESULTS.parquet\"))\n",
    "RES_AXIS_INDCS_DF.to_parquet(os.path.join(data_path, fstring, \"RESULTS_w_indices.parquet\"))"
   ],
   "id": "cbac039b03dfa334",
   "outputs": [],
   "execution_count": 80
  },
  {
   "metadata": {},
   "cell_type": "markdown",
   "source": "### make roc and precision recall curves",
   "id": "b83ba3a4c13171e7"
  },
  {
   "metadata": {
    "ExecuteTime": {
     "end_time": "2024-07-30T14:16:14.722977Z",
     "start_time": "2024-07-30T14:16:14.558990Z"
    }
   },
   "cell_type": "code",
   "source": "Y.value_counts()",
   "id": "6bedd5c9af9153e5",
   "outputs": [
    {
     "data": {
      "text/plain": [
       "Heart Axis Diagnosis\n",
       "Normal     1245\n",
       "Disease     472\n",
       "Name: count, dtype: int64"
      ]
     },
     "execution_count": 81,
     "metadata": {},
     "output_type": "execute_result"
    }
   ],
   "execution_count": 81
  },
  {
   "metadata": {
    "ExecuteTime": {
     "end_time": "2024-07-30T14:16:14.877978Z",
     "start_time": "2024-07-30T14:16:14.724978Z"
    }
   },
   "cell_type": "code",
   "source": [
    "n_classes = len(lb.classes_)\n",
    "colors = ['blue', 'green', 'red', 'yellow', 'magenta', 'cyan', 'black']"
   ],
   "id": "5faf16ee09a870e5",
   "outputs": [],
   "execution_count": 82
  },
  {
   "metadata": {
    "ExecuteTime": {
     "end_time": "2024-07-30T14:16:17.202165Z",
     "start_time": "2024-07-30T14:16:14.879979Z"
    }
   },
   "cell_type": "code",
   "source": [
    "PLOTS_AXIS = tree_utils.make_plots(RES_LIST_AXIS, lb,  n_classes, \n",
    "                                   colors, ClassMap_AXIS,\n",
    "                                   output_map=os.path.join(data_path, fstring),\n",
    "                                   show_plot=False, \n",
    "                                   models = list(PipeDict.keys()),\n",
    "                                   plot_title=\"Heart Axis\")\n",
    "perf_list = tree_utils.get_performance(RES_LIST_AXIS, \n",
    "                                       threshold=1/n_classes,\n",
    "                                       ClassMap=ClassMap_AXIS, \n",
    "                                       models = list(PipeDict.keys()),\n",
    "                                       binarizer=lb)\n",
    "PERF_AXIS = pd.DataFrame(perf_list)"
   ],
   "id": "2b6620bf0e4e8e07",
   "outputs": [],
   "execution_count": 83
  },
  {
   "metadata": {
    "ExecuteTime": {
     "end_time": "2024-07-30T14:16:17.357010Z",
     "start_time": "2024-07-30T14:16:17.204523Z"
    }
   },
   "cell_type": "code",
   "source": "PERF_AXIS[['f1', 'precision', 'recall', 'specificity', 'model', 'Class']].groupby(['model', 'Class']).mean()",
   "id": "276127563cf1a9a8",
   "outputs": [
    {
     "data": {
      "text/plain": [
       "                            f1  precision    recall  specificity\n",
       "model Class                                                     \n",
       "DT    Disease/Normal  0.840553   0.725219  0.999518     0.001064\n",
       "LR    Disease/Normal  0.825318   0.746646  0.922887     0.173457\n",
       "XGB   Disease/Normal  0.844815   0.796593  0.900007     0.391924"
      ],
      "text/html": [
       "<div>\n",
       "<style scoped>\n",
       "    .dataframe tbody tr th:only-of-type {\n",
       "        vertical-align: middle;\n",
       "    }\n",
       "\n",
       "    .dataframe tbody tr th {\n",
       "        vertical-align: top;\n",
       "    }\n",
       "\n",
       "    .dataframe thead th {\n",
       "        text-align: right;\n",
       "    }\n",
       "</style>\n",
       "<table border=\"1\" class=\"dataframe\">\n",
       "  <thead>\n",
       "    <tr style=\"text-align: right;\">\n",
       "      <th></th>\n",
       "      <th></th>\n",
       "      <th>f1</th>\n",
       "      <th>precision</th>\n",
       "      <th>recall</th>\n",
       "      <th>specificity</th>\n",
       "    </tr>\n",
       "    <tr>\n",
       "      <th>model</th>\n",
       "      <th>Class</th>\n",
       "      <th></th>\n",
       "      <th></th>\n",
       "      <th></th>\n",
       "      <th></th>\n",
       "    </tr>\n",
       "  </thead>\n",
       "  <tbody>\n",
       "    <tr>\n",
       "      <th>DT</th>\n",
       "      <th>Disease/Normal</th>\n",
       "      <td>0.840553</td>\n",
       "      <td>0.725219</td>\n",
       "      <td>0.999518</td>\n",
       "      <td>0.001064</td>\n",
       "    </tr>\n",
       "    <tr>\n",
       "      <th>LR</th>\n",
       "      <th>Disease/Normal</th>\n",
       "      <td>0.825318</td>\n",
       "      <td>0.746646</td>\n",
       "      <td>0.922887</td>\n",
       "      <td>0.173457</td>\n",
       "    </tr>\n",
       "    <tr>\n",
       "      <th>XGB</th>\n",
       "      <th>Disease/Normal</th>\n",
       "      <td>0.844815</td>\n",
       "      <td>0.796593</td>\n",
       "      <td>0.900007</td>\n",
       "      <td>0.391924</td>\n",
       "    </tr>\n",
       "  </tbody>\n",
       "</table>\n",
       "</div>"
      ]
     },
     "execution_count": 84,
     "metadata": {},
     "output_type": "execute_result"
    }
   ],
   "execution_count": 84
  },
  {
   "metadata": {
    "ExecuteTime": {
     "end_time": "2024-07-30T14:16:20.860054Z",
     "start_time": "2024-07-30T14:16:17.359511Z"
    }
   },
   "cell_type": "code",
   "source": [
    "tree_utils.net_benefit_curve_plot(RES_AXIS_DF, true_col_prefix='Y_test',\n",
    "                                     pred_col_prefix='Y_pred',\n",
    "                                     output_path=os.path.join(data_path, fstring),\n",
    "                                     threshold_steps=20, \n",
    "                                     xlim=[0,0.5],\n",
    "                                     ylim=[-1,1],\n",
    "                                     plot_title=\"Heart Axis\")\n",
    "\n",
    "tree_utils.calibration_curve_plot(RES_AXIS_DF,\n",
    "                                   true_col_prefix='Y_test',\n",
    "                                   pred_col_prefix='Y_pred',\n",
    "                                   output_path=os.path.join(data_path, fstring),\n",
    "                                   n_bins=10,\n",
    "                                   plot_title=\"Heart Axis\",\n",
    "                                   show_plot=True)"
   ],
   "id": "fb9016e8da8d17b1",
   "outputs": [
    {
     "name": "stderr",
     "output_type": "stream",
     "text": [
      "T:\\laupodteam\\AIOS\\Bram\\notebooks\\code_dev\\miniECG_interpretation\\TreeBuilder\\sandbox\\..\\src\\tree_utils.py:253: RuntimeWarning: invalid value encountered in scalar divide\n",
      "  net_benefit = (tp - fp * threshold / (1 - threshold)) / N\n",
      "T:\\laupodteam\\AIOS\\Bram\\notebooks\\code_dev\\miniECG_interpretation\\TreeBuilder\\sandbox\\..\\src\\tree_utils.py:257: RuntimeWarning: divide by zero encountered in scalar divide\n",
      "  all_positive_benefit = tp/N - threshold / (1 - threshold)*(1-prevalence)\n",
      "T:\\laupodteam\\AIOS\\Bram\\notebooks\\code_dev\\miniECG_interpretation\\TreeBuilder\\sandbox\\..\\src\\tree_utils.py:253: RuntimeWarning: invalid value encountered in scalar divide\n",
      "  net_benefit = (tp - fp * threshold / (1 - threshold)) / N\n",
      "T:\\laupodteam\\AIOS\\Bram\\notebooks\\code_dev\\miniECG_interpretation\\TreeBuilder\\sandbox\\..\\src\\tree_utils.py:257: RuntimeWarning: divide by zero encountered in scalar divide\n",
      "  all_positive_benefit = tp/N - threshold / (1 - threshold)*(1-prevalence)\n",
      "T:\\laupodteam\\AIOS\\Bram\\notebooks\\code_dev\\miniECG_interpretation\\TreeBuilder\\sandbox\\..\\src\\tree_utils.py:253: RuntimeWarning: invalid value encountered in scalar divide\n",
      "  net_benefit = (tp - fp * threshold / (1 - threshold)) / N\n",
      "T:\\laupodteam\\AIOS\\Bram\\notebooks\\code_dev\\miniECG_interpretation\\TreeBuilder\\sandbox\\..\\src\\tree_utils.py:257: RuntimeWarning: divide by zero encountered in scalar divide\n",
      "  all_positive_benefit = tp/N - threshold / (1 - threshold)*(1-prevalence)\n",
      "T:\\laupodteam\\AIOS\\Bram\\notebooks\\code_dev\\miniECG_interpretation\\TreeBuilder\\sandbox\\..\\src\\tree_utils.py:253: RuntimeWarning: invalid value encountered in scalar divide\n",
      "  net_benefit = (tp - fp * threshold / (1 - threshold)) / N\n",
      "T:\\laupodteam\\AIOS\\Bram\\notebooks\\code_dev\\miniECG_interpretation\\TreeBuilder\\sandbox\\..\\src\\tree_utils.py:257: RuntimeWarning: divide by zero encountered in scalar divide\n",
      "  all_positive_benefit = tp/N - threshold / (1 - threshold)*(1-prevalence)\n",
      "T:\\laupodteam\\AIOS\\Bram\\notebooks\\code_dev\\miniECG_interpretation\\TreeBuilder\\sandbox\\..\\src\\tree_utils.py:253: RuntimeWarning: invalid value encountered in scalar divide\n",
      "  net_benefit = (tp - fp * threshold / (1 - threshold)) / N\n",
      "T:\\laupodteam\\AIOS\\Bram\\notebooks\\code_dev\\miniECG_interpretation\\TreeBuilder\\sandbox\\..\\src\\tree_utils.py:257: RuntimeWarning: divide by zero encountered in scalar divide\n",
      "  all_positive_benefit = tp/N - threshold / (1 - threshold)*(1-prevalence)\n",
      "T:\\laupodteam\\AIOS\\Bram\\notebooks\\code_dev\\miniECG_interpretation\\TreeBuilder\\sandbox\\..\\src\\tree_utils.py:253: RuntimeWarning: invalid value encountered in scalar divide\n",
      "  net_benefit = (tp - fp * threshold / (1 - threshold)) / N\n",
      "T:\\laupodteam\\AIOS\\Bram\\notebooks\\code_dev\\miniECG_interpretation\\TreeBuilder\\sandbox\\..\\src\\tree_utils.py:257: RuntimeWarning: divide by zero encountered in scalar divide\n",
      "  all_positive_benefit = tp/N - threshold / (1 - threshold)*(1-prevalence)\n"
     ]
    }
   ],
   "execution_count": 85
  },
  {
   "metadata": {},
   "cell_type": "markdown",
   "source": "# Muscle model",
   "id": "a040b2c8e742961e"
  },
  {
   "metadata": {
    "ExecuteTime": {
     "end_time": "2024-07-30T14:16:21.015053Z",
     "start_time": "2024-07-30T14:16:20.868062Z"
    }
   },
   "cell_type": "code",
   "source": [
    "target_col = \"Diagnosis\"\n",
    "target_inclusion = ['SR','LVH','Microvoltages']\n",
    "Reduction_map = {'Microvoltages': 'Disease', \n",
    "                 'LVH': 'Disease',\n",
    "                 'SR': 'Normal'}\n",
    "if ALL_FEATURES:\n",
    "    features_to_use = []\n",
    "else:\n",
    "    features_to_use = ['qrs_vector mean lead_0',\n",
    "                     'qrs_ampl mean lead_0',\n",
    "                     'qrs_vector mean lead_1',\n",
    "                     'qrs_ampl mean lead_1',\n",
    "                     'qrs_vector mean lead_2',\n",
    "                     'qrs_ampl mean lead_2',\n",
    "                     'qrs_vector mean lead_3',\n",
    "                     'qrs_ampl mean lead_3',\n",
    "                     'qrs_vector mean lead_4',\n",
    "                     'qrs_ampl mean lead_4',\n",
    "                     'qrs_vector mean lead_5',\n",
    "                     'qrs_ampl mean lead_5',\n",
    "                     'qrs_vector mean lead_6',\n",
    "                     'qrs_ampl mean lead_6',\n",
    "                     'qrs_vector mean lead_7',\n",
    "                     'qrs_ampl mean lead_7',\n",
    "                     'morphology lead_0',\n",
    "                     'morphology lead_1',\n",
    "                     'morphology lead_2',\n",
    "                     'morphology lead_3',\n",
    "                     'morphology lead_4',\n",
    "                     'morphology lead_5',\n",
    "                     'morphology lead_6',\n",
    "                     'morphology lead_7']"
   ],
   "id": "9d1fd628d813459a",
   "outputs": [],
   "execution_count": 86
  },
  {
   "metadata": {
    "ExecuteTime": {
     "end_time": "2024-07-30T14:16:21.154560Z",
     "start_time": "2024-07-30T14:16:21.017057Z"
    }
   },
   "cell_type": "code",
   "source": [
    "_cat_enc = PipeOrdEncoder\n",
    "for k in PipeDict.keys():\n",
    "    PipeDict[k].set_params(CatEncoder= _cat_enc)"
   ],
   "id": "b9ead5a0bf37213b",
   "outputs": [],
   "execution_count": 87
  },
  {
   "metadata": {
    "ExecuteTime": {
     "end_time": "2024-07-30T14:16:21.788113Z",
     "start_time": "2024-07-30T14:16:21.159060Z"
    }
   },
   "cell_type": "code",
   "source": [
    "if len(features_to_use)==0:\n",
    "    meas_cols = [c for c in DATA.columns if ('Dataset' not in c) \n",
    "                 & (target_col not in c)\n",
    "                 & (\"Heart Axis Diagnosis\" not in c)]\n",
    "else:\n",
    "    meas_cols = features_to_use\n",
    "    \n",
    "fstring = f\"MUSCLE_{CLASS_WEIGHT_STRING}{ALL_FEATURES_STRING}{REDUCED_LABEL_STRING}{CALIBRATED_CLASSIFIER_STRING}{FEATURE_COMBO_STRING}\"\n",
    "os.makedirs(os.path.join(data_path, fstring), exist_ok=True)\n",
    "\n",
    "MUSCLE_DATA = DATA.loc[DATA[target_col].apply(lambda x: any([c in x for c in target_inclusion])), \n",
    "                       meas_cols+[target_col]+['Dataset']]\n",
    "\n",
    "MUSCLE_DATA = MUSCLE_DATA.assign(Diagnosis=MUSCLE_DATA.Diagnosis.map({\n",
    "                                                            'SR': 'SR',\n",
    "                                                            'Microvoltages': 'Microvoltages',\n",
    "                                                            'LVH': 'LVH',\n",
    "                                                            'LAFB , LVH': 'LVH',\n",
    "                                                            'Microvoltages , BF': 'Microvoltages',\n",
    "                                                            'Microvoltages , RBBB': 'Microvoltages',\n",
    "                                                            'Microvoltages , LAFB': 'Microvoltages',\n",
    "                                                            'LVH , BF': 'LVH',\n",
    "                                                            'LVH , RBBB': 'LVH',\n",
    "                                                            'LVH , LBBB': 'LVH'\n",
    "                                                        }))\n",
    "\n",
    "if USE_REDUCED_LABELS:\n",
    "    MUSCLE_DATA.loc[:, target_col] = MUSCLE_DATA[target_col].map(Reduction_map)\n",
    "    \n",
    "MUSCLE_DATA.to_parquet(os.path.join(data_path, fstring, f'DATA.parquet'))\n",
    "MUSCLE_DATA = MUSCLE_DATA.drop('Dataset', axis=1)"
   ],
   "id": "26f49ef36ab8692",
   "outputs": [],
   "execution_count": 88
  },
  {
   "metadata": {},
   "cell_type": "markdown",
   "source": "## Training loop",
   "id": "a9cc5bc4b0e4bb08"
  },
  {
   "metadata": {
    "ExecuteTime": {
     "end_time": "2024-07-30T14:16:21.942965Z",
     "start_time": "2024-07-30T14:16:21.791461Z"
    }
   },
   "cell_type": "code",
   "source": [
    "splitter = RepeatedStratifiedKFold(n_splits=num_splits, n_repeats=num_repeats, random_state=7)\n",
    "X = MUSCLE_DATA.iloc[:, :-1]\n",
    "Y = MUSCLE_DATA.iloc[:,-1]\n",
    "\n",
    "lb = LabelBinarizer()\n",
    "lbe = LabelEncoder()\n",
    " #(RES_LIST_AXIS[0]['Y_test'])\n",
    "Yenc = lbe.fit_transform(Y.values) #(RES_LIST_AXIS[0]['Y_test'])\n",
    "lb.fit(Yenc)\n",
    "ClassMap_MUSCLE = {i:c for i,c in enumerate(lbe.classes_)}"
   ],
   "id": "65feafe3a20f9a45",
   "outputs": [],
   "execution_count": 89
  },
  {
   "metadata": {
    "ExecuteTime": {
     "end_time": "2024-07-30T14:16:22.097977Z",
     "start_time": "2024-07-30T14:16:21.945457Z"
    }
   },
   "cell_type": "code",
   "source": "ClassMap_MUSCLE",
   "id": "5f0121096cf31e5",
   "outputs": [
    {
     "data": {
      "text/plain": [
       "{0: 'Disease', 1: 'Normal'}"
      ]
     },
     "execution_count": 90,
     "metadata": {},
     "output_type": "execute_result"
    }
   ],
   "execution_count": 90
  },
  {
   "metadata": {
    "ExecuteTime": {
     "end_time": "2024-07-30T14:47:29.095879Z",
     "start_time": "2024-07-30T14:16:22.100462Z"
    }
   },
   "cell_type": "code",
   "source": [
    "RES_LIST_MUSCLE, RES_MUSCLE_DF, RES_MUSCLE_INDCS_DF =\\\n",
    "    tree_utils.training_loop(X, Yenc, splitter, PipeDict,  \n",
    "                             use_class_weights=USE_CLASS_WEIGHT, \n",
    "                             ClassMap=ClassMap_MUSCLE, \n",
    "                             num_splits=num_splits, \n",
    "                             num_repeats=num_repeats, \n",
    "                             make_df=True)"
   ],
   "id": "3cf0fe7e343dfeab",
   "outputs": [
    {
     "name": "stderr",
     "output_type": "stream",
     "text": [
      "100%|██████████| 100/100 [31:06<00:00, 18.67s/it]\n"
     ]
    }
   ],
   "execution_count": 91
  },
  {
   "metadata": {
    "ExecuteTime": {
     "end_time": "2024-07-30T14:47:29.759334Z",
     "start_time": "2024-07-30T14:47:29.097844Z"
    }
   },
   "cell_type": "code",
   "source": [
    "RES_MUSCLE_DF.to_parquet(os.path.join(data_path, fstring, \"RESULTS.parquet\"))\n",
    "RES_MUSCLE_INDCS_DF.to_parquet(os.path.join(data_path, fstring, \"RESULTS_w_indices.parquet\"))"
   ],
   "id": "73a6cbf256be55f1",
   "outputs": [],
   "execution_count": 92
  },
  {
   "metadata": {},
   "cell_type": "markdown",
   "source": "### make roc and precision recall curves",
   "id": "2ce70375c9da0869"
  },
  {
   "metadata": {
    "ExecuteTime": {
     "end_time": "2024-07-30T14:47:29.929876Z",
     "start_time": "2024-07-30T14:47:29.761847Z"
    }
   },
   "cell_type": "code",
   "source": "Y.value_counts()",
   "id": "a24aa3b0b5e40444",
   "outputs": [
    {
     "data": {
      "text/plain": [
       "Diagnosis\n",
       "Normal     649\n",
       "Disease    413\n",
       "Name: count, dtype: int64"
      ]
     },
     "execution_count": 93,
     "metadata": {},
     "output_type": "execute_result"
    }
   ],
   "execution_count": 93
  },
  {
   "metadata": {
    "ExecuteTime": {
     "end_time": "2024-07-30T14:47:30.084878Z",
     "start_time": "2024-07-30T14:47:29.931847Z"
    }
   },
   "cell_type": "code",
   "source": [
    "n_classes = len(lb.classes_)\n",
    "colors = ['blue', 'green', 'red', 'yellow', 'magenta', 'cyan', 'black']"
   ],
   "id": "a22535ee56ddb698",
   "outputs": [],
   "execution_count": 94
  },
  {
   "metadata": {
    "ExecuteTime": {
     "end_time": "2024-07-30T14:47:32.518375Z",
     "start_time": "2024-07-30T14:47:30.086348Z"
    }
   },
   "cell_type": "code",
   "source": [
    "PLOTS_MUSCLE = tree_utils.make_plots(RES_LIST_MUSCLE, lb,  n_classes, colors,\n",
    "                                     ClassMap_MUSCLE,\n",
    "                                     output_map=os.path.join(data_path, fstring),\n",
    "                                     show_plot=False,\n",
    "                                     models = list(PipeDict.keys()),\n",
    "                                     plot_title=\"Heart Muscle\")\n",
    "\n",
    "perf_list = tree_utils.get_performance(RES_LIST_MUSCLE, \n",
    "                                       threshold=1/n_classes, \n",
    "                                       ClassMap=ClassMap_MUSCLE, \n",
    "                                       models = list(PipeDict.keys()),\n",
    "                                       binarizer=lb)\n",
    "PERF_MUSCLE = pd.DataFrame(perf_list)"
   ],
   "id": "b1e8cc3894802668",
   "outputs": [],
   "execution_count": 95
  },
  {
   "metadata": {
    "ExecuteTime": {
     "end_time": "2024-07-30T14:47:32.673875Z",
     "start_time": "2024-07-30T14:47:32.520384Z"
    }
   },
   "cell_type": "code",
   "source": "PERF_MUSCLE[['f1', 'precision', 'recall', 'specificity', 'model', 'Class']].groupby(['model', 'Class']).mean()",
   "id": "3d3b70009b26d9a7",
   "outputs": [
    {
     "data": {
      "text/plain": [
       "                            f1  precision    recall  specificity\n",
       "model Class                                                     \n",
       "DT    Disease/Normal  0.825686   0.779613  0.879337     0.606597\n",
       "LR    Disease/Normal  0.799530   0.731810  0.882603     0.488926\n",
       "XGB   Disease/Normal  0.852704   0.835365  0.872264     0.727172"
      ],
      "text/html": [
       "<div>\n",
       "<style scoped>\n",
       "    .dataframe tbody tr th:only-of-type {\n",
       "        vertical-align: middle;\n",
       "    }\n",
       "\n",
       "    .dataframe tbody tr th {\n",
       "        vertical-align: top;\n",
       "    }\n",
       "\n",
       "    .dataframe thead th {\n",
       "        text-align: right;\n",
       "    }\n",
       "</style>\n",
       "<table border=\"1\" class=\"dataframe\">\n",
       "  <thead>\n",
       "    <tr style=\"text-align: right;\">\n",
       "      <th></th>\n",
       "      <th></th>\n",
       "      <th>f1</th>\n",
       "      <th>precision</th>\n",
       "      <th>recall</th>\n",
       "      <th>specificity</th>\n",
       "    </tr>\n",
       "    <tr>\n",
       "      <th>model</th>\n",
       "      <th>Class</th>\n",
       "      <th></th>\n",
       "      <th></th>\n",
       "      <th></th>\n",
       "      <th></th>\n",
       "    </tr>\n",
       "  </thead>\n",
       "  <tbody>\n",
       "    <tr>\n",
       "      <th>DT</th>\n",
       "      <th>Disease/Normal</th>\n",
       "      <td>0.825686</td>\n",
       "      <td>0.779613</td>\n",
       "      <td>0.879337</td>\n",
       "      <td>0.606597</td>\n",
       "    </tr>\n",
       "    <tr>\n",
       "      <th>LR</th>\n",
       "      <th>Disease/Normal</th>\n",
       "      <td>0.799530</td>\n",
       "      <td>0.731810</td>\n",
       "      <td>0.882603</td>\n",
       "      <td>0.488926</td>\n",
       "    </tr>\n",
       "    <tr>\n",
       "      <th>XGB</th>\n",
       "      <th>Disease/Normal</th>\n",
       "      <td>0.852704</td>\n",
       "      <td>0.835365</td>\n",
       "      <td>0.872264</td>\n",
       "      <td>0.727172</td>\n",
       "    </tr>\n",
       "  </tbody>\n",
       "</table>\n",
       "</div>"
      ]
     },
     "execution_count": 96,
     "metadata": {},
     "output_type": "execute_result"
    }
   ],
   "execution_count": 96
  },
  {
   "metadata": {
    "ExecuteTime": {
     "end_time": "2024-07-30T14:47:36.392745Z",
     "start_time": "2024-07-30T14:47:32.676877Z"
    }
   },
   "cell_type": "code",
   "source": [
    "tree_utils.net_benefit_curve_plot(RES_MUSCLE_DF, true_col_prefix='Y_test',\n",
    "                                     pred_col_prefix='Y_pred',\n",
    "                                     output_path=os.path.join(data_path, fstring),\n",
    "                                     threshold_steps=20, \n",
    "                                     xlim=[0,0.5],\n",
    "                                     ylim=[-1,1],\n",
    "                                     plot_title=\"Heart Muscle\")\n",
    "\n",
    "tree_utils.calibration_curve_plot(RES_MUSCLE_DF,\n",
    "                                   true_col_prefix='Y_test',\n",
    "                                   pred_col_prefix='Y_pred',\n",
    "                                   output_path=os.path.join(data_path, fstring),\n",
    "                                   n_bins=10,\n",
    "                                   plot_title=\"Heart Muscle\",\n",
    "                                   show_plot=True)"
   ],
   "id": "dbdc874b90d7ca84",
   "outputs": [
    {
     "name": "stderr",
     "output_type": "stream",
     "text": [
      "T:\\laupodteam\\AIOS\\Bram\\notebooks\\code_dev\\miniECG_interpretation\\TreeBuilder\\sandbox\\..\\src\\tree_utils.py:253: RuntimeWarning: invalid value encountered in scalar divide\n",
      "  net_benefit = (tp - fp * threshold / (1 - threshold)) / N\n",
      "T:\\laupodteam\\AIOS\\Bram\\notebooks\\code_dev\\miniECG_interpretation\\TreeBuilder\\sandbox\\..\\src\\tree_utils.py:257: RuntimeWarning: divide by zero encountered in scalar divide\n",
      "  all_positive_benefit = tp/N - threshold / (1 - threshold)*(1-prevalence)\n",
      "T:\\laupodteam\\AIOS\\Bram\\notebooks\\code_dev\\miniECG_interpretation\\TreeBuilder\\sandbox\\..\\src\\tree_utils.py:253: RuntimeWarning: invalid value encountered in scalar divide\n",
      "  net_benefit = (tp - fp * threshold / (1 - threshold)) / N\n",
      "T:\\laupodteam\\AIOS\\Bram\\notebooks\\code_dev\\miniECG_interpretation\\TreeBuilder\\sandbox\\..\\src\\tree_utils.py:257: RuntimeWarning: divide by zero encountered in scalar divide\n",
      "  all_positive_benefit = tp/N - threshold / (1 - threshold)*(1-prevalence)\n",
      "T:\\laupodteam\\AIOS\\Bram\\notebooks\\code_dev\\miniECG_interpretation\\TreeBuilder\\sandbox\\..\\src\\tree_utils.py:253: RuntimeWarning: invalid value encountered in scalar divide\n",
      "  net_benefit = (tp - fp * threshold / (1 - threshold)) / N\n",
      "T:\\laupodteam\\AIOS\\Bram\\notebooks\\code_dev\\miniECG_interpretation\\TreeBuilder\\sandbox\\..\\src\\tree_utils.py:257: RuntimeWarning: divide by zero encountered in scalar divide\n",
      "  all_positive_benefit = tp/N - threshold / (1 - threshold)*(1-prevalence)\n",
      "T:\\laupodteam\\AIOS\\Bram\\notebooks\\code_dev\\miniECG_interpretation\\TreeBuilder\\sandbox\\..\\src\\tree_utils.py:253: RuntimeWarning: invalid value encountered in scalar divide\n",
      "  net_benefit = (tp - fp * threshold / (1 - threshold)) / N\n",
      "T:\\laupodteam\\AIOS\\Bram\\notebooks\\code_dev\\miniECG_interpretation\\TreeBuilder\\sandbox\\..\\src\\tree_utils.py:257: RuntimeWarning: divide by zero encountered in scalar divide\n",
      "  all_positive_benefit = tp/N - threshold / (1 - threshold)*(1-prevalence)\n",
      "T:\\laupodteam\\AIOS\\Bram\\notebooks\\code_dev\\miniECG_interpretation\\TreeBuilder\\sandbox\\..\\src\\tree_utils.py:253: RuntimeWarning: invalid value encountered in scalar divide\n",
      "  net_benefit = (tp - fp * threshold / (1 - threshold)) / N\n",
      "T:\\laupodteam\\AIOS\\Bram\\notebooks\\code_dev\\miniECG_interpretation\\TreeBuilder\\sandbox\\..\\src\\tree_utils.py:257: RuntimeWarning: divide by zero encountered in scalar divide\n",
      "  all_positive_benefit = tp/N - threshold / (1 - threshold)*(1-prevalence)\n",
      "T:\\laupodteam\\AIOS\\Bram\\notebooks\\code_dev\\miniECG_interpretation\\TreeBuilder\\sandbox\\..\\src\\tree_utils.py:253: RuntimeWarning: invalid value encountered in scalar divide\n",
      "  net_benefit = (tp - fp * threshold / (1 - threshold)) / N\n",
      "T:\\laupodteam\\AIOS\\Bram\\notebooks\\code_dev\\miniECG_interpretation\\TreeBuilder\\sandbox\\..\\src\\tree_utils.py:257: RuntimeWarning: divide by zero encountered in scalar divide\n",
      "  all_positive_benefit = tp/N - threshold / (1 - threshold)*(1-prevalence)\n"
     ]
    }
   ],
   "execution_count": 97
  },
  {
   "metadata": {},
   "cell_type": "markdown",
   "source": "# Conduction model",
   "id": "f288241a0f7e1e34"
  },
  {
   "metadata": {
    "ExecuteTime": {
     "end_time": "2024-07-30T14:47:36.532292Z",
     "start_time": "2024-07-30T14:47:36.395246Z"
    }
   },
   "cell_type": "code",
   "source": [
    "target_col = \"Diagnosis\"\n",
    "target_inclusion = ['BF', 'LBBB','RBBB','LAFB', 'SR']\n",
    "Reduction_map = {'BF': 'Disease', \n",
    "                 'LBBB': 'Disease', \n",
    "                 'RBBB': 'Disease',\n",
    "                 'LAFB': 'Disease',\n",
    "                 'SR': 'Normal'}\n",
    "features_to_use = []\n",
    "_cat_enc = PipeOrdEncoder\n",
    "for k in PipeDict.keys():\n",
    "    PipeDict[k].set_params(CatEncoder= _cat_enc)"
   ],
   "id": "8208fa606e99709c",
   "outputs": [],
   "execution_count": 98
  },
  {
   "metadata": {
    "ExecuteTime": {
     "end_time": "2024-07-30T14:47:37.365285Z",
     "start_time": "2024-07-30T14:47:36.534746Z"
    }
   },
   "cell_type": "code",
   "source": [
    "if len(features_to_use)==0:\n",
    "    meas_cols = [c for c in DATA.columns if ('Dataset' not in c) \n",
    "                 & (target_col not in c)\n",
    "                 & (\"Heart Axis Diagnosis\" not in c)]\n",
    "else:\n",
    "    meas_cols = features_to_use\n",
    "    \n",
    "fstring = f\"CONDUCTION{CLASS_WEIGHT_STRING}{ALL_FEATURES_STRING}{REDUCED_LABEL_STRING}{CALIBRATED_CLASSIFIER_STRING}{FEATURE_COMBO_STRING}\"\n",
    "os.makedirs(os.path.join(data_path, fstring), exist_ok=True)\n",
    "\n",
    "CONDUCTION_DATA = DATA.loc[DATA[target_col].apply(lambda x: any([c in x for c in target_inclusion])),  meas_cols+[target_col]+['Dataset']]\n",
    "\n",
    "CONDUCTION_DATA = CONDUCTION_DATA.assign(Diagnosis=CONDUCTION_DATA.Diagnosis.map({\n",
    "                                                                'SR': 'SR',\n",
    "                                                                'BF': 'BF',\n",
    "                                                                'RBBB': 'RBBB',\n",
    "                                                                'LBBB': 'LBBB',\n",
    "                                                                'LAFB': 'LAFB',\n",
    "                                                                'LAFB , LVH': 'LAFB',\n",
    "                                                                'Microvoltages , BF': 'BF',\n",
    "                                                                'Microvoltages , RBBB': 'RBBB',\n",
    "                                                                'Microvoltages , LAFB': 'LAFB', \n",
    "                                                                'LVH , BF': 'BF',\n",
    "                                                                'LVH , RBBB': 'RBBB',\n",
    "                                                                'LVH , LBBB': 'LBBB'\n",
    "                                                            }))\n",
    "if USE_REDUCED_LABELS:\n",
    "    CONDUCTION_DATA.loc[:, target_col] = CONDUCTION_DATA[target_col].map(Reduction_map)\n",
    "    \n",
    "CONDUCTION_DATA.to_parquet(os.path.join(data_path, fstring, 'CONDUCTION.parquet'))\n",
    "CONDUCTION_DATA = CONDUCTION_DATA.drop('Dataset', axis=1)"
   ],
   "id": "13961e3c61f51dcf",
   "outputs": [],
   "execution_count": 99
  },
  {
   "metadata": {},
   "cell_type": "markdown",
   "source": "## Training loop",
   "id": "cc77f778e5ba6dc3"
  },
  {
   "metadata": {
    "ExecuteTime": {
     "end_time": "2024-07-30T14:47:37.504821Z",
     "start_time": "2024-07-30T14:47:37.367790Z"
    }
   },
   "cell_type": "code",
   "source": [
    "splitter = RepeatedStratifiedKFold(n_splits=num_splits, n_repeats=num_repeats, random_state=7)\n",
    "X = CONDUCTION_DATA.iloc[:, :-1]\n",
    "Y = CONDUCTION_DATA.iloc[:,-1]\n",
    "\n",
    "lb = LabelBinarizer()\n",
    "lbe = LabelEncoder()\n",
    "Yenc = lbe.fit_transform(Y)\n",
    "lb.fit(Yenc)    \n",
    "ClassMap_CONDUCTION = {i:c for i,c in enumerate(lbe.classes_)}"
   ],
   "id": "6c063168d558da7a",
   "outputs": [],
   "execution_count": 100
  },
  {
   "metadata": {
    "ExecuteTime": {
     "end_time": "2024-07-30T14:47:37.659824Z",
     "start_time": "2024-07-30T14:47:37.506795Z"
    }
   },
   "cell_type": "code",
   "source": "ClassMap_CONDUCTION",
   "id": "7d2e799addecd3dd",
   "outputs": [
    {
     "data": {
      "text/plain": [
       "{0: 'Disease', 1: 'Normal'}"
      ]
     },
     "execution_count": 101,
     "metadata": {},
     "output_type": "execute_result"
    }
   ],
   "execution_count": 101
  },
  {
   "metadata": {
    "ExecuteTime": {
     "end_time": "2024-07-30T16:14:30.242505Z",
     "start_time": "2024-07-30T14:47:37.662296Z"
    }
   },
   "cell_type": "code",
   "source": [
    "RES_LIST_CONDUCTION, RES_CONDUCTION_DF, RES_CONDUCTION_INDCS_DF = tree_utils.training_loop(X, Yenc, splitter, PipeDict,\n",
    "                                    use_class_weights=USE_CLASS_WEIGHT, \n",
    "                                    ClassMap=ClassMap_CONDUCTION,\n",
    "                                    num_splits=num_splits,num_repeats=num_repeats,\n",
    "                                    make_df=True)"
   ],
   "id": "4392a30a2cbe5aea",
   "outputs": [
    {
     "name": "stderr",
     "output_type": "stream",
     "text": [
      "100%|██████████| 100/100 [1:26:52<00:00, 52.12s/it]\n"
     ]
    }
   ],
   "execution_count": 102
  },
  {
   "metadata": {
    "ExecuteTime": {
     "end_time": "2024-07-30T16:14:30.955511Z",
     "start_time": "2024-07-30T16:14:30.244506Z"
    }
   },
   "cell_type": "code",
   "source": [
    "RES_CONDUCTION_DF.to_parquet(os.path.join(data_path, fstring, \"RESULTS.parquet\"))\n",
    "RES_CONDUCTION_INDCS_DF.to_parquet(os.path.join(data_path, fstring, \"RESULTS_w_indices.parquet\"))"
   ],
   "id": "85e6da4aa953ca6b",
   "outputs": [],
   "execution_count": 103
  },
  {
   "metadata": {},
   "cell_type": "markdown",
   "source": "### make roc and precision recall curves",
   "id": "fb9808561967a6d3"
  },
  {
   "metadata": {
    "ExecuteTime": {
     "end_time": "2024-07-30T16:14:31.141513Z",
     "start_time": "2024-07-30T16:14:30.957510Z"
    }
   },
   "cell_type": "code",
   "source": "Y.value_counts()",
   "id": "4ae73bcfe00c24c3",
   "outputs": [
    {
     "data": {
      "text/plain": [
       "Diagnosis\n",
       "Disease    702\n",
       "Normal     649\n",
       "Name: count, dtype: int64"
      ]
     },
     "execution_count": 104,
     "metadata": {},
     "output_type": "execute_result"
    }
   ],
   "execution_count": 104
  },
  {
   "metadata": {
    "ExecuteTime": {
     "end_time": "2024-07-30T16:14:31.343028Z",
     "start_time": "2024-07-30T16:14:31.144517Z"
    }
   },
   "cell_type": "code",
   "source": [
    "n_classes = len(lb.classes_)\n",
    "colors = ['blue', 'green', 'red', 'yellow', 'magenta', 'cyan', 'black']"
   ],
   "id": "9ec0e390ff9b9722",
   "outputs": [],
   "execution_count": 105
  },
  {
   "metadata": {},
   "cell_type": "markdown",
   "source": "",
   "id": "11cf6bcf2eb9d9de"
  },
  {
   "metadata": {
    "ExecuteTime": {
     "end_time": "2024-07-30T16:14:33.637060Z",
     "start_time": "2024-07-30T16:14:31.345018Z"
    }
   },
   "cell_type": "code",
   "source": [
    "PLOTS_CONDUCTION = tree_utils.make_plots(RES_LIST_CONDUCTION, lb,  n_classes, colors,\n",
    "                                         ClassMap_CONDUCTION,\n",
    "                                         output_map=os.path.join(data_path, fstring),\n",
    "                                         show_plot=False,\n",
    "                                         models = list(PipeDict.keys()),\n",
    "                                         plot_title=\"Heart Conduction\")\n",
    "\n",
    "perf_list = tree_utils.get_performance(RES_LIST_CONDUCTION,\n",
    "                                       threshold=1/n_classes, \n",
    "                                       ClassMap=ClassMap_CONDUCTION,\n",
    "                                       models = list(PipeDict.keys()),\n",
    "                                       binarizer=lb)\n",
    "\n",
    "PERF_CONDUCTION = pd.DataFrame(perf_list)"
   ],
   "id": "59c90bef553b4566",
   "outputs": [],
   "execution_count": 106
  },
  {
   "metadata": {
    "ExecuteTime": {
     "end_time": "2024-07-30T16:14:33.792032Z",
     "start_time": "2024-07-30T16:14:33.639034Z"
    }
   },
   "cell_type": "code",
   "source": "PERF_CONDUCTION[['f1', 'precision', 'recall', 'specificity', 'model', 'Class']].groupby(['model', 'Class']).mean()",
   "id": "8c727dfb89c2dfb2",
   "outputs": [
    {
     "data": {
      "text/plain": [
       "                            f1  precision    recall  specificity\n",
       "model Class                                                     \n",
       "DT    Disease/Normal  0.889252   0.879403  0.900767     0.884330\n",
       "LR    Disease/Normal  0.868216   0.826392  0.916163     0.820252\n",
       "XGB   Disease/Normal  0.907831   0.900950  0.916031     0.905861"
      ],
      "text/html": [
       "<div>\n",
       "<style scoped>\n",
       "    .dataframe tbody tr th:only-of-type {\n",
       "        vertical-align: middle;\n",
       "    }\n",
       "\n",
       "    .dataframe tbody tr th {\n",
       "        vertical-align: top;\n",
       "    }\n",
       "\n",
       "    .dataframe thead th {\n",
       "        text-align: right;\n",
       "    }\n",
       "</style>\n",
       "<table border=\"1\" class=\"dataframe\">\n",
       "  <thead>\n",
       "    <tr style=\"text-align: right;\">\n",
       "      <th></th>\n",
       "      <th></th>\n",
       "      <th>f1</th>\n",
       "      <th>precision</th>\n",
       "      <th>recall</th>\n",
       "      <th>specificity</th>\n",
       "    </tr>\n",
       "    <tr>\n",
       "      <th>model</th>\n",
       "      <th>Class</th>\n",
       "      <th></th>\n",
       "      <th></th>\n",
       "      <th></th>\n",
       "      <th></th>\n",
       "    </tr>\n",
       "  </thead>\n",
       "  <tbody>\n",
       "    <tr>\n",
       "      <th>DT</th>\n",
       "      <th>Disease/Normal</th>\n",
       "      <td>0.889252</td>\n",
       "      <td>0.879403</td>\n",
       "      <td>0.900767</td>\n",
       "      <td>0.884330</td>\n",
       "    </tr>\n",
       "    <tr>\n",
       "      <th>LR</th>\n",
       "      <th>Disease/Normal</th>\n",
       "      <td>0.868216</td>\n",
       "      <td>0.826392</td>\n",
       "      <td>0.916163</td>\n",
       "      <td>0.820252</td>\n",
       "    </tr>\n",
       "    <tr>\n",
       "      <th>XGB</th>\n",
       "      <th>Disease/Normal</th>\n",
       "      <td>0.907831</td>\n",
       "      <td>0.900950</td>\n",
       "      <td>0.916031</td>\n",
       "      <td>0.905861</td>\n",
       "    </tr>\n",
       "  </tbody>\n",
       "</table>\n",
       "</div>"
      ]
     },
     "execution_count": 107,
     "metadata": {},
     "output_type": "execute_result"
    }
   ],
   "execution_count": 107
  },
  {
   "metadata": {
    "ExecuteTime": {
     "end_time": "2024-07-30T16:14:37.821547Z",
     "start_time": "2024-07-30T16:14:33.795038Z"
    }
   },
   "cell_type": "code",
   "source": [
    "tree_utils.net_benefit_curve_plot(RES_CONDUCTION_DF, true_col_prefix='Y_test',\n",
    "                                     pred_col_prefix='Y_pred',\n",
    "                                     output_path=os.path.join(data_path, fstring),\n",
    "                                     threshold_steps=20, \n",
    "                                     xlim=[0,0.5],\n",
    "                                     ylim=[-1,1],\n",
    "                                     plot_title=\"Heart Conduction\")\n",
    "\n",
    "tree_utils.calibration_curve_plot(RES_CONDUCTION_DF,\n",
    "                                   true_col_prefix='Y_test',\n",
    "                                   pred_col_prefix='Y_pred',\n",
    "                                   output_path=os.path.join(data_path, fstring),\n",
    "                                   n_bins=10,\n",
    "                                   plot_title=\"Heart Conduction\",\n",
    "                                   show_plot=True)"
   ],
   "id": "54d2906bf2a27141",
   "outputs": [
    {
     "name": "stderr",
     "output_type": "stream",
     "text": [
      "T:\\laupodteam\\AIOS\\Bram\\notebooks\\code_dev\\miniECG_interpretation\\TreeBuilder\\sandbox\\..\\src\\tree_utils.py:253: RuntimeWarning: invalid value encountered in scalar divide\n",
      "  net_benefit = (tp - fp * threshold / (1 - threshold)) / N\n",
      "T:\\laupodteam\\AIOS\\Bram\\notebooks\\code_dev\\miniECG_interpretation\\TreeBuilder\\sandbox\\..\\src\\tree_utils.py:257: RuntimeWarning: divide by zero encountered in scalar divide\n",
      "  all_positive_benefit = tp/N - threshold / (1 - threshold)*(1-prevalence)\n",
      "T:\\laupodteam\\AIOS\\Bram\\notebooks\\code_dev\\miniECG_interpretation\\TreeBuilder\\sandbox\\..\\src\\tree_utils.py:253: RuntimeWarning: invalid value encountered in scalar divide\n",
      "  net_benefit = (tp - fp * threshold / (1 - threshold)) / N\n",
      "T:\\laupodteam\\AIOS\\Bram\\notebooks\\code_dev\\miniECG_interpretation\\TreeBuilder\\sandbox\\..\\src\\tree_utils.py:257: RuntimeWarning: divide by zero encountered in scalar divide\n",
      "  all_positive_benefit = tp/N - threshold / (1 - threshold)*(1-prevalence)\n",
      "T:\\laupodteam\\AIOS\\Bram\\notebooks\\code_dev\\miniECG_interpretation\\TreeBuilder\\sandbox\\..\\src\\tree_utils.py:253: RuntimeWarning: invalid value encountered in scalar divide\n",
      "  net_benefit = (tp - fp * threshold / (1 - threshold)) / N\n",
      "T:\\laupodteam\\AIOS\\Bram\\notebooks\\code_dev\\miniECG_interpretation\\TreeBuilder\\sandbox\\..\\src\\tree_utils.py:257: RuntimeWarning: divide by zero encountered in scalar divide\n",
      "  all_positive_benefit = tp/N - threshold / (1 - threshold)*(1-prevalence)\n",
      "T:\\laupodteam\\AIOS\\Bram\\notebooks\\code_dev\\miniECG_interpretation\\TreeBuilder\\sandbox\\..\\src\\tree_utils.py:253: RuntimeWarning: invalid value encountered in scalar divide\n",
      "  net_benefit = (tp - fp * threshold / (1 - threshold)) / N\n",
      "T:\\laupodteam\\AIOS\\Bram\\notebooks\\code_dev\\miniECG_interpretation\\TreeBuilder\\sandbox\\..\\src\\tree_utils.py:257: RuntimeWarning: divide by zero encountered in scalar divide\n",
      "  all_positive_benefit = tp/N - threshold / (1 - threshold)*(1-prevalence)\n",
      "T:\\laupodteam\\AIOS\\Bram\\notebooks\\code_dev\\miniECG_interpretation\\TreeBuilder\\sandbox\\..\\src\\tree_utils.py:253: RuntimeWarning: invalid value encountered in scalar divide\n",
      "  net_benefit = (tp - fp * threshold / (1 - threshold)) / N\n",
      "T:\\laupodteam\\AIOS\\Bram\\notebooks\\code_dev\\miniECG_interpretation\\TreeBuilder\\sandbox\\..\\src\\tree_utils.py:257: RuntimeWarning: divide by zero encountered in scalar divide\n",
      "  all_positive_benefit = tp/N - threshold / (1 - threshold)*(1-prevalence)\n",
      "T:\\laupodteam\\AIOS\\Bram\\notebooks\\code_dev\\miniECG_interpretation\\TreeBuilder\\sandbox\\..\\src\\tree_utils.py:253: RuntimeWarning: invalid value encountered in scalar divide\n",
      "  net_benefit = (tp - fp * threshold / (1 - threshold)) / N\n",
      "T:\\laupodteam\\AIOS\\Bram\\notebooks\\code_dev\\miniECG_interpretation\\TreeBuilder\\sandbox\\..\\src\\tree_utils.py:257: RuntimeWarning: divide by zero encountered in scalar divide\n",
      "  all_positive_benefit = tp/N - threshold / (1 - threshold)*(1-prevalence)\n"
     ]
    }
   ],
   "execution_count": 108
  },
  {
   "metadata": {
    "ExecuteTime": {
     "end_time": "2024-07-30T16:14:37.837015Z",
     "start_time": "2024-07-30T16:14:37.823524Z"
    }
   },
   "cell_type": "code",
   "source": "",
   "id": "c2ad6a50ea3cb0be",
   "outputs": [],
   "execution_count": 108
  }
 ],
 "metadata": {
  "kernelspec": {
   "display_name": "Python 3 (base_310)",
   "language": "python",
   "name": "python3_base"
  },
  "language_info": {
   "codemirror_mode": {
    "name": "ipython",
    "version": 2
   },
   "file_extension": ".py",
   "mimetype": "text/x-python",
   "name": "python",
   "nbconvert_exporter": "python",
   "pygments_lexer": "ipython2",
   "version": "2.7.6"
  }
 },
 "nbformat": 4,
 "nbformat_minor": 5
}
