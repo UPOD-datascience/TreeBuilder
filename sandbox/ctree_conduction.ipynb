{
 "cells": [
  {
   "cell_type": "code",
   "id": "initial_id",
   "metadata": {
    "collapsed": true,
    "ExecuteTime": {
     "end_time": "2024-07-31T15:43:20.608958Z",
     "start_time": "2024-07-31T15:43:20.315452Z"
    }
   },
   "source": [
    "%load_ext autoreload\n",
    "%autoreload 2\n",
    "\n",
    "import sys\n",
    "import os\n",
    "sys.path.insert(0, os.path.join(os.path.abspath('.'),'..', 'src'))\n",
    "import tree_utils, ctree\n",
    "\n",
    "import numpy as np\n",
    "import scipy as sc\n",
    "from scipy import stats\n",
    "import pandas as pd\n",
    "import pickle\n",
    "\n",
    "from sklearn.preprocessing import OneHotEncoder"
   ],
   "outputs": [
    {
     "name": "stdout",
     "output_type": "stream",
     "text": [
      "The autoreload extension is already loaded. To reload it, use:\n",
      "  %reload_ext autoreload\n"
     ]
    }
   ],
   "execution_count": 30
  },
  {
   "metadata": {
    "ExecuteTime": {
     "end_time": "2024-07-31T13:26:26.278735Z",
     "start_time": "2024-07-31T13:26:25.881733Z"
    }
   },
   "cell_type": "code",
   "source": "data_dir = r'J:\\Onderzoek\\21-763_rvanes_MiniECG-2-Data\\E_ResearchData\\2_ResearchData\\Parquet'",
   "id": "328fd92d0c0f1da4",
   "outputs": [],
   "execution_count": 6
  },
  {
   "metadata": {
    "ExecuteTime": {
     "end_time": "2024-07-31T16:00:36.963607Z",
     "start_time": "2024-07-31T16:00:36.579101Z"
    }
   },
   "cell_type": "code",
   "source": [
    "MIN_MORPHO_PRESENCE = 0.10 # %\n",
    "\n",
    "Split_col = 'Dataset'\n",
    "Target_col = 'Diagnosis'\n",
    "features_to_use = []\n",
    "ignore_cols = [\"Heart Axis Diagnosis\"]"
   ],
   "id": "c6219ba685f490c0",
   "outputs": [],
   "execution_count": 60
  },
  {
   "metadata": {
    "ExecuteTime": {
     "end_time": "2024-07-31T16:02:46.653230Z",
     "start_time": "2024-07-31T16:02:45.947709Z"
    }
   },
   "cell_type": "code",
   "source": [
    "DATA = pd.read_parquet(os.path.join(data_dir, 'DATA.parquet'))\n",
    "\n",
    "morphology_columns = [c for c in DATA.columns if 'morphology' in c]\n",
    "lead_columns = [c for c in DATA.columns if ('lead' in c) & ('morphology' not in c)]\n",
    "\n",
    "for c in morphology_columns:\n",
    "    DATA.loc[:, c] = DATA[c].apply(lambda x: x[0].strip(\",\").strip(\" \"))\n",
    "    DATA.loc[:, c] = DATA[c].apply(lambda x: x if x.strip()!=\"\" else \"none\")\n",
    "\n",
    "OneHot = OneHotEncoder(drop=None, sparse_output=False, min_frequency=MIN_MORPHO_PRESENCE)\n",
    "MorphologyOneHot = pd.DataFrame(data=OneHot.fit_transform(DATA[morphology_columns]), \n",
    "                            columns=OneHot.get_feature_names_out(morphology_columns),\n",
    "                            index=DATA.index)"
   ],
   "id": "51a537c95bdb9d34",
   "outputs": [],
   "execution_count": 73
  },
  {
   "metadata": {
    "ExecuteTime": {
     "end_time": "2024-07-31T16:02:49.290275Z",
     "start_time": "2024-07-31T16:02:48.737765Z"
    }
   },
   "cell_type": "code",
   "source": [
    "DATA = DATA.drop(morphology_columns, axis=1)\n",
    "DATA = pd.concat([DATA, MorphologyOneHot], axis=1)"
   ],
   "id": "88851f9624ac3ae2",
   "outputs": [],
   "execution_count": 74
  },
  {
   "metadata": {
    "ExecuteTime": {
     "end_time": "2024-07-31T16:03:06.617119Z",
     "start_time": "2024-07-31T16:03:06.394121Z"
    }
   },
   "cell_type": "code",
   "source": [
    "keep_columns = [c for c in DATA.columns if c not in ignore_cols]\n",
    "y_train = DATA.loc[DATA[Split_col]=='training', Target_col]\n",
    "y_test = DATA.loc[DATA[Split_col]=='test', Target_col]\n",
    "X_train = DATA.loc[DATA[Split_col]=='training', keep_columns].drop([Target_col, Split_col], \n",
    "                                                                   axis=1)\n",
    "X_test = DATA.loc[DATA[Split_col]=='test', keep_columns].drop([Target_col, Split_col],\n",
    "                                                              axis=1)"
   ],
   "id": "26a59a4d820af02b",
   "outputs": [],
   "execution_count": 76
  },
  {
   "metadata": {},
   "cell_type": "markdown",
   "source": "# Make tree",
   "id": "63e34320264c5225"
  },
  {
   "metadata": {
    "ExecuteTime": {
     "end_time": "2024-07-31T16:08:16.678306Z",
     "start_time": "2024-07-31T16:08:16.107797Z"
    }
   },
   "cell_type": "code",
   "source": "rules_path = r'T:\\laupodteam\\AIOS\\Bram\\notebooks\\code_dev\\miniECG_interpretation\\TreeBuilder\\assets\\conduction_tree.json'",
   "id": "705c65e4096a8ae5",
   "outputs": [],
   "execution_count": 78
  },
  {
   "metadata": {
    "ExecuteTime": {
     "end_time": "2024-07-31T16:10:10.030762Z",
     "start_time": "2024-07-31T16:10:09.751257Z"
    }
   },
   "cell_type": "code",
   "source": [
    "rules_loader = ctree.LoadRules(rules_path)\n",
    "processed_rules = rules_loader.get_processed_rules()"
   ],
   "id": "ce42d8c8ba64c271",
   "outputs": [],
   "execution_count": 80
  },
  {
   "metadata": {
    "ExecuteTime": {
     "end_time": "2024-07-31T16:10:13.657830Z",
     "start_time": "2024-07-31T16:10:13.253322Z"
    }
   },
   "cell_type": "code",
   "source": [
    "# ignore_after and features_to_use_next not yet incorporated.. TODO :)\n",
    "processed_rules"
   ],
   "id": "97986a858d125c1f",
   "outputs": [
    {
     "data": {
      "text/plain": [
       "{'name': 'root-node',\n",
       " 'feature': 'QRS_duration mean',\n",
       " 'condition': 'higher_than_or_equal_to',\n",
       " 'value': 110,\n",
       " 'children': [{'name': 'root-child-1',\n",
       "   'feature': 'QRS_duration mean',\n",
       "   'condition': 'higher_than_or_equal_to',\n",
       "   'value': 120,\n",
       "   'pre_condition_value': True},\n",
       "  {'name': 'root-child-2',\n",
       "   'feature': [],\n",
       "   'condition': [],\n",
       "   'value': [],\n",
       "   'pre_condition_value': False}]}"
      ]
     },
     "execution_count": 81,
     "metadata": {},
     "output_type": "execute_result"
    }
   ],
   "execution_count": 81
  },
  {
   "metadata": {},
   "cell_type": "code",
   "outputs": [],
   "execution_count": null,
   "source": "",
   "id": "77d1f7677f7be161"
  }
 ],
 "metadata": {
  "kernelspec": {
   "display_name": "Python 3",
   "language": "python",
   "name": "python3"
  },
  "language_info": {
   "codemirror_mode": {
    "name": "ipython",
    "version": 2
   },
   "file_extension": ".py",
   "mimetype": "text/x-python",
   "name": "python",
   "nbconvert_exporter": "python",
   "pygments_lexer": "ipython2",
   "version": "2.7.6"
  }
 },
 "nbformat": 4,
 "nbformat_minor": 5
}
