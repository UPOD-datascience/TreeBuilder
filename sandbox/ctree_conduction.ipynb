{
 "cells": [
  {
   "cell_type": "code",
   "id": "initial_id",
   "metadata": {
    "collapsed": true,
    "ExecuteTime": {
     "end_time": "2024-08-12T18:23:19.656795Z",
     "start_time": "2024-08-12T18:23:14.203764Z"
    }
   },
   "source": [
    "%load_ext autoreload\n",
    "%autoreload 2\n",
    "\n",
    "import sys\n",
    "import os\n",
    "sys.path.insert(0, os.path.join(os.path.abspath('.'),'..', 'src'))\n",
    "import tree_utils, ctree\n",
    "\n",
    "import numpy as np\n",
    "import scipy as sc\n",
    "from scipy import stats\n",
    "import pandas as pd\n",
    "import pickle\n",
    "import json\n",
    "import tqdm\n",
    "\n",
    "from sklearn.preprocessing import OneHotEncoder\n",
    "from sklearn.preprocessing import LabelEncoder, LabelBinarizer\n",
    "from sklearn.tree import DecisionTreeClassifier\n",
    "from sklearn.model_selection import RepeatedStratifiedKFold\n",
    "\n",
    "from sklearn.metrics import accuracy_score\n",
    "from sklearn.linear_model import LinearRegression\n",
    "from sklearn.ensemble import RandomForestRegressor\n",
    "from sklearn.experimental import enable_iterative_imputer\n",
    "from sklearn.impute import SimpleImputer, IterativeImputer, KNNImputer\n"
   ],
   "outputs": [],
   "execution_count": 1
  },
  {
   "metadata": {
    "ExecuteTime": {
     "end_time": "2024-08-12T18:23:19.781835Z",
     "start_time": "2024-08-12T18:23:19.656795Z"
    }
   },
   "cell_type": "code",
   "source": [
    "morphology_categories = {\n",
    "    'only positive, no notch/acc': ['R'], \n",
    "    'only negative, no notch/acc': ['S'],\n",
    "    'both positive and negative, no notch/acc': ['Q.R', 'Q.R.S', 'R.S'],\n",
    "    'only positive with notch/accent': [\n",
    "        'R.R_acc', 'R.Rn', 'R.Rn.R_acc', 'Rn.R', 'Rn.R.R_acc', 'Rn.R.Rn'\n",
    "    ],\n",
    "    'only negative with notch/accent': [\n",
    "        'S.Sn', 'Sn.S', 'Sn.S.Sn'\n",
    "    ],\n",
    "    'both positive and negative with notch/accent': [\n",
    "        'Q.R.R_acc', 'Q.R.R_acc.S', 'Q.R.Rn', 'Q.R.Rn.S', 'Q.R.S.R_acc',\n",
    "        'Q.R.S.R_acc.S_acc', 'Q.R.S.Sn', 'Q.Rn.R', 'Q.Rn.R.S', 'R.R_acc.S',\n",
    "        'R.R_acc.S.S_acc', 'R.Rn.S', 'R.S.R_acc', 'R.S.R_acc.S_acc', 'R.S.Rn',\n",
    "        'R.S.Rn.Sn', 'R.S.S_acc', 'R.S.Sn', 'R.Sn.S', 'R.Sn.S.R_acc',\n",
    "        'R.Sn.S.Sn', 'Rn.R.R_acc.S', 'Rn.R.Rn.S', 'Rn.R.S', 'Rn.R.S.R_acc',\n",
    "        'Rn.R.S.R_acc.S_acc', 'Rn.R.S.Rn'\n",
    "    ],\n",
    "    'none': ['none']\n",
    "}\n",
    "inv_morpho_map = {_v:k  for k,v in morphology_categories.items() for _v in v}\n"
   ],
   "id": "51ba2273109837cc",
   "outputs": [],
   "execution_count": 2
  },
  {
   "cell_type": "code",
   "id": "328fd92d0c0f1da4",
   "metadata": {
    "ExecuteTime": {
     "end_time": "2024-08-12T18:23:19.891158Z",
     "start_time": "2024-08-12T18:23:19.781835Z"
    }
   },
   "source": [
    "data_dir = r'J:\\Onderzoek\\21-763_rvanes_MiniECG-2-Data\\E_ResearchData\\2_ResearchData\\Parquet'\n",
    "output_dir = r'J:\\Onderzoek\\21-763_rvanes_MiniECG-2-Data\\G_Output\\2_Data\\CustomTree'"
   ],
   "outputs": [],
   "execution_count": 3
  },
  {
   "metadata": {
    "ExecuteTime": {
     "end_time": "2024-08-12T18:23:20.282158Z",
     "start_time": "2024-08-12T18:23:19.891158Z"
    }
   },
   "cell_type": "code",
   "source": "NameMap = pd.read_parquet(os.path.join(data_dir, '..', 'Name_toSimpleName.parquet'))",
   "id": "553efb423d7da36",
   "outputs": [],
   "execution_count": 4
  },
  {
   "metadata": {
    "ExecuteTime": {
     "end_time": "2024-08-12T18:23:20.406885Z",
     "start_time": "2024-08-12T18:23:20.282158Z"
    }
   },
   "cell_type": "code",
   "source": "NameMapDict = {k:v for k,v in zip(NameMap['Old_Name'].values, NameMap['New_Name'].values)}",
   "id": "d59dcb45d9b1223c",
   "outputs": [],
   "execution_count": 5
  },
  {
   "cell_type": "code",
   "id": "c6219ba685f490c0",
   "metadata": {
    "ExecuteTime": {
     "end_time": "2024-08-12T18:23:20.532170Z",
     "start_time": "2024-08-12T18:23:20.406885Z"
    }
   },
   "source": [
    "MIN_MORPHO_PRESENCE = 0.05 # %\n",
    "MULTI_CLASS = False\n",
    "num_splits = 10\n",
    "num_repeats = 10\n",
    "MISSINGNESS_INDICATOR = False\n",
    "MORPHO_MAP = True\n",
    "\n",
    "MULTI_CLASS_STRING = \"_MultiClass\" if MULTI_CLASS else \"\"\n",
    "MISSINGNESS_INDICATOR_STRING = \"_Missing\" if MISSINGNESS_INDICATOR else \"\"\n",
    "MORPHO_MAP_STRING = \"_MorphoMap\" if MORPHO_MAP else \"\""
   ],
   "outputs": [],
   "execution_count": 6
  },
  {
   "cell_type": "code",
   "id": "51a537c95bdb9d34",
   "metadata": {
    "ExecuteTime": {
     "end_time": "2024-08-12T18:23:20.750850Z",
     "start_time": "2024-08-12T18:23:20.532170Z"
    }
   },
   "source": [
    "DATA = pd.read_parquet(os.path.join(data_dir, f'DATA.parquet'))\n",
    "\n",
    "DATA.columns = [NameMapDict[c] for c in DATA.columns]\n",
    "\n",
    "morphology_columns = [c for c in DATA.columns if 'morphology' in c.lower()]\n",
    "lead_columns = [c for c in DATA.columns if ('lead' in c.lower()) & ('morphology' not in c.lower())]\n",
    "\n",
    "for c in morphology_columns:\n",
    "    DATA.loc[:, c] = DATA[c].apply(lambda x: x[0].strip(\",\").strip(\" \"))\n",
    "    DATA.loc[:, c] = DATA[c].apply(lambda x: x if x.strip()!=\"\" else \"none\")\n",
    "    "
   ],
   "outputs": [],
   "execution_count": 7
  },
  {
   "metadata": {
    "ExecuteTime": {
     "end_time": "2024-08-12T18:23:20.875677Z",
     "start_time": "2024-08-12T18:23:20.750850Z"
    }
   },
   "cell_type": "code",
   "source": [
    "if MORPHO_MAP:\n",
    "    for c in morphology_columns:\n",
    "        DATA.loc[:, c] = DATA[c].map(inv_morpho_map)"
   ],
   "id": "8dc4908b9039d4ac",
   "outputs": [],
   "execution_count": 8
  },
  {
   "metadata": {
    "ExecuteTime": {
     "end_time": "2024-08-12T18:23:21.000713Z",
     "start_time": "2024-08-12T18:23:20.875677Z"
    }
   },
   "cell_type": "code",
   "source": [
    "vocab = set()\n",
    "for lOl in [DATA[c].str.split(\".\").values for c in morphology_columns]:\n",
    "    for l in lOl:\n",
    "        for _s in l:\n",
    "            vocab.add(_s)\n",
    "Vocab = {k:v for k,v in enumerate(vocab)}"
   ],
   "id": "713ee896ce7264c8",
   "outputs": [],
   "execution_count": 9
  },
  {
   "metadata": {
    "ExecuteTime": {
     "end_time": "2024-08-12T18:23:21.109976Z",
     "start_time": "2024-08-12T18:23:21.000713Z"
    }
   },
   "cell_type": "code",
   "source": [
    "OneHot = OneHotEncoder(drop=None, \n",
    "                       sparse_output=False, \n",
    "                       min_frequency=MIN_MORPHO_PRESENCE,\n",
    "                       handle_unknown='infrequent_if_exist')\n",
    "\n",
    "MorphologyOneHot = pd.DataFrame(data=OneHot.fit_transform(DATA[morphology_columns]), \n",
    "                            columns=OneHot.get_feature_names_out(morphology_columns),\n",
    "                            index=DATA.index)"
   ],
   "id": "efe3cc9646303824",
   "outputs": [],
   "execution_count": 10
  },
  {
   "cell_type": "code",
   "id": "88851f9624ac3ae2",
   "metadata": {
    "ExecuteTime": {
     "end_time": "2024-08-12T18:23:21.203799Z",
     "start_time": "2024-08-12T18:23:21.109976Z"
    }
   },
   "source": [
    "DATA = DATA.drop(morphology_columns, axis=1)\n",
    "DATA = pd.concat([DATA, MorphologyOneHot], axis=1)"
   ],
   "outputs": [],
   "execution_count": 11
  },
  {
   "cell_type": "code",
   "id": "5c714dfc36621795",
   "metadata": {
    "ExecuteTime": {
     "end_time": "2024-08-12T18:23:21.313339Z",
     "start_time": "2024-08-12T18:23:21.203799Z"
    }
   },
   "source": [
    "DATA = DATA.assign(Diagnosis=DATA.Diagnosis.map({\n",
    "                                                                'SR': 'SR',\n",
    "                                                                'BF': 'BF',\n",
    "                                                                'RBBB': 'RBBB',\n",
    "                                                                'LBBB': 'LBBB',\n",
    "                                                                'LAFB': 'LAFB',\n",
    "                                                                'LAFB , LVH': 'LAFB',\n",
    "                                                                'Microvoltages , BF': 'BF',\n",
    "                                                                'Microvoltages , RBBB': 'RBBB',\n",
    "                                                                'Microvoltages , LAFB': 'LAFB', \n",
    "                                                                'LVH , BF': 'BF',\n",
    "                                                                'LVH , RBBB': 'RBBB',\n",
    "                                                                'LVH , LBBB': 'LBBB'\n",
    "                                                            }))\n",
    "Reduction_map = {'BF': 'Disease', \n",
    "                 'LBBB': 'Disease', \n",
    "                 'RBBB': 'Disease',\n",
    "                 'LAFB': 'Disease',\n",
    "                 'SR': 'Normal'}\n",
    "\n",
    "if MULTI_CLASS==False:\n",
    "    DATA = DATA.assign(Diagnosis=DATA.Diagnosis.map(Reduction_map))\n",
    "DATA = DATA.dropna(subset=['Diagnosis'])\n"
   ],
   "outputs": [],
   "execution_count": 12
  },
  {
   "metadata": {
    "ExecuteTime": {
     "end_time": "2024-08-12T18:23:21.422470Z",
     "start_time": "2024-08-12T18:23:21.313339Z"
    }
   },
   "cell_type": "code",
   "source": "Infreq_cat_dict = {morphology_columns[k]:list(inf_cats) for k, inf_cats in enumerate(OneHot.infrequent_categories_)}",
   "id": "ddc59f592300e9f0",
   "outputs": [],
   "execution_count": 13
  },
  {
   "metadata": {
    "ExecuteTime": {
     "end_time": "2024-08-12T18:23:21.547654Z",
     "start_time": "2024-08-12T18:23:21.422470Z"
    }
   },
   "cell_type": "code",
   "source": "json.dump(Infreq_cat_dict, open(os.path.join(output_dir, 'infrequent_categories_map.json'), 'w'))",
   "id": "e647cddbf1921ef2",
   "outputs": [],
   "execution_count": 14
  },
  {
   "cell_type": "markdown",
   "id": "63e34320264c5225",
   "metadata": {},
   "source": [
    "# Make tree"
   ]
  },
  {
   "cell_type": "code",
   "id": "705c65e4096a8ae5",
   "metadata": {
    "ExecuteTime": {
     "end_time": "2024-08-12T18:23:21.656805Z",
     "start_time": "2024-08-12T18:23:21.547654Z"
    }
   },
   "source": [
    "rules_path = r'T:\\laupodteam\\AIOS\\Bram\\notebooks\\code_dev\\miniECG_interpretation\\TreeBuilder\\assets\\conduction_tree.json'\n",
    "\n",
    "TreeKwargs = {\n",
    "    'criterion':'gini', \n",
    "    'splitter':'best', \n",
    "    'max_depth':5, \n",
    "    'min_samples_split':10, \n",
    "    'min_samples_leaf': 5, \n",
    "    'min_weight_fraction_leaf':0.05, \n",
    "    'max_features':None, \n",
    "    'random_state':7, \n",
    "    'max_leaf_nodes':50,\n",
    "    'class_weight': 'balanced'\n",
    "}"
   ],
   "outputs": [],
   "execution_count": 15
  },
  {
   "cell_type": "code",
   "id": "ce42d8c8ba64c271",
   "metadata": {
    "ExecuteTime": {
     "end_time": "2024-08-12T18:23:21.766142Z",
     "start_time": "2024-08-12T18:23:21.656805Z"
    }
   },
   "source": [
    "rules_loader = ctree.LoadRules(rules_path, name_map=NameMapDict)\n",
    "processed_rules = rules_loader.get_processed_rules()"
   ],
   "outputs": [],
   "execution_count": 16
  },
  {
   "cell_type": "code",
   "id": "8930ab9a3dcd41c7",
   "metadata": {
    "ExecuteTime": {
     "end_time": "2024-08-12T18:23:21.875570Z",
     "start_time": "2024-08-12T18:23:21.766142Z"
    }
   },
   "source": [
    "processed_rules.features_to_use_next"
   ],
   "outputs": [
    {
     "data": {
      "text/plain": [
       "[]"
      ]
     },
     "execution_count": 17,
     "metadata": {},
     "output_type": "execute_result"
    }
   ],
   "execution_count": 17
  },
  {
   "cell_type": "code",
   "id": "52462f4a3a4c0335",
   "metadata": {
    "ExecuteTime": {
     "end_time": "2024-08-12T18:23:22.000539Z",
     "start_time": "2024-08-12T18:23:21.875570Z"
    }
   },
   "source": [
    "SplitColumn = rules_loader.fold_split_col\n",
    "TargetCol = rules_loader.target_col\n",
    "IgnoreCols = rules_loader.ignore_cols\n",
    "FeaturesToUse = rules_loader.features_to_use"
   ],
   "outputs": [],
   "execution_count": 18
  },
  {
   "cell_type": "code",
   "id": "17a47f3113df9286",
   "metadata": {
    "ExecuteTime": {
     "end_time": "2024-08-12T18:23:22.125518Z",
     "start_time": "2024-08-12T18:23:22.000539Z"
    }
   },
   "source": [
    "if len(FeaturesToUse)>0:\n",
    "    keep_columns = set(FeaturesToUse).difference(set(IgnoreCols))\n",
    "else:\n",
    "    keep_columns = [c for c in DATA.columns if c not in IgnoreCols]\n",
    "\n",
    "Splitter = RepeatedStratifiedKFold(n_splits=num_splits, \n",
    "                                   n_repeats=num_repeats, \n",
    "                                   random_state=7)"
   ],
   "outputs": [],
   "execution_count": 19
  },
  {
   "metadata": {
    "ExecuteTime": {
     "end_time": "2024-08-12T18:23:22.234889Z",
     "start_time": "2024-08-12T18:23:22.125518Z"
    }
   },
   "cell_type": "code",
   "source": [
    "X = DATA[[c for c in keep_columns if c not in [SplitColumn, TargetCol]]]\n",
    "Y = DATA[TargetCol]"
   ],
   "id": "a68d125a4d2c9de5",
   "outputs": [],
   "execution_count": 20
  },
  {
   "cell_type": "code",
   "id": "7e0fe0a87ee2e48a",
   "metadata": {
    "ExecuteTime": {
     "end_time": "2024-08-12T18:23:22.359950Z",
     "start_time": "2024-08-12T18:23:22.234889Z"
    }
   },
   "source": [
    "lb = LabelBinarizer()\n",
    "lbe = LabelEncoder()\n",
    "lbe.fit(Y)\n",
    "TargetMap = {k:v for k,v in enumerate(lbe.classes_)}"
   ],
   "outputs": [],
   "execution_count": 21
  },
  {
   "metadata": {
    "ExecuteTime": {
     "end_time": "2024-08-12T18:23:22.485357Z",
     "start_time": "2024-08-12T18:23:22.359950Z"
    }
   },
   "cell_type": "code",
   "source": "TargetMap.values()",
   "id": "c944ee82a01ff1fb",
   "outputs": [
    {
     "data": {
      "text/plain": [
       "dict_values(['Disease', 'Normal'])"
      ]
     },
     "execution_count": 22,
     "metadata": {},
     "output_type": "execute_result"
    }
   ],
   "execution_count": 22
  },
  {
   "metadata": {
    "ExecuteTime": {
     "end_time": "2024-08-12T18:23:23.078656Z",
     "start_time": "2024-08-12T18:23:22.485357Z"
    }
   },
   "cell_type": "code",
   "source": "X.to_parquet(os.path.join(output_dir, f'data{MULTI_CLASS_STRING}{MISSINGNESS_INDICATOR_STRING}{MORPHO_MAP_STRING}.parquet'))",
   "id": "50139353f8bb4626",
   "outputs": [],
   "execution_count": 23
  },
  {
   "metadata": {
    "jupyter": {
     "is_executing": true
    },
    "ExecuteTime": {
     "start_time": "2024-08-12T18:23:23.078656Z"
    }
   },
   "cell_type": "code",
   "source": [
    "results_list = []\n",
    "for i, (train_index, test_index) in tqdm.tqdm(enumerate(Splitter.split(X, Y)),\n",
    "                                              total=num_splits * num_repeats):\n",
    "    result_df = pd.DataFrame()\n",
    "    \n",
    "    X_train, X_test = X.iloc[train_index], X.iloc[test_index]\n",
    "    Y_train, Y_test = Y.iloc[train_index], Y.iloc[test_index]\n",
    "    \n",
    "    y_train_encoded = lbe.transform(Y_train)\n",
    "    y_test_encoded = lbe.transform(Y_test)\n",
    "        \n",
    "    Imputer = IterativeImputer(LinearRegression(), \n",
    "                           add_indicator=MISSINGNESS_INDICATOR, max_iter=25, verbose=0)\n",
    "    Imputer.fit(X_train)\n",
    "    \n",
    "    X_train_imputed = Imputer.transform(X_train)\n",
    "    X_test_imputed = Imputer.transform(X_test)\n",
    "    \n",
    "    X_train_imputed = pd.DataFrame(data=X_train_imputed,\n",
    "                                   columns=Imputer.get_feature_names_out())\n",
    "    \n",
    "    X_test_imputed = pd.DataFrame(data=X_test_imputed,\n",
    "                                   columns=Imputer.get_feature_names_out())\n",
    "    \n",
    "    \n",
    "    clf = ctree.CustomDecisionTreeV2(custom_rules=processed_rules,\n",
    "                                 prune_threshold=None,\n",
    "                                 Tree_kwargs=TreeKwargs,\n",
    "                                 TargetMap = TargetMap, \n",
    "                                 tot_max_depth=5)\n",
    "\n",
    "    clf_base = DecisionTreeClassifier(**TreeKwargs)\n",
    "    \n",
    "    print(\"Training classifiers...\")\n",
    "    clf_base.fit(X_train_imputed, y_train_encoded)\n",
    "    clf.fit(X_train_imputed, y_train_encoded)\n",
    "    enriched_rules = clf.get_enriched_rules()\n",
    "    final_tree = clf.get_custom_rules_model()\n",
    "    \n",
    "    Fold = i % num_splits\n",
    "    Repeat = i // num_splits\n",
    "    \n",
    "    \n",
    "    json.dump(final_tree, \n",
    "              open(os.path.join(output_dir, f\"tree_Fold{Fold}_{Repeat}{MULTI_CLASS_STRING}{MISSINGNESS_INDICATOR_STRING}{MORPHO_MAP_STRING}.json\"), mode='w'))\n",
    "    ctree.update_html(tree=final_tree, \n",
    "                      html_path=\"../src/treeTemplate.html\", \n",
    "                      output_path=os.path.join(output_dir, f\"tree_Fold{Fold}_{Repeat}{MULTI_CLASS_STRING}{MISSINGNESS_INDICATOR_STRING}{MORPHO_MAP_STRING}.html\"))\n",
    "    \n",
    "    sklearn_tree = clf.load_from_sklearn_tree(clf_base, X_train_imputed, y_train_encoded)\n",
    "    final_tree_sklearn = sklearn_tree.get_custom_rules_model()\n",
    "    json.dump(final_tree_sklearn, \n",
    "              open(os.path.join(output_dir, f\"sklearn_tree_Fold{Fold}_{Repeat}{MULTI_CLASS_STRING}{MISSINGNESS_INDICATOR_STRING}{MORPHO_MAP_STRING}.json\"), mode='w'))\n",
    "    ctree.update_html(tree=final_tree_sklearn, \n",
    "                     html_path=\"../src/treeTemplate.html\", \n",
    "                     output_path=os.path.join(output_dir, f\"sklearn_tree_Fold{Fold}_{Repeat}{MULTI_CLASS_STRING}{MISSINGNESS_INDICATOR_STRING}{MORPHO_MAP_STRING}.html\"))\n",
    "    \n",
    "    cust_probas_train = clf.predict_proba(X_train_imputed)\n",
    "    cust_probas_test = clf.predict_proba(X_test_imputed)\n",
    "    \n",
    "    base_probas_train = clf_base.predict_proba(X_train_imputed)\n",
    "    base_probas_test = clf_base.predict_proba(X_test_imputed)\n",
    "    \n",
    "    result_df['indices'] = np.hstack([train_index, test_index])\n",
    "    result_df['Fold'] = Fold\n",
    "    result_df['Repeat'] = Repeat\n",
    "    result_df['Y_true'] = np.hstack([Y_train.values, Y_test.values])\n",
    "    result_df[[f'Y_pred_normal_DT_{cname}' for cname in TargetMap.values()]] = np.vstack([base_probas_train, base_probas_test])\n",
    "    result_df[[f'Y_pred_custom_DT_{cname}' for cname in TargetMap.values()]] = np.vstack([cust_probas_train, cust_probas_test])\n",
    "    result_df['Dataset'] = ['train' for _ in train_index]+['test' for _ in test_index]\n",
    "    \n",
    "    results_list.append(result_df)\n",
    "    \n",
    "Final_results = pd.concat(results_list, axis=0)\n",
    "Final_results.to_csv(os.path.join(output_dir, f\"results{MULTI_CLASS_STRING}{MISSINGNESS_INDICATOR_STRING}{MORPHO_MAP_STRING}.csv\"), index=False, sep=\";\")\n",
    "Final_results.to_parquet(os.path.join(output_dir, f\"results{MULTI_CLASS_STRING}{MISSINGNESS_INDICATOR_STRING}{MORPHO_MAP_STRING}.parquet\"))\n"
   ],
   "id": "72e244d313d5c294",
   "outputs": [
    {
     "name": "stderr",
     "output_type": "stream",
     "text": [
      "  0%|          | 0/100 [00:00<?, ?it/s]INFO:ctree:Starting fit method\n",
      "INFO:ctree:Number of features: 82\n",
      "INFO:ctree:Number of classes: 2\n",
      "INFO:ctree:Features to consider: ['QRS vector Lead A1', 'P vector Lead A1', 'T vector Lead A1', 'QRS amplitude Lead A1', 'QRS vector Lead L1', 'P vector Lead L1', 'T vector Lead L1', 'QRS amplitude Lead L1', 'QRS vector Lead S1', 'P vector Lead S1', 'T vector Lead S1', 'QRS amplitude Lead S1', 'QRS vector Lead A2', 'P vector Lead A2', 'T vector Lead A2', 'QRS amplitude Lead A2', 'QRS vector Lead L2', 'P vector Lead L2', 'T vector Lead L2', 'QRS amplitude Lead L2', 'QRS vector Lead I1', 'P vector Lead I1', 'T vector Lead I1', 'QRS amplitude Lead I1', 'QRS vector Lead I2', 'P vector Lead I2', 'T vector Lead I2', 'QRS amplitude Lead I2', 'QRS vector Lead I3', 'P vector Lead I3', 'T vector Lead I3', 'QRS amplitude Lead I3', 'QQ intervals', 'Heart rate', 'PQ duration', 'QT duration', 'QTc duration', 'T duration', 'P duration', 'QRS duration', 'Morphology Lead A1_both positive and negative, no notch/acc', 'Morphology Lead A1_none', 'Morphology Lead A1_only negative, no notch/acc', 'Morphology Lead A1_only positive, no notch/acc', 'Morphology Lead A1_infrequent_sklearn', 'Morphology Lead L1_both positive and negative with notch/accent', 'Morphology Lead L1_both positive and negative, no notch/acc', 'Morphology Lead L1_only negative, no notch/acc', 'Morphology Lead L1_only positive with notch/accent', 'Morphology Lead L1_infrequent_sklearn', 'Morphology Lead S1_both positive and negative, no notch/acc', 'Morphology Lead S1_none', 'Morphology Lead S1_only negative, no notch/acc', 'Morphology Lead S1_only positive, no notch/acc', 'Morphology Lead S1_infrequent_sklearn', 'Morphology Lead A2_both positive and negative, no notch/acc', 'Morphology Lead A2_none', 'Morphology Lead A2_only negative, no notch/acc', 'Morphology Lead A2_only positive, no notch/acc', 'Morphology Lead A2_infrequent_sklearn', 'Morphology Lead L2_both positive and negative with notch/accent', 'Morphology Lead L2_both positive and negative, no notch/acc', 'Morphology Lead L2_only negative, no notch/acc', 'Morphology Lead L2_only positive with notch/accent', 'Morphology Lead L2_only positive, no notch/acc', 'Morphology Lead L2_infrequent_sklearn', 'Morphology Lead I1_both positive and negative with notch/accent', 'Morphology Lead I1_both positive and negative, no notch/acc', 'Morphology Lead I1_only negative, no notch/acc', 'Morphology Lead I1_only positive with notch/accent', 'Morphology Lead I1_infrequent_sklearn', 'Morphology Lead I2_both positive and negative with notch/accent', 'Morphology Lead I2_both positive and negative, no notch/acc', 'Morphology Lead I2_only negative, no notch/acc', 'Morphology Lead I2_only positive with notch/accent', 'Morphology Lead I2_only positive, no notch/acc', 'Morphology Lead I2_infrequent_sklearn', 'Morphology Lead I3_both positive and negative with notch/accent', 'Morphology Lead I3_both positive and negative, no notch/acc', 'Morphology Lead I3_only negative, no notch/acc', 'Morphology Lead I3_only positive, no notch/acc', 'Morphology Lead I3_infrequent_sklearn']\n",
      "INFO:ctree:Initial tree structure - RuleNode\n",
      "INFO:ctree:Initial tree structure created\n",
      "WARNING:ctree:No samples left for subtree. Making a leaf node.\n",
      "WARNING:ctree:No samples left for subtree. Making a leaf node.\n",
      "WARNING:ctree:No samples left for subtree. Making a leaf node.\n",
      "WARNING:ctree:No samples left for subtree. Making a leaf node.\n",
      "WARNING:ctree:No samples left for subtree. Making a leaf node.\n",
      "WARNING:ctree:No samples left for subtree. Making a leaf node.\n"
     ]
    },
    {
     "name": "stdout",
     "output_type": "stream",
     "text": [
      "Training classifiers...\n"
     ]
    },
    {
     "name": "stderr",
     "output_type": "stream",
     "text": [
      "WARNING:ctree:No samples left for subtree. Making a leaf node.\n",
      "WARNING:ctree:No samples left for subtree. Making a leaf node.\n",
      "WARNING:ctree:No samples left for subtree. Making a leaf node.\n",
      "WARNING:ctree:No samples left for subtree. Making a leaf node.\n",
      "WARNING:ctree:No samples left for subtree. Making a leaf node.\n",
      "WARNING:ctree:No samples left for subtree. Making a leaf node.\n",
      "WARNING:ctree:No samples left for subtree. Making a leaf node.\n",
      "WARNING:ctree:No samples left for subtree. Making a leaf node.\n",
      "WARNING:ctree:No samples left for subtree. Making a leaf node.\n",
      "WARNING:ctree:No samples left for subtree. Making a leaf node.\n",
      "WARNING:ctree:No samples left for subtree. Making a leaf node.\n",
      "WARNING:ctree:No samples left for subtree. Making a leaf node.\n",
      "WARNING:ctree:No samples left for subtree. Making a leaf node.\n",
      "WARNING:ctree:No samples left for subtree. Making a leaf node.\n",
      "INFO:ctree:Tree building completed\n",
      "INFO:ctree:Tree enrichment completed\n",
      "  1%|          | 1/100 [00:22<37:41, 22.84s/it]INFO:ctree:Starting fit method\n",
      "INFO:ctree:Number of features: 82\n",
      "INFO:ctree:Number of classes: 2\n",
      "INFO:ctree:Features to consider: ['QRS vector Lead A1', 'P vector Lead A1', 'T vector Lead A1', 'QRS amplitude Lead A1', 'QRS vector Lead L1', 'P vector Lead L1', 'T vector Lead L1', 'QRS amplitude Lead L1', 'QRS vector Lead S1', 'P vector Lead S1', 'T vector Lead S1', 'QRS amplitude Lead S1', 'QRS vector Lead A2', 'P vector Lead A2', 'T vector Lead A2', 'QRS amplitude Lead A2', 'QRS vector Lead L2', 'P vector Lead L2', 'T vector Lead L2', 'QRS amplitude Lead L2', 'QRS vector Lead I1', 'P vector Lead I1', 'T vector Lead I1', 'QRS amplitude Lead I1', 'QRS vector Lead I2', 'P vector Lead I2', 'T vector Lead I2', 'QRS amplitude Lead I2', 'QRS vector Lead I3', 'P vector Lead I3', 'T vector Lead I3', 'QRS amplitude Lead I3', 'QQ intervals', 'Heart rate', 'PQ duration', 'QT duration', 'QTc duration', 'T duration', 'P duration', 'QRS duration', 'Morphology Lead A1_both positive and negative, no notch/acc', 'Morphology Lead A1_none', 'Morphology Lead A1_only negative, no notch/acc', 'Morphology Lead A1_only positive, no notch/acc', 'Morphology Lead A1_infrequent_sklearn', 'Morphology Lead L1_both positive and negative with notch/accent', 'Morphology Lead L1_both positive and negative, no notch/acc', 'Morphology Lead L1_only negative, no notch/acc', 'Morphology Lead L1_only positive with notch/accent', 'Morphology Lead L1_infrequent_sklearn', 'Morphology Lead S1_both positive and negative, no notch/acc', 'Morphology Lead S1_none', 'Morphology Lead S1_only negative, no notch/acc', 'Morphology Lead S1_only positive, no notch/acc', 'Morphology Lead S1_infrequent_sklearn', 'Morphology Lead A2_both positive and negative, no notch/acc', 'Morphology Lead A2_none', 'Morphology Lead A2_only negative, no notch/acc', 'Morphology Lead A2_only positive, no notch/acc', 'Morphology Lead A2_infrequent_sklearn', 'Morphology Lead L2_both positive and negative with notch/accent', 'Morphology Lead L2_both positive and negative, no notch/acc', 'Morphology Lead L2_only negative, no notch/acc', 'Morphology Lead L2_only positive with notch/accent', 'Morphology Lead L2_only positive, no notch/acc', 'Morphology Lead L2_infrequent_sklearn', 'Morphology Lead I1_both positive and negative with notch/accent', 'Morphology Lead I1_both positive and negative, no notch/acc', 'Morphology Lead I1_only negative, no notch/acc', 'Morphology Lead I1_only positive with notch/accent', 'Morphology Lead I1_infrequent_sklearn', 'Morphology Lead I2_both positive and negative with notch/accent', 'Morphology Lead I2_both positive and negative, no notch/acc', 'Morphology Lead I2_only negative, no notch/acc', 'Morphology Lead I2_only positive with notch/accent', 'Morphology Lead I2_only positive, no notch/acc', 'Morphology Lead I2_infrequent_sklearn', 'Morphology Lead I3_both positive and negative with notch/accent', 'Morphology Lead I3_both positive and negative, no notch/acc', 'Morphology Lead I3_only negative, no notch/acc', 'Morphology Lead I3_only positive, no notch/acc', 'Morphology Lead I3_infrequent_sklearn']\n",
      "INFO:ctree:Initial tree structure - RuleNode\n",
      "INFO:ctree:Initial tree structure created\n",
      "WARNING:ctree:No samples left for subtree. Making a leaf node.\n",
      "WARNING:ctree:No samples left for subtree. Making a leaf node.\n",
      "WARNING:ctree:No samples left for subtree. Making a leaf node.\n",
      "WARNING:ctree:No samples left for subtree. Making a leaf node.\n",
      "WARNING:ctree:No samples left for subtree. Making a leaf node.\n",
      "WARNING:ctree:No samples left for subtree. Making a leaf node.\n"
     ]
    },
    {
     "name": "stdout",
     "output_type": "stream",
     "text": [
      "Training classifiers...\n"
     ]
    },
    {
     "name": "stderr",
     "output_type": "stream",
     "text": [
      "WARNING:ctree:No samples left for subtree. Making a leaf node.\n",
      "WARNING:ctree:No samples left for subtree. Making a leaf node.\n",
      "WARNING:ctree:No samples left for subtree. Making a leaf node.\n",
      "WARNING:ctree:No samples left for subtree. Making a leaf node.\n",
      "WARNING:ctree:No samples left for subtree. Making a leaf node.\n",
      "WARNING:ctree:No samples left for subtree. Making a leaf node.\n",
      "WARNING:ctree:No samples left for subtree. Making a leaf node.\n",
      "WARNING:ctree:No samples left for subtree. Making a leaf node.\n",
      "WARNING:ctree:No samples left for subtree. Making a leaf node.\n",
      "WARNING:ctree:No samples left for subtree. Making a leaf node.\n",
      "WARNING:ctree:No samples left for subtree. Making a leaf node.\n",
      "WARNING:ctree:No samples left for subtree. Making a leaf node.\n",
      "WARNING:ctree:No samples left for subtree. Making a leaf node.\n",
      "WARNING:ctree:No samples left for subtree. Making a leaf node.\n",
      "WARNING:ctree:No samples left for subtree. Making a leaf node.\n",
      "WARNING:ctree:No samples left for subtree. Making a leaf node.\n",
      "WARNING:ctree:No samples left for subtree. Making a leaf node.\n",
      "WARNING:ctree:No samples left for subtree. Making a leaf node.\n",
      "WARNING:ctree:No samples left for subtree. Making a leaf node.\n",
      "WARNING:ctree:No samples left for subtree. Making a leaf node.\n",
      "INFO:ctree:Tree building completed\n",
      "INFO:ctree:Tree enrichment completed\n",
      "  2%|▏         | 2/100 [00:48<39:49, 24.39s/it]"
     ]
    }
   ],
   "execution_count": null
  },
  {
   "metadata": {
    "jupyter": {
     "is_executing": true
    }
   },
   "cell_type": "code",
   "source": "",
   "id": "a937e035478b02d9",
   "outputs": [],
   "execution_count": null
  },
  {
   "metadata": {
    "jupyter": {
     "is_executing": true
    }
   },
   "cell_type": "code",
   "source": "",
   "id": "e7670c321abd0704",
   "outputs": [],
   "execution_count": null
  },
  {
   "metadata": {
    "jupyter": {
     "is_executing": true
    }
   },
   "cell_type": "code",
   "source": "",
   "id": "5c2a72c34f357443",
   "outputs": [],
   "execution_count": null
  }
 ],
 "metadata": {
  "kernelspec": {
   "display_name": "base_310",
   "language": "python",
   "name": "python3"
  },
  "language_info": {
   "codemirror_mode": {
    "name": "ipython",
    "version": 3
   },
   "file_extension": ".py",
   "mimetype": "text/x-python",
   "name": "python",
   "nbconvert_exporter": "python",
   "pygments_lexer": "ipython3",
   "version": "3.10.5"
  }
 },
 "nbformat": 4,
 "nbformat_minor": 5
}
