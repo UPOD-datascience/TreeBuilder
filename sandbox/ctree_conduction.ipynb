{
 "cells": [
  {
   "cell_type": "code",
   "id": "initial_id",
   "metadata": {
    "collapsed": true,
    "ExecuteTime": {
     "end_time": "2024-08-01T13:39:40.745401Z",
     "start_time": "2024-08-01T13:39:35.338595Z"
    }
   },
   "source": [
    "%load_ext autoreload\n",
    "%autoreload 2\n",
    "\n",
    "import sys\n",
    "import os\n",
    "sys.path.insert(0, os.path.join(os.path.abspath('.'),'..', 'src'))\n",
    "import tree_utils, ctree\n",
    "\n",
    "import numpy as np\n",
    "import scipy as sc\n",
    "from scipy import stats\n",
    "import pandas as pd\n",
    "import pickle\n",
    "\n",
    "from sklearn.preprocessing import OneHotEncoder"
   ],
   "outputs": [],
   "execution_count": 1
  },
  {
   "metadata": {
    "ExecuteTime": {
     "end_time": "2024-08-01T13:39:40.931127Z",
     "start_time": "2024-08-01T13:39:40.750875Z"
    }
   },
   "cell_type": "code",
   "source": "data_dir = r'J:\\Onderzoek\\21-763_rvanes_MiniECG-2-Data\\E_ResearchData\\2_ResearchData\\Parquet'",
   "id": "328fd92d0c0f1da4",
   "outputs": [],
   "execution_count": 2
  },
  {
   "metadata": {
    "ExecuteTime": {
     "end_time": "2024-08-01T13:39:41.147884Z",
     "start_time": "2024-08-01T13:39:40.933875Z"
    }
   },
   "cell_type": "code",
   "source": "MIN_MORPHO_PRESENCE = 0.10 # %\n",
   "id": "c6219ba685f490c0",
   "outputs": [],
   "execution_count": 3
  },
  {
   "metadata": {
    "ExecuteTime": {
     "end_time": "2024-08-01T13:39:41.566383Z",
     "start_time": "2024-08-01T13:39:41.151874Z"
    }
   },
   "cell_type": "code",
   "source": [
    "DATA = pd.read_parquet(os.path.join(data_dir, 'DATA.parquet'))\n",
    "\n",
    "morphology_columns = [c for c in DATA.columns if 'morphology' in c]\n",
    "lead_columns = [c for c in DATA.columns if ('lead' in c) & ('morphology' not in c)]\n",
    "\n",
    "for c in morphology_columns:\n",
    "    DATA.loc[:, c] = DATA[c].apply(lambda x: x[0].strip(\",\").strip(\" \"))\n",
    "    DATA.loc[:, c] = DATA[c].apply(lambda x: x if x.strip()!=\"\" else \"none\")\n",
    "\n",
    "OneHot = OneHotEncoder(drop=None, sparse_output=False, min_frequency=MIN_MORPHO_PRESENCE)\n",
    "MorphologyOneHot = pd.DataFrame(data=OneHot.fit_transform(DATA[morphology_columns]), \n",
    "                            columns=OneHot.get_feature_names_out(morphology_columns),\n",
    "                            index=DATA.index)"
   ],
   "id": "51a537c95bdb9d34",
   "outputs": [],
   "execution_count": 4
  },
  {
   "metadata": {
    "ExecuteTime": {
     "end_time": "2024-08-01T13:39:41.783379Z",
     "start_time": "2024-08-01T13:39:41.571377Z"
    }
   },
   "cell_type": "code",
   "source": [
    "DATA = DATA.drop(morphology_columns, axis=1)\n",
    "DATA = pd.concat([DATA, MorphologyOneHot], axis=1)"
   ],
   "id": "88851f9624ac3ae2",
   "outputs": [],
   "execution_count": 5
  },
  {
   "metadata": {},
   "cell_type": "markdown",
   "source": "# Make tree",
   "id": "63e34320264c5225"
  },
  {
   "metadata": {
    "ExecuteTime": {
     "end_time": "2024-08-01T13:39:42.000382Z",
     "start_time": "2024-08-01T13:39:41.785878Z"
    }
   },
   "cell_type": "code",
   "source": [
    "rules_path = r'T:\\laupodteam\\AIOS\\Bram\\notebooks\\code_dev\\miniECG_interpretation\\TreeBuilder\\assets\\conduction_tree.json'\n",
    "\n",
    "TreeKwargs = {\n",
    "    'criterion':'gini', \n",
    "    'splitter':'best', \n",
    "    'max_depth':10, \n",
    "    'min_samples_split':10, \n",
    "    'min_samples_leaf': 5, \n",
    "    'min_weight_fraction_leaf':0.05, \n",
    "    'max_features':None, \n",
    "    'random_state':7, \n",
    "    'max_leaf_nodes':50,\n",
    "    'class_weight': 'balanced'\n",
    "}"
   ],
   "id": "705c65e4096a8ae5",
   "outputs": [],
   "execution_count": 6
  },
  {
   "metadata": {
    "ExecuteTime": {
     "end_time": "2024-08-01T13:39:42.217379Z",
     "start_time": "2024-08-01T13:39:42.003393Z"
    }
   },
   "cell_type": "code",
   "source": [
    "rules_loader = ctree.LoadRules(rules_path)\n",
    "processed_rules = rules_loader.get_processed_rules()"
   ],
   "id": "ce42d8c8ba64c271",
   "outputs": [],
   "execution_count": 7
  },
  {
   "metadata": {
    "ExecuteTime": {
     "end_time": "2024-08-01T13:39:42.434385Z",
     "start_time": "2024-08-01T13:39:42.219380Z"
    }
   },
   "cell_type": "code",
   "source": "processed_rules.features_to_use_next",
   "id": "8930ab9a3dcd41c7",
   "outputs": [
    {
     "data": {
      "text/plain": [
       "[]"
      ]
     },
     "execution_count": 8,
     "metadata": {},
     "output_type": "execute_result"
    }
   ],
   "execution_count": 8
  },
  {
   "metadata": {
    "ExecuteTime": {
     "end_time": "2024-08-01T13:39:42.713382Z",
     "start_time": "2024-08-01T13:39:42.437886Z"
    }
   },
   "cell_type": "code",
   "source": [
    "SplitColumn = rules_loader.fold_split_col\n",
    "TargetCol = rules_loader.target_col\n",
    "IgnoreCols = rules_loader.ignore_cols\n",
    "FeaturesToUse = rules_loader.features_to_use"
   ],
   "id": "52462f4a3a4c0335",
   "outputs": [],
   "execution_count": 9
  },
  {
   "metadata": {
    "ExecuteTime": {
     "end_time": "2024-08-01T13:39:42.961385Z",
     "start_time": "2024-08-01T13:39:42.715887Z"
    }
   },
   "cell_type": "code",
   "source": [
    "if len(FeaturesToUse)>0:\n",
    "    keep_columns = set(FeaturesToUse).difference(set(IgnoreCols))\n",
    "else:\n",
    "    keep_columns = [c for c in DATA.columns if c not in IgnoreCols]\n",
    "    \n",
    "y_train = DATA.loc[DATA[SplitColumn]=='training', TargetCol]\n",
    "y_test = DATA.loc[DATA[SplitColumn]=='test', TargetCol]\n",
    "X_train = DATA.loc[DATA[SplitColumn]=='training', keep_columns].drop([TargetCol, SplitColumn], \n",
    "                                                                   axis=1)\n",
    "X_test = DATA.loc[DATA[SplitColumn]=='test', keep_columns].drop([TargetCol, SplitColumn],\n",
    "                                                              axis=1)"
   ],
   "id": "17a47f3113df9286",
   "outputs": [],
   "execution_count": 10
  },
  {
   "metadata": {
    "ExecuteTime": {
     "end_time": "2024-08-01T13:39:43.193886Z",
     "start_time": "2024-08-01T13:39:42.963889Z"
    }
   },
   "cell_type": "code",
   "source": "clf = ctree.CustomDecisionTreeV2(custom_rules=processed_rules, Tree_kwargs=TreeKwargs)",
   "id": "fba76e4a4d133de6",
   "outputs": [],
   "execution_count": 11
  },
  {
   "metadata": {
    "ExecuteTime": {
     "end_time": "2024-08-01T13:39:45.363903Z",
     "start_time": "2024-08-01T13:39:43.196387Z"
    }
   },
   "cell_type": "code",
   "source": [
    "clf.fit(X_train, y_train)\n",
    "# Make predictions\n",
    "y_pred = clf.predict(X_test)"
   ],
   "id": "97986a858d125c1f",
   "outputs": [
    {
     "ename": "ValueError",
     "evalue": "Found array with 0 sample(s) (shape=(0, 67)) while a minimum of 1 is required by DecisionTreeClassifier.",
     "output_type": "error",
     "traceback": [
      "\u001B[1;31m---------------------------------------------------------------------------\u001B[0m",
      "\u001B[1;31mValueError\u001B[0m                                Traceback (most recent call last)",
      "Input \u001B[1;32mIn [12]\u001B[0m, in \u001B[0;36m<cell line: 1>\u001B[1;34m()\u001B[0m\n\u001B[1;32m----> 1\u001B[0m \u001B[43mclf\u001B[49m\u001B[38;5;241;43m.\u001B[39;49m\u001B[43mfit\u001B[49m\u001B[43m(\u001B[49m\u001B[43mX_train\u001B[49m\u001B[43m,\u001B[49m\u001B[43m \u001B[49m\u001B[43my_train\u001B[49m\u001B[43m)\u001B[49m\n\u001B[0;32m      2\u001B[0m \u001B[38;5;66;03m# Make predictions\u001B[39;00m\n\u001B[0;32m      3\u001B[0m y_pred \u001B[38;5;241m=\u001B[39m clf\u001B[38;5;241m.\u001B[39mpredict(X_test)\n",
      "File \u001B[1;32mT:\\laupodteam\\AIOS\\Bram\\notebooks\\code_dev\\miniECG_interpretation\\TreeBuilder\\sandbox\\..\\src\\ctree.py:184\u001B[0m, in \u001B[0;36mCustomDecisionTreeV2.fit\u001B[1;34m(self, X, y)\u001B[0m\n\u001B[0;32m    181\u001B[0m     \u001B[38;5;28;01mraise\u001B[39;00m \u001B[38;5;167;01mValueError\u001B[39;00m(\u001B[38;5;124m\"\u001B[39m\u001B[38;5;124mcustom_rules must be either a dictionary or a RuleNode object\u001B[39m\u001B[38;5;124m\"\u001B[39m)\n\u001B[0;32m    183\u001B[0m \u001B[38;5;66;03m# Continue building the tree with DecisionTreeClassifier at the leaves\u001B[39;00m\n\u001B[1;32m--> 184\u001B[0m \u001B[38;5;28;43mself\u001B[39;49m\u001B[38;5;241;43m.\u001B[39;49m\u001B[43m_continue_tree_building\u001B[49m\u001B[43m(\u001B[49m\u001B[43mX\u001B[49m\u001B[43m,\u001B[49m\u001B[43m \u001B[49m\u001B[43my\u001B[49m\u001B[43m)\u001B[49m\n\u001B[0;32m    186\u001B[0m \u001B[38;5;66;03m# Prune the tree if a threshold is set\u001B[39;00m\n\u001B[0;32m    187\u001B[0m \u001B[38;5;28;01mif\u001B[39;00m \u001B[38;5;28mself\u001B[39m\u001B[38;5;241m.\u001B[39mprune_threshold \u001B[38;5;129;01mis\u001B[39;00m \u001B[38;5;129;01mnot\u001B[39;00m \u001B[38;5;28;01mNone\u001B[39;00m:\n",
      "File \u001B[1;32mT:\\laupodteam\\AIOS\\Bram\\notebooks\\code_dev\\miniECG_interpretation\\TreeBuilder\\sandbox\\..\\src\\ctree.py:294\u001B[0m, in \u001B[0;36mCustomDecisionTreeV2._continue_tree_building\u001B[1;34m(self, X, y)\u001B[0m\n\u001B[0;32m    291\u001B[0m             build_subtree(child, node_X[mask], node_y[mask])\n\u001B[0;32m    293\u001B[0m \u001B[38;5;66;03m# Start building subtrees from the root\u001B[39;00m\n\u001B[1;32m--> 294\u001B[0m \u001B[43mbuild_subtree\u001B[49m\u001B[43m(\u001B[49m\u001B[38;5;28;43mself\u001B[39;49m\u001B[38;5;241;43m.\u001B[39;49m\u001B[43mtree_\u001B[49m\u001B[43m,\u001B[49m\u001B[43m \u001B[49m\u001B[43mX\u001B[49m\u001B[43m,\u001B[49m\u001B[43m \u001B[49m\u001B[43my\u001B[49m\u001B[43m)\u001B[49m\n",
      "File \u001B[1;32mT:\\laupodteam\\AIOS\\Bram\\notebooks\\code_dev\\miniECG_interpretation\\TreeBuilder\\sandbox\\..\\src\\ctree.py:291\u001B[0m, in \u001B[0;36mCustomDecisionTreeV2._continue_tree_building.<locals>.build_subtree\u001B[1;34m(node, node_X, node_y)\u001B[0m\n\u001B[0;32m    289\u001B[0m \u001B[38;5;28;01melse\u001B[39;00m:\n\u001B[0;32m    290\u001B[0m     mask \u001B[38;5;241m=\u001B[39m node_X[node\u001B[38;5;241m.\u001B[39mfeature] \u001B[38;5;241m>\u001B[39m node\u001B[38;5;241m.\u001B[39mvalue\n\u001B[1;32m--> 291\u001B[0m \u001B[43mbuild_subtree\u001B[49m\u001B[43m(\u001B[49m\u001B[43mchild\u001B[49m\u001B[43m,\u001B[49m\u001B[43m \u001B[49m\u001B[43mnode_X\u001B[49m\u001B[43m[\u001B[49m\u001B[43mmask\u001B[49m\u001B[43m]\u001B[49m\u001B[43m,\u001B[49m\u001B[43m \u001B[49m\u001B[43mnode_y\u001B[49m\u001B[43m[\u001B[49m\u001B[43mmask\u001B[49m\u001B[43m]\u001B[49m\u001B[43m)\u001B[49m\n",
      "File \u001B[1;32mT:\\laupodteam\\AIOS\\Bram\\notebooks\\code_dev\\miniECG_interpretation\\TreeBuilder\\sandbox\\..\\src\\ctree.py:282\u001B[0m, in \u001B[0;36mCustomDecisionTreeV2._continue_tree_building.<locals>.build_subtree\u001B[1;34m(node, node_X, node_y)\u001B[0m\n\u001B[0;32m    276\u001B[0m         node\u001B[38;5;241m.\u001B[39mchildren \u001B[38;5;241m=\u001B[39m [\n\u001B[0;32m    277\u001B[0m             RuleNode(name\u001B[38;5;241m=\u001B[39m\u001B[38;5;124m\"\u001B[39m\u001B[38;5;124mleft_leaf\u001B[39m\u001B[38;5;124m\"\u001B[39m, feature\u001B[38;5;241m=\u001B[39m\u001B[38;5;28;01mNone\u001B[39;00m, condition\u001B[38;5;241m=\u001B[39m\u001B[38;5;28;01mNone\u001B[39;00m, value\u001B[38;5;241m=\u001B[39msubtree\u001B[38;5;241m.\u001B[39mtree_\u001B[38;5;241m.\u001B[39mvalue[subtree\u001B[38;5;241m.\u001B[39mtree_\u001B[38;5;241m.\u001B[39mchildren_left[\u001B[38;5;241m0\u001B[39m]][\u001B[38;5;241m0\u001B[39m]\u001B[38;5;241m.\u001B[39mtolist()),\n\u001B[0;32m    278\u001B[0m             RuleNode(name\u001B[38;5;241m=\u001B[39m\u001B[38;5;124m\"\u001B[39m\u001B[38;5;124mright_leaf\u001B[39m\u001B[38;5;124m\"\u001B[39m, feature\u001B[38;5;241m=\u001B[39m\u001B[38;5;28;01mNone\u001B[39;00m, condition\u001B[38;5;241m=\u001B[39m\u001B[38;5;28;01mNone\u001B[39;00m, value\u001B[38;5;241m=\u001B[39msubtree\u001B[38;5;241m.\u001B[39mtree_\u001B[38;5;241m.\u001B[39mvalue[subtree\u001B[38;5;241m.\u001B[39mtree_\u001B[38;5;241m.\u001B[39mchildren_right[\u001B[38;5;241m0\u001B[39m]][\u001B[38;5;241m0\u001B[39m]\u001B[38;5;241m.\u001B[39mtolist())\n\u001B[0;32m    279\u001B[0m         ]\n\u001B[0;32m    281\u001B[0m         left_mask \u001B[38;5;241m=\u001B[39m node_X[node\u001B[38;5;241m.\u001B[39mfeature] \u001B[38;5;241m<\u001B[39m\u001B[38;5;241m=\u001B[39m node\u001B[38;5;241m.\u001B[39mvalue\n\u001B[1;32m--> 282\u001B[0m         \u001B[43mbuild_subtree\u001B[49m\u001B[43m(\u001B[49m\u001B[43mnode\u001B[49m\u001B[38;5;241;43m.\u001B[39;49m\u001B[43mchildren\u001B[49m\u001B[43m[\u001B[49m\u001B[38;5;241;43m0\u001B[39;49m\u001B[43m]\u001B[49m\u001B[43m,\u001B[49m\u001B[43m \u001B[49m\u001B[43mnode_X\u001B[49m\u001B[43m[\u001B[49m\u001B[43mleft_mask\u001B[49m\u001B[43m]\u001B[49m\u001B[43m,\u001B[49m\u001B[43m \u001B[49m\u001B[43mnode_y\u001B[49m\u001B[43m[\u001B[49m\u001B[43mleft_mask\u001B[49m\u001B[43m]\u001B[49m\u001B[43m)\u001B[49m\n\u001B[0;32m    283\u001B[0m         build_subtree(node\u001B[38;5;241m.\u001B[39mchildren[\u001B[38;5;241m1\u001B[39m], node_X[\u001B[38;5;241m~\u001B[39mleft_mask], node_y[\u001B[38;5;241m~\u001B[39mleft_mask])\n\u001B[0;32m    284\u001B[0m \u001B[38;5;28;01melse\u001B[39;00m:\n\u001B[0;32m    285\u001B[0m     \u001B[38;5;66;03m# This is an internal node, process its children\u001B[39;00m\n",
      "File \u001B[1;32mT:\\laupodteam\\AIOS\\Bram\\notebooks\\code_dev\\miniECG_interpretation\\TreeBuilder\\sandbox\\..\\src\\ctree.py:283\u001B[0m, in \u001B[0;36mCustomDecisionTreeV2._continue_tree_building.<locals>.build_subtree\u001B[1;34m(node, node_X, node_y)\u001B[0m\n\u001B[0;32m    281\u001B[0m         left_mask \u001B[38;5;241m=\u001B[39m node_X[node\u001B[38;5;241m.\u001B[39mfeature] \u001B[38;5;241m<\u001B[39m\u001B[38;5;241m=\u001B[39m node\u001B[38;5;241m.\u001B[39mvalue\n\u001B[0;32m    282\u001B[0m         build_subtree(node\u001B[38;5;241m.\u001B[39mchildren[\u001B[38;5;241m0\u001B[39m], node_X[left_mask], node_y[left_mask])\n\u001B[1;32m--> 283\u001B[0m         \u001B[43mbuild_subtree\u001B[49m\u001B[43m(\u001B[49m\u001B[43mnode\u001B[49m\u001B[38;5;241;43m.\u001B[39;49m\u001B[43mchildren\u001B[49m\u001B[43m[\u001B[49m\u001B[38;5;241;43m1\u001B[39;49m\u001B[43m]\u001B[49m\u001B[43m,\u001B[49m\u001B[43m \u001B[49m\u001B[43mnode_X\u001B[49m\u001B[43m[\u001B[49m\u001B[38;5;241;43m~\u001B[39;49m\u001B[43mleft_mask\u001B[49m\u001B[43m]\u001B[49m\u001B[43m,\u001B[49m\u001B[43m \u001B[49m\u001B[43mnode_y\u001B[49m\u001B[43m[\u001B[49m\u001B[38;5;241;43m~\u001B[39;49m\u001B[43mleft_mask\u001B[49m\u001B[43m]\u001B[49m\u001B[43m)\u001B[49m\n\u001B[0;32m    284\u001B[0m \u001B[38;5;28;01melse\u001B[39;00m:\n\u001B[0;32m    285\u001B[0m     \u001B[38;5;66;03m# This is an internal node, process its children\u001B[39;00m\n\u001B[0;32m    286\u001B[0m     \u001B[38;5;28;01mfor\u001B[39;00m child \u001B[38;5;129;01min\u001B[39;00m node\u001B[38;5;241m.\u001B[39mchildren:\n",
      "File \u001B[1;32mT:\\laupodteam\\AIOS\\Bram\\notebooks\\code_dev\\miniECG_interpretation\\TreeBuilder\\sandbox\\..\\src\\ctree.py:283\u001B[0m, in \u001B[0;36mCustomDecisionTreeV2._continue_tree_building.<locals>.build_subtree\u001B[1;34m(node, node_X, node_y)\u001B[0m\n\u001B[0;32m    281\u001B[0m         left_mask \u001B[38;5;241m=\u001B[39m node_X[node\u001B[38;5;241m.\u001B[39mfeature] \u001B[38;5;241m<\u001B[39m\u001B[38;5;241m=\u001B[39m node\u001B[38;5;241m.\u001B[39mvalue\n\u001B[0;32m    282\u001B[0m         build_subtree(node\u001B[38;5;241m.\u001B[39mchildren[\u001B[38;5;241m0\u001B[39m], node_X[left_mask], node_y[left_mask])\n\u001B[1;32m--> 283\u001B[0m         \u001B[43mbuild_subtree\u001B[49m\u001B[43m(\u001B[49m\u001B[43mnode\u001B[49m\u001B[38;5;241;43m.\u001B[39;49m\u001B[43mchildren\u001B[49m\u001B[43m[\u001B[49m\u001B[38;5;241;43m1\u001B[39;49m\u001B[43m]\u001B[49m\u001B[43m,\u001B[49m\u001B[43m \u001B[49m\u001B[43mnode_X\u001B[49m\u001B[43m[\u001B[49m\u001B[38;5;241;43m~\u001B[39;49m\u001B[43mleft_mask\u001B[49m\u001B[43m]\u001B[49m\u001B[43m,\u001B[49m\u001B[43m \u001B[49m\u001B[43mnode_y\u001B[49m\u001B[43m[\u001B[49m\u001B[38;5;241;43m~\u001B[39;49m\u001B[43mleft_mask\u001B[49m\u001B[43m]\u001B[49m\u001B[43m)\u001B[49m\n\u001B[0;32m    284\u001B[0m \u001B[38;5;28;01melse\u001B[39;00m:\n\u001B[0;32m    285\u001B[0m     \u001B[38;5;66;03m# This is an internal node, process its children\u001B[39;00m\n\u001B[0;32m    286\u001B[0m     \u001B[38;5;28;01mfor\u001B[39;00m child \u001B[38;5;129;01min\u001B[39;00m node\u001B[38;5;241m.\u001B[39mchildren:\n",
      "    \u001B[1;31m[... skipping similar frames: CustomDecisionTreeV2._continue_tree_building.<locals>.build_subtree at line 283 (3 times)]\u001B[0m\n",
      "File \u001B[1;32mT:\\laupodteam\\AIOS\\Bram\\notebooks\\code_dev\\miniECG_interpretation\\TreeBuilder\\sandbox\\..\\src\\ctree.py:282\u001B[0m, in \u001B[0;36mCustomDecisionTreeV2._continue_tree_building.<locals>.build_subtree\u001B[1;34m(node, node_X, node_y)\u001B[0m\n\u001B[0;32m    276\u001B[0m         node\u001B[38;5;241m.\u001B[39mchildren \u001B[38;5;241m=\u001B[39m [\n\u001B[0;32m    277\u001B[0m             RuleNode(name\u001B[38;5;241m=\u001B[39m\u001B[38;5;124m\"\u001B[39m\u001B[38;5;124mleft_leaf\u001B[39m\u001B[38;5;124m\"\u001B[39m, feature\u001B[38;5;241m=\u001B[39m\u001B[38;5;28;01mNone\u001B[39;00m, condition\u001B[38;5;241m=\u001B[39m\u001B[38;5;28;01mNone\u001B[39;00m, value\u001B[38;5;241m=\u001B[39msubtree\u001B[38;5;241m.\u001B[39mtree_\u001B[38;5;241m.\u001B[39mvalue[subtree\u001B[38;5;241m.\u001B[39mtree_\u001B[38;5;241m.\u001B[39mchildren_left[\u001B[38;5;241m0\u001B[39m]][\u001B[38;5;241m0\u001B[39m]\u001B[38;5;241m.\u001B[39mtolist()),\n\u001B[0;32m    278\u001B[0m             RuleNode(name\u001B[38;5;241m=\u001B[39m\u001B[38;5;124m\"\u001B[39m\u001B[38;5;124mright_leaf\u001B[39m\u001B[38;5;124m\"\u001B[39m, feature\u001B[38;5;241m=\u001B[39m\u001B[38;5;28;01mNone\u001B[39;00m, condition\u001B[38;5;241m=\u001B[39m\u001B[38;5;28;01mNone\u001B[39;00m, value\u001B[38;5;241m=\u001B[39msubtree\u001B[38;5;241m.\u001B[39mtree_\u001B[38;5;241m.\u001B[39mvalue[subtree\u001B[38;5;241m.\u001B[39mtree_\u001B[38;5;241m.\u001B[39mchildren_right[\u001B[38;5;241m0\u001B[39m]][\u001B[38;5;241m0\u001B[39m]\u001B[38;5;241m.\u001B[39mtolist())\n\u001B[0;32m    279\u001B[0m         ]\n\u001B[0;32m    281\u001B[0m         left_mask \u001B[38;5;241m=\u001B[39m node_X[node\u001B[38;5;241m.\u001B[39mfeature] \u001B[38;5;241m<\u001B[39m\u001B[38;5;241m=\u001B[39m node\u001B[38;5;241m.\u001B[39mvalue\n\u001B[1;32m--> 282\u001B[0m         \u001B[43mbuild_subtree\u001B[49m\u001B[43m(\u001B[49m\u001B[43mnode\u001B[49m\u001B[38;5;241;43m.\u001B[39;49m\u001B[43mchildren\u001B[49m\u001B[43m[\u001B[49m\u001B[38;5;241;43m0\u001B[39;49m\u001B[43m]\u001B[49m\u001B[43m,\u001B[49m\u001B[43m \u001B[49m\u001B[43mnode_X\u001B[49m\u001B[43m[\u001B[49m\u001B[43mleft_mask\u001B[49m\u001B[43m]\u001B[49m\u001B[43m,\u001B[49m\u001B[43m \u001B[49m\u001B[43mnode_y\u001B[49m\u001B[43m[\u001B[49m\u001B[43mleft_mask\u001B[49m\u001B[43m]\u001B[49m\u001B[43m)\u001B[49m\n\u001B[0;32m    283\u001B[0m         build_subtree(node\u001B[38;5;241m.\u001B[39mchildren[\u001B[38;5;241m1\u001B[39m], node_X[\u001B[38;5;241m~\u001B[39mleft_mask], node_y[\u001B[38;5;241m~\u001B[39mleft_mask])\n\u001B[0;32m    284\u001B[0m \u001B[38;5;28;01melse\u001B[39;00m:\n\u001B[0;32m    285\u001B[0m     \u001B[38;5;66;03m# This is an internal node, process its children\u001B[39;00m\n",
      "    \u001B[1;31m[... skipping similar frames: CustomDecisionTreeV2._continue_tree_building.<locals>.build_subtree at line 282 (1 times)]\u001B[0m\n",
      "File \u001B[1;32mT:\\laupodteam\\AIOS\\Bram\\notebooks\\code_dev\\miniECG_interpretation\\TreeBuilder\\sandbox\\..\\src\\ctree.py:283\u001B[0m, in \u001B[0;36mCustomDecisionTreeV2._continue_tree_building.<locals>.build_subtree\u001B[1;34m(node, node_X, node_y)\u001B[0m\n\u001B[0;32m    281\u001B[0m         left_mask \u001B[38;5;241m=\u001B[39m node_X[node\u001B[38;5;241m.\u001B[39mfeature] \u001B[38;5;241m<\u001B[39m\u001B[38;5;241m=\u001B[39m node\u001B[38;5;241m.\u001B[39mvalue\n\u001B[0;32m    282\u001B[0m         build_subtree(node\u001B[38;5;241m.\u001B[39mchildren[\u001B[38;5;241m0\u001B[39m], node_X[left_mask], node_y[left_mask])\n\u001B[1;32m--> 283\u001B[0m         \u001B[43mbuild_subtree\u001B[49m\u001B[43m(\u001B[49m\u001B[43mnode\u001B[49m\u001B[38;5;241;43m.\u001B[39;49m\u001B[43mchildren\u001B[49m\u001B[43m[\u001B[49m\u001B[38;5;241;43m1\u001B[39;49m\u001B[43m]\u001B[49m\u001B[43m,\u001B[49m\u001B[43m \u001B[49m\u001B[43mnode_X\u001B[49m\u001B[43m[\u001B[49m\u001B[38;5;241;43m~\u001B[39;49m\u001B[43mleft_mask\u001B[49m\u001B[43m]\u001B[49m\u001B[43m,\u001B[49m\u001B[43m \u001B[49m\u001B[43mnode_y\u001B[49m\u001B[43m[\u001B[49m\u001B[38;5;241;43m~\u001B[39;49m\u001B[43mleft_mask\u001B[49m\u001B[43m]\u001B[49m\u001B[43m)\u001B[49m\n\u001B[0;32m    284\u001B[0m \u001B[38;5;28;01melse\u001B[39;00m:\n\u001B[0;32m    285\u001B[0m     \u001B[38;5;66;03m# This is an internal node, process its children\u001B[39;00m\n\u001B[0;32m    286\u001B[0m     \u001B[38;5;28;01mfor\u001B[39;00m child \u001B[38;5;129;01min\u001B[39;00m node\u001B[38;5;241m.\u001B[39mchildren:\n",
      "    \u001B[1;31m[... skipping similar frames: CustomDecisionTreeV2._continue_tree_building.<locals>.build_subtree at line 282 (1 times)]\u001B[0m\n",
      "File \u001B[1;32mT:\\laupodteam\\AIOS\\Bram\\notebooks\\code_dev\\miniECG_interpretation\\TreeBuilder\\sandbox\\..\\src\\ctree.py:282\u001B[0m, in \u001B[0;36mCustomDecisionTreeV2._continue_tree_building.<locals>.build_subtree\u001B[1;34m(node, node_X, node_y)\u001B[0m\n\u001B[0;32m    276\u001B[0m         node\u001B[38;5;241m.\u001B[39mchildren \u001B[38;5;241m=\u001B[39m [\n\u001B[0;32m    277\u001B[0m             RuleNode(name\u001B[38;5;241m=\u001B[39m\u001B[38;5;124m\"\u001B[39m\u001B[38;5;124mleft_leaf\u001B[39m\u001B[38;5;124m\"\u001B[39m, feature\u001B[38;5;241m=\u001B[39m\u001B[38;5;28;01mNone\u001B[39;00m, condition\u001B[38;5;241m=\u001B[39m\u001B[38;5;28;01mNone\u001B[39;00m, value\u001B[38;5;241m=\u001B[39msubtree\u001B[38;5;241m.\u001B[39mtree_\u001B[38;5;241m.\u001B[39mvalue[subtree\u001B[38;5;241m.\u001B[39mtree_\u001B[38;5;241m.\u001B[39mchildren_left[\u001B[38;5;241m0\u001B[39m]][\u001B[38;5;241m0\u001B[39m]\u001B[38;5;241m.\u001B[39mtolist()),\n\u001B[0;32m    278\u001B[0m             RuleNode(name\u001B[38;5;241m=\u001B[39m\u001B[38;5;124m\"\u001B[39m\u001B[38;5;124mright_leaf\u001B[39m\u001B[38;5;124m\"\u001B[39m, feature\u001B[38;5;241m=\u001B[39m\u001B[38;5;28;01mNone\u001B[39;00m, condition\u001B[38;5;241m=\u001B[39m\u001B[38;5;28;01mNone\u001B[39;00m, value\u001B[38;5;241m=\u001B[39msubtree\u001B[38;5;241m.\u001B[39mtree_\u001B[38;5;241m.\u001B[39mvalue[subtree\u001B[38;5;241m.\u001B[39mtree_\u001B[38;5;241m.\u001B[39mchildren_right[\u001B[38;5;241m0\u001B[39m]][\u001B[38;5;241m0\u001B[39m]\u001B[38;5;241m.\u001B[39mtolist())\n\u001B[0;32m    279\u001B[0m         ]\n\u001B[0;32m    281\u001B[0m         left_mask \u001B[38;5;241m=\u001B[39m node_X[node\u001B[38;5;241m.\u001B[39mfeature] \u001B[38;5;241m<\u001B[39m\u001B[38;5;241m=\u001B[39m node\u001B[38;5;241m.\u001B[39mvalue\n\u001B[1;32m--> 282\u001B[0m         \u001B[43mbuild_subtree\u001B[49m\u001B[43m(\u001B[49m\u001B[43mnode\u001B[49m\u001B[38;5;241;43m.\u001B[39;49m\u001B[43mchildren\u001B[49m\u001B[43m[\u001B[49m\u001B[38;5;241;43m0\u001B[39;49m\u001B[43m]\u001B[49m\u001B[43m,\u001B[49m\u001B[43m \u001B[49m\u001B[43mnode_X\u001B[49m\u001B[43m[\u001B[49m\u001B[43mleft_mask\u001B[49m\u001B[43m]\u001B[49m\u001B[43m,\u001B[49m\u001B[43m \u001B[49m\u001B[43mnode_y\u001B[49m\u001B[43m[\u001B[49m\u001B[43mleft_mask\u001B[49m\u001B[43m]\u001B[49m\u001B[43m)\u001B[49m\n\u001B[0;32m    283\u001B[0m         build_subtree(node\u001B[38;5;241m.\u001B[39mchildren[\u001B[38;5;241m1\u001B[39m], node_X[\u001B[38;5;241m~\u001B[39mleft_mask], node_y[\u001B[38;5;241m~\u001B[39mleft_mask])\n\u001B[0;32m    284\u001B[0m \u001B[38;5;28;01melse\u001B[39;00m:\n\u001B[0;32m    285\u001B[0m     \u001B[38;5;66;03m# This is an internal node, process its children\u001B[39;00m\n",
      "File \u001B[1;32mT:\\laupodteam\\AIOS\\Bram\\notebooks\\code_dev\\miniECG_interpretation\\TreeBuilder\\sandbox\\..\\src\\ctree.py:269\u001B[0m, in \u001B[0;36mCustomDecisionTreeV2._continue_tree_building.<locals>.build_subtree\u001B[1;34m(node, node_X, node_y)\u001B[0m\n\u001B[0;32m    267\u001B[0m features_to_use \u001B[38;5;241m=\u001B[39m \u001B[38;5;28mself\u001B[39m\u001B[38;5;241m.\u001B[39m_get_matching_features(node\u001B[38;5;241m.\u001B[39mfeatures_to_use_next, node_X\u001B[38;5;241m.\u001B[39mcolumns) \u001B[38;5;28;01mif\u001B[39;00m node\u001B[38;5;241m.\u001B[39mfeatures_to_use_next \u001B[38;5;28;01melse\u001B[39;00m [f \u001B[38;5;28;01mfor\u001B[39;00m f \u001B[38;5;129;01min\u001B[39;00m \u001B[38;5;28mself\u001B[39m\u001B[38;5;241m.\u001B[39mfeatures_to_consider \u001B[38;5;28;01mif\u001B[39;00m f \u001B[38;5;129;01mnot\u001B[39;00m \u001B[38;5;129;01min\u001B[39;00m \u001B[38;5;28mself\u001B[39m\u001B[38;5;241m.\u001B[39m_get_matching_features(node\u001B[38;5;241m.\u001B[39mignore_after, node_X\u001B[38;5;241m.\u001B[39mcolumns)]\n\u001B[0;32m    268\u001B[0m subtree \u001B[38;5;241m=\u001B[39m DecisionTreeClassifier(\u001B[38;5;241m*\u001B[39m\u001B[38;5;241m*\u001B[39m\u001B[38;5;28mself\u001B[39m\u001B[38;5;241m.\u001B[39mTree_kwargs)\n\u001B[1;32m--> 269\u001B[0m \u001B[43msubtree\u001B[49m\u001B[38;5;241;43m.\u001B[39;49m\u001B[43mfit\u001B[49m\u001B[43m(\u001B[49m\u001B[43mnode_X\u001B[49m\u001B[43m[\u001B[49m\u001B[43mfeatures_to_use\u001B[49m\u001B[43m]\u001B[49m\u001B[43m,\u001B[49m\u001B[43m \u001B[49m\u001B[43mnode_y\u001B[49m\u001B[43m)\u001B[49m\n\u001B[0;32m    271\u001B[0m \u001B[38;5;66;03m# Replace the leaf with the subtree\u001B[39;00m\n\u001B[0;32m    272\u001B[0m \u001B[38;5;28;01mif\u001B[39;00m subtree\u001B[38;5;241m.\u001B[39mtree_\u001B[38;5;241m.\u001B[39mfeature[\u001B[38;5;241m0\u001B[39m] \u001B[38;5;241m!=\u001B[39m \u001B[38;5;241m-\u001B[39m\u001B[38;5;241m2\u001B[39m:  \u001B[38;5;66;03m# -2 indicates a leaf in scikit-learn's implementation\u001B[39;00m\n",
      "File \u001B[1;32mD:\\VENVS\\Envs\\base_310\\lib\\site-packages\\sklearn\\base.py:1473\u001B[0m, in \u001B[0;36m_fit_context.<locals>.decorator.<locals>.wrapper\u001B[1;34m(estimator, *args, **kwargs)\u001B[0m\n\u001B[0;32m   1466\u001B[0m     estimator\u001B[38;5;241m.\u001B[39m_validate_params()\n\u001B[0;32m   1468\u001B[0m \u001B[38;5;28;01mwith\u001B[39;00m config_context(\n\u001B[0;32m   1469\u001B[0m     skip_parameter_validation\u001B[38;5;241m=\u001B[39m(\n\u001B[0;32m   1470\u001B[0m         prefer_skip_nested_validation \u001B[38;5;129;01mor\u001B[39;00m global_skip_validation\n\u001B[0;32m   1471\u001B[0m     )\n\u001B[0;32m   1472\u001B[0m ):\n\u001B[1;32m-> 1473\u001B[0m     \u001B[38;5;28;01mreturn\u001B[39;00m fit_method(estimator, \u001B[38;5;241m*\u001B[39margs, \u001B[38;5;241m*\u001B[39m\u001B[38;5;241m*\u001B[39mkwargs)\n",
      "File \u001B[1;32mD:\\VENVS\\Envs\\base_310\\lib\\site-packages\\sklearn\\tree\\_classes.py:1009\u001B[0m, in \u001B[0;36mDecisionTreeClassifier.fit\u001B[1;34m(self, X, y, sample_weight, check_input)\u001B[0m\n\u001B[0;32m    978\u001B[0m \u001B[38;5;129m@_fit_context\u001B[39m(prefer_skip_nested_validation\u001B[38;5;241m=\u001B[39m\u001B[38;5;28;01mTrue\u001B[39;00m)\n\u001B[0;32m    979\u001B[0m \u001B[38;5;28;01mdef\u001B[39;00m \u001B[38;5;21mfit\u001B[39m(\u001B[38;5;28mself\u001B[39m, X, y, sample_weight\u001B[38;5;241m=\u001B[39m\u001B[38;5;28;01mNone\u001B[39;00m, check_input\u001B[38;5;241m=\u001B[39m\u001B[38;5;28;01mTrue\u001B[39;00m):\n\u001B[0;32m    980\u001B[0m     \u001B[38;5;124;03m\"\"\"Build a decision tree classifier from the training set (X, y).\u001B[39;00m\n\u001B[0;32m    981\u001B[0m \n\u001B[0;32m    982\u001B[0m \u001B[38;5;124;03m    Parameters\u001B[39;00m\n\u001B[1;32m   (...)\u001B[0m\n\u001B[0;32m   1006\u001B[0m \u001B[38;5;124;03m        Fitted estimator.\u001B[39;00m\n\u001B[0;32m   1007\u001B[0m \u001B[38;5;124;03m    \"\"\"\u001B[39;00m\n\u001B[1;32m-> 1009\u001B[0m     \u001B[38;5;28;43msuper\u001B[39;49m\u001B[43m(\u001B[49m\u001B[43m)\u001B[49m\u001B[38;5;241;43m.\u001B[39;49m\u001B[43m_fit\u001B[49m\u001B[43m(\u001B[49m\n\u001B[0;32m   1010\u001B[0m \u001B[43m        \u001B[49m\u001B[43mX\u001B[49m\u001B[43m,\u001B[49m\n\u001B[0;32m   1011\u001B[0m \u001B[43m        \u001B[49m\u001B[43my\u001B[49m\u001B[43m,\u001B[49m\n\u001B[0;32m   1012\u001B[0m \u001B[43m        \u001B[49m\u001B[43msample_weight\u001B[49m\u001B[38;5;241;43m=\u001B[39;49m\u001B[43msample_weight\u001B[49m\u001B[43m,\u001B[49m\n\u001B[0;32m   1013\u001B[0m \u001B[43m        \u001B[49m\u001B[43mcheck_input\u001B[49m\u001B[38;5;241;43m=\u001B[39;49m\u001B[43mcheck_input\u001B[49m\u001B[43m,\u001B[49m\n\u001B[0;32m   1014\u001B[0m \u001B[43m    \u001B[49m\u001B[43m)\u001B[49m\n\u001B[0;32m   1015\u001B[0m     \u001B[38;5;28;01mreturn\u001B[39;00m \u001B[38;5;28mself\u001B[39m\n",
      "File \u001B[1;32mD:\\VENVS\\Envs\\base_310\\lib\\site-packages\\sklearn\\tree\\_classes.py:252\u001B[0m, in \u001B[0;36mBaseDecisionTree._fit\u001B[1;34m(self, X, y, sample_weight, check_input, missing_values_in_feature_mask)\u001B[0m\n\u001B[0;32m    248\u001B[0m check_X_params \u001B[38;5;241m=\u001B[39m \u001B[38;5;28mdict\u001B[39m(\n\u001B[0;32m    249\u001B[0m     dtype\u001B[38;5;241m=\u001B[39mDTYPE, accept_sparse\u001B[38;5;241m=\u001B[39m\u001B[38;5;124m\"\u001B[39m\u001B[38;5;124mcsc\u001B[39m\u001B[38;5;124m\"\u001B[39m, force_all_finite\u001B[38;5;241m=\u001B[39m\u001B[38;5;28;01mFalse\u001B[39;00m\n\u001B[0;32m    250\u001B[0m )\n\u001B[0;32m    251\u001B[0m check_y_params \u001B[38;5;241m=\u001B[39m \u001B[38;5;28mdict\u001B[39m(ensure_2d\u001B[38;5;241m=\u001B[39m\u001B[38;5;28;01mFalse\u001B[39;00m, dtype\u001B[38;5;241m=\u001B[39m\u001B[38;5;28;01mNone\u001B[39;00m)\n\u001B[1;32m--> 252\u001B[0m X, y \u001B[38;5;241m=\u001B[39m \u001B[38;5;28;43mself\u001B[39;49m\u001B[38;5;241;43m.\u001B[39;49m\u001B[43m_validate_data\u001B[49m\u001B[43m(\u001B[49m\n\u001B[0;32m    253\u001B[0m \u001B[43m    \u001B[49m\u001B[43mX\u001B[49m\u001B[43m,\u001B[49m\u001B[43m \u001B[49m\u001B[43my\u001B[49m\u001B[43m,\u001B[49m\u001B[43m \u001B[49m\u001B[43mvalidate_separately\u001B[49m\u001B[38;5;241;43m=\u001B[39;49m\u001B[43m(\u001B[49m\u001B[43mcheck_X_params\u001B[49m\u001B[43m,\u001B[49m\u001B[43m \u001B[49m\u001B[43mcheck_y_params\u001B[49m\u001B[43m)\u001B[49m\n\u001B[0;32m    254\u001B[0m \u001B[43m\u001B[49m\u001B[43m)\u001B[49m\n\u001B[0;32m    256\u001B[0m missing_values_in_feature_mask \u001B[38;5;241m=\u001B[39m (\n\u001B[0;32m    257\u001B[0m     \u001B[38;5;28mself\u001B[39m\u001B[38;5;241m.\u001B[39m_compute_missing_values_in_feature_mask(X)\n\u001B[0;32m    258\u001B[0m )\n\u001B[0;32m    259\u001B[0m \u001B[38;5;28;01mif\u001B[39;00m issparse(X):\n",
      "File \u001B[1;32mD:\\VENVS\\Envs\\base_310\\lib\\site-packages\\sklearn\\base.py:645\u001B[0m, in \u001B[0;36mBaseEstimator._validate_data\u001B[1;34m(self, X, y, reset, validate_separately, cast_to_ndarray, **check_params)\u001B[0m\n\u001B[0;32m    643\u001B[0m \u001B[38;5;28;01mif\u001B[39;00m \u001B[38;5;124m\"\u001B[39m\u001B[38;5;124mestimator\u001B[39m\u001B[38;5;124m\"\u001B[39m \u001B[38;5;129;01mnot\u001B[39;00m \u001B[38;5;129;01min\u001B[39;00m check_X_params:\n\u001B[0;32m    644\u001B[0m     check_X_params \u001B[38;5;241m=\u001B[39m {\u001B[38;5;241m*\u001B[39m\u001B[38;5;241m*\u001B[39mdefault_check_params, \u001B[38;5;241m*\u001B[39m\u001B[38;5;241m*\u001B[39mcheck_X_params}\n\u001B[1;32m--> 645\u001B[0m X \u001B[38;5;241m=\u001B[39m check_array(X, input_name\u001B[38;5;241m=\u001B[39m\u001B[38;5;124m\"\u001B[39m\u001B[38;5;124mX\u001B[39m\u001B[38;5;124m\"\u001B[39m, \u001B[38;5;241m*\u001B[39m\u001B[38;5;241m*\u001B[39mcheck_X_params)\n\u001B[0;32m    646\u001B[0m \u001B[38;5;28;01mif\u001B[39;00m \u001B[38;5;124m\"\u001B[39m\u001B[38;5;124mestimator\u001B[39m\u001B[38;5;124m\"\u001B[39m \u001B[38;5;129;01mnot\u001B[39;00m \u001B[38;5;129;01min\u001B[39;00m check_y_params:\n\u001B[0;32m    647\u001B[0m     check_y_params \u001B[38;5;241m=\u001B[39m {\u001B[38;5;241m*\u001B[39m\u001B[38;5;241m*\u001B[39mdefault_check_params, \u001B[38;5;241m*\u001B[39m\u001B[38;5;241m*\u001B[39mcheck_y_params}\n",
      "File \u001B[1;32mD:\\VENVS\\Envs\\base_310\\lib\\site-packages\\sklearn\\utils\\validation.py:1087\u001B[0m, in \u001B[0;36mcheck_array\u001B[1;34m(array, accept_sparse, accept_large_sparse, dtype, order, copy, force_writeable, force_all_finite, ensure_2d, allow_nd, ensure_min_samples, ensure_min_features, estimator, input_name)\u001B[0m\n\u001B[0;32m   1085\u001B[0m     n_samples \u001B[38;5;241m=\u001B[39m _num_samples(array)\n\u001B[0;32m   1086\u001B[0m     \u001B[38;5;28;01mif\u001B[39;00m n_samples \u001B[38;5;241m<\u001B[39m ensure_min_samples:\n\u001B[1;32m-> 1087\u001B[0m         \u001B[38;5;28;01mraise\u001B[39;00m \u001B[38;5;167;01mValueError\u001B[39;00m(\n\u001B[0;32m   1088\u001B[0m             \u001B[38;5;124m\"\u001B[39m\u001B[38;5;124mFound array with \u001B[39m\u001B[38;5;132;01m%d\u001B[39;00m\u001B[38;5;124m sample(s) (shape=\u001B[39m\u001B[38;5;132;01m%s\u001B[39;00m\u001B[38;5;124m) while a\u001B[39m\u001B[38;5;124m\"\u001B[39m\n\u001B[0;32m   1089\u001B[0m             \u001B[38;5;124m\"\u001B[39m\u001B[38;5;124m minimum of \u001B[39m\u001B[38;5;132;01m%d\u001B[39;00m\u001B[38;5;124m is required\u001B[39m\u001B[38;5;132;01m%s\u001B[39;00m\u001B[38;5;124m.\u001B[39m\u001B[38;5;124m\"\u001B[39m\n\u001B[0;32m   1090\u001B[0m             \u001B[38;5;241m%\u001B[39m (n_samples, array\u001B[38;5;241m.\u001B[39mshape, ensure_min_samples, context)\n\u001B[0;32m   1091\u001B[0m         )\n\u001B[0;32m   1093\u001B[0m \u001B[38;5;28;01mif\u001B[39;00m ensure_min_features \u001B[38;5;241m>\u001B[39m \u001B[38;5;241m0\u001B[39m \u001B[38;5;129;01mand\u001B[39;00m array\u001B[38;5;241m.\u001B[39mndim \u001B[38;5;241m==\u001B[39m \u001B[38;5;241m2\u001B[39m:\n\u001B[0;32m   1094\u001B[0m     n_features \u001B[38;5;241m=\u001B[39m array\u001B[38;5;241m.\u001B[39mshape[\u001B[38;5;241m1\u001B[39m]\n",
      "\u001B[1;31mValueError\u001B[0m: Found array with 0 sample(s) (shape=(0, 67)) while a minimum of 1 is required by DecisionTreeClassifier."
     ]
    }
   ],
   "execution_count": 12
  },
  {
   "metadata": {},
   "cell_type": "code",
   "outputs": [],
   "execution_count": null,
   "source": [
    "# Calculate accuracy\n",
    "accuracy = ctree.accuracy_score(y_test, y_pred)\n",
    "print(f\"Model accuracy: {accuracy:.4f}\")"
   ],
   "id": "77d1f7677f7be161"
  }
 ],
 "metadata": {
  "kernelspec": {
   "display_name": "Python 3",
   "language": "python",
   "name": "python3"
  },
  "language_info": {
   "codemirror_mode": {
    "name": "ipython",
    "version": 2
   },
   "file_extension": ".py",
   "mimetype": "text/x-python",
   "name": "python",
   "nbconvert_exporter": "python",
   "pygments_lexer": "ipython2",
   "version": "2.7.6"
  }
 },
 "nbformat": 4,
 "nbformat_minor": 5
}
