{
 "cells": [
  {
   "cell_type": "code",
   "id": "initial_id",
   "metadata": {
    "collapsed": true,
    "ExecuteTime": {
     "end_time": "2024-08-09T11:26:03.593384Z",
     "start_time": "2024-08-09T11:25:58.799833Z"
    }
   },
   "source": [
    "%load_ext autoreload\n",
    "%autoreload 2\n",
    "\n",
    "import sys\n",
    "import os\n",
    "sys.path.insert(0, os.path.join(os.path.abspath('.'),'..', 'src'))\n",
    "import tree_utils, ctree\n",
    "\n",
    "import numpy as np\n",
    "import scipy as sc\n",
    "from scipy import stats\n",
    "import pandas as pd\n",
    "import pickle\n",
    "import json\n",
    "import tqdm\n",
    "\n",
    "from sklearn.preprocessing import OneHotEncoder\n",
    "from sklearn.preprocessing import LabelEncoder, LabelBinarizer\n",
    "from sklearn.tree import DecisionTreeClassifier\n",
    "from sklearn.model_selection import RepeatedStratifiedKFold\n",
    "\n",
    "from sklearn.metrics import accuracy_score\n",
    "from sklearn.linear_model import LinearRegression\n",
    "from sklearn.ensemble import RandomForestRegressor\n",
    "from sklearn.experimental import enable_iterative_imputer\n",
    "from sklearn.impute import SimpleImputer, IterativeImputer, KNNImputer\n",
    "\n",
    "# TODO: cross validation, output all HTMLs AND add JSONs"
   ],
   "outputs": [],
   "execution_count": 1
  },
  {
   "cell_type": "code",
   "id": "328fd92d0c0f1da4",
   "metadata": {
    "ExecuteTime": {
     "end_time": "2024-08-09T11:26:03.763886Z",
     "start_time": "2024-08-09T11:26:03.596385Z"
    }
   },
   "source": [
    "data_dir = r'J:\\Onderzoek\\21-763_rvanes_MiniECG-2-Data\\E_ResearchData\\2_ResearchData\\Parquet'\n",
    "output_dir = r'J:\\Onderzoek\\21-763_rvanes_MiniECG-2-Data\\G_Output\\2_Data\\CustomTree'"
   ],
   "outputs": [],
   "execution_count": 2
  },
  {
   "cell_type": "code",
   "id": "c6219ba685f490c0",
   "metadata": {
    "ExecuteTime": {
     "end_time": "2024-08-09T11:26:03.934438Z",
     "start_time": "2024-08-09T11:26:03.766388Z"
    }
   },
   "source": [
    "MIN_MORPHO_PRESENCE = 0.15 # %\n",
    "MULTI_CLASS = True\n",
    "num_splits = 10\n",
    "num_repeats = 10\n",
    "\n",
    "MULTI_CLASS_STRING = \"_MultiClass\" if MULTI_CLASS else \"\""
   ],
   "outputs": [],
   "execution_count": 3
  },
  {
   "cell_type": "code",
   "id": "51a537c95bdb9d34",
   "metadata": {
    "ExecuteTime": {
     "end_time": "2024-08-09T11:26:04.290921Z",
     "start_time": "2024-08-09T11:26:03.938389Z"
    }
   },
   "source": [
    "DATA = pd.read_parquet(os.path.join(data_dir, f'DATA.parquet'))\n",
    "\n",
    "morphology_columns = [c for c in DATA.columns if 'morphology' in c]\n",
    "lead_columns = [c for c in DATA.columns if ('lead' in c) & ('morphology' not in c)]\n",
    "\n",
    "for c in morphology_columns:\n",
    "    DATA.loc[:, c] = DATA[c].apply(lambda x: x[0].strip(\",\").strip(\" \"))\n",
    "    DATA.loc[:, c] = DATA[c].apply(lambda x: x if x.strip()!=\"\" else \"none\")\n",
    "\n",
    "OneHot = OneHotEncoder(drop=None, sparse_output=False, min_frequency=MIN_MORPHO_PRESENCE)\n",
    "MorphologyOneHot = pd.DataFrame(data=OneHot.fit_transform(DATA[morphology_columns]), \n",
    "                            columns=OneHot.get_feature_names_out(morphology_columns),\n",
    "                            index=DATA.index)"
   ],
   "outputs": [],
   "execution_count": 4
  },
  {
   "cell_type": "code",
   "id": "88851f9624ac3ae2",
   "metadata": {
    "ExecuteTime": {
     "end_time": "2024-08-09T11:26:04.476921Z",
     "start_time": "2024-08-09T11:26:04.293394Z"
    }
   },
   "source": [
    "DATA = DATA.drop(morphology_columns, axis=1)\n",
    "DATA = pd.concat([DATA, MorphologyOneHot], axis=1)"
   ],
   "outputs": [],
   "execution_count": 5
  },
  {
   "cell_type": "code",
   "id": "5c714dfc36621795",
   "metadata": {
    "ExecuteTime": {
     "end_time": "2024-08-09T11:26:04.662894Z",
     "start_time": "2024-08-09T11:26:04.479394Z"
    }
   },
   "source": [
    "DATA = DATA.assign(Diagnosis=DATA.Diagnosis.map({\n",
    "                                                                'SR': 'SR',\n",
    "                                                                'BF': 'BF',\n",
    "                                                                'RBBB': 'RBBB',\n",
    "                                                                'LBBB': 'LBBB',\n",
    "                                                                'LAFB': 'LAFB',\n",
    "                                                                'LAFB , LVH': 'LAFB',\n",
    "                                                                'Microvoltages , BF': 'BF',\n",
    "                                                                'Microvoltages , RBBB': 'RBBB',\n",
    "                                                                'Microvoltages , LAFB': 'LAFB', \n",
    "                                                                'LVH , BF': 'BF',\n",
    "                                                                'LVH , RBBB': 'RBBB',\n",
    "                                                                'LVH , LBBB': 'LBBB'\n",
    "                                                            }))\n",
    "Reduction_map = {'BF': 'Disease', \n",
    "                 'LBBB': 'Disease', \n",
    "                 'RBBB': 'Disease',\n",
    "                 'LAFB': 'Disease',\n",
    "                 'SR': 'Normal'}\n",
    "\n",
    "if MULTI_CLASS==False:\n",
    "    DATA = DATA.assign(Diagnosis=DATA.Diagnosis.map(Reduction_map))\n",
    "DATA = DATA.dropna(subset=['Diagnosis'])\n"
   ],
   "outputs": [],
   "execution_count": 6
  },
  {
   "cell_type": "markdown",
   "id": "63e34320264c5225",
   "metadata": {},
   "source": [
    "# Make tree"
   ]
  },
  {
   "cell_type": "code",
   "id": "705c65e4096a8ae5",
   "metadata": {
    "ExecuteTime": {
     "end_time": "2024-08-09T11:26:04.848897Z",
     "start_time": "2024-08-09T11:26:04.665397Z"
    }
   },
   "source": [
    "rules_path = r'T:\\laupodteam\\AIOS\\Bram\\notebooks\\code_dev\\miniECG_interpretation\\TreeBuilder\\assets\\conduction_tree.json'\n",
    "\n",
    "TreeKwargs = {\n",
    "    'criterion':'gini', \n",
    "    'splitter':'best', \n",
    "    'max_depth':3, \n",
    "    'min_samples_split':10, \n",
    "    'min_samples_leaf': 5, \n",
    "    'min_weight_fraction_leaf':0.05, \n",
    "    'max_features':None, \n",
    "    'random_state':7, \n",
    "    'max_leaf_nodes':50,\n",
    "    'class_weight': 'balanced'\n",
    "}"
   ],
   "outputs": [],
   "execution_count": 7
  },
  {
   "cell_type": "code",
   "id": "ce42d8c8ba64c271",
   "metadata": {
    "ExecuteTime": {
     "end_time": "2024-08-09T11:26:05.034930Z",
     "start_time": "2024-08-09T11:26:04.851397Z"
    }
   },
   "source": [
    "rules_loader = ctree.LoadRules(rules_path)\n",
    "processed_rules = rules_loader.get_processed_rules()"
   ],
   "outputs": [],
   "execution_count": 8
  },
  {
   "cell_type": "code",
   "id": "8930ab9a3dcd41c7",
   "metadata": {
    "ExecuteTime": {
     "end_time": "2024-08-09T11:26:05.205401Z",
     "start_time": "2024-08-09T11:26:05.037401Z"
    }
   },
   "source": [
    "processed_rules.features_to_use_next"
   ],
   "outputs": [
    {
     "data": {
      "text/plain": [
       "[]"
      ]
     },
     "execution_count": 9,
     "metadata": {},
     "output_type": "execute_result"
    }
   ],
   "execution_count": 9
  },
  {
   "cell_type": "code",
   "id": "52462f4a3a4c0335",
   "metadata": {
    "ExecuteTime": {
     "end_time": "2024-08-09T11:26:05.375907Z",
     "start_time": "2024-08-09T11:26:05.210903Z"
    }
   },
   "source": [
    "SplitColumn = rules_loader.fold_split_col\n",
    "TargetCol = rules_loader.target_col\n",
    "IgnoreCols = rules_loader.ignore_cols\n",
    "FeaturesToUse = rules_loader.features_to_use"
   ],
   "outputs": [],
   "execution_count": 10
  },
  {
   "cell_type": "code",
   "id": "17a47f3113df9286",
   "metadata": {
    "ExecuteTime": {
     "end_time": "2024-08-09T11:26:05.546442Z",
     "start_time": "2024-08-09T11:26:05.378411Z"
    }
   },
   "source": [
    "if len(FeaturesToUse)>0:\n",
    "    keep_columns = set(FeaturesToUse).difference(set(IgnoreCols))\n",
    "else:\n",
    "    keep_columns = [c for c in DATA.columns if c not in IgnoreCols]\n",
    "\n",
    "Splitter = RepeatedStratifiedKFold(n_splits=num_splits, \n",
    "                                   n_repeats=num_repeats, \n",
    "                                   random_state=7)"
   ],
   "outputs": [],
   "execution_count": 11
  },
  {
   "metadata": {
    "ExecuteTime": {
     "end_time": "2024-08-09T11:26:05.716908Z",
     "start_time": "2024-08-09T11:26:05.548908Z"
    }
   },
   "cell_type": "code",
   "source": [
    "X = DATA[[c for c in keep_columns if c not in [SplitColumn, TargetCol]]]\n",
    "Y = DATA[TargetCol]"
   ],
   "id": "a68d125a4d2c9de5",
   "outputs": [],
   "execution_count": 12
  },
  {
   "cell_type": "code",
   "id": "7e0fe0a87ee2e48a",
   "metadata": {
    "ExecuteTime": {
     "end_time": "2024-08-09T11:26:05.887409Z",
     "start_time": "2024-08-09T11:26:05.719908Z"
    }
   },
   "source": [
    "lb = LabelBinarizer()\n",
    "lbe = LabelEncoder()\n",
    "lbe.fit(Y)\n",
    "TargetMap = {k:v for k,v in enumerate(lbe.classes_)}"
   ],
   "outputs": [],
   "execution_count": 13
  },
  {
   "metadata": {
    "ExecuteTime": {
     "end_time": "2024-08-09T11:26:06.073412Z",
     "start_time": "2024-08-09T11:26:05.889916Z"
    }
   },
   "cell_type": "code",
   "source": "TargetMap.values()",
   "id": "c944ee82a01ff1fb",
   "outputs": [
    {
     "data": {
      "text/plain": [
       "dict_values(['BF', 'LAFB', 'LBBB', 'RBBB', 'SR'])"
      ]
     },
     "execution_count": 14,
     "metadata": {},
     "output_type": "execute_result"
    }
   ],
   "execution_count": 14
  },
  {
   "metadata": {
    "ExecuteTime": {
     "end_time": "2024-08-09T11:26:07.003480Z",
     "start_time": "2024-08-09T11:26:06.075411Z"
    }
   },
   "cell_type": "code",
   "source": "X.to_parquet(os.path.join(output_dir, f'data{MULTI_CLASS_STRING}.parquet'))",
   "id": "50139353f8bb4626",
   "outputs": [],
   "execution_count": 15
  },
  {
   "metadata": {
    "jupyter": {
     "is_executing": true
    },
    "ExecuteTime": {
     "start_time": "2024-08-09T11:26:07.005935Z"
    }
   },
   "cell_type": "code",
   "source": [
    "results_list = []\n",
    "for i, (train_index, test_index) in tqdm.tqdm(enumerate(Splitter.split(X, Y)),\n",
    "                                              total=num_splits * num_repeats):\n",
    "    result_df = pd.DataFrame()\n",
    "    \n",
    "    X_train, X_test = X.iloc[train_index], X.iloc[test_index]\n",
    "    Y_train, Y_test = Y[train_index], Y[test_index]\n",
    "    \n",
    "    y_train_encoded = lbe.transform(Y_train)\n",
    "    y_test_encoded = lbe.transform(Y_test)\n",
    "        \n",
    "    Imputer = IterativeImputer(LinearRegression(), \n",
    "                           add_indicator=True, max_iter=25, verbose=1)\n",
    "    Imputer.fit(X_train)\n",
    "    \n",
    "    X_train_imputed = Imputer.transform(X_train)\n",
    "    X_test_imputed = Imputer.transform(X_test)\n",
    "    \n",
    "    X_train_imputed = pd.DataFrame(data=X_train_imputed,\n",
    "                                   columns=Imputer.get_feature_names_out())\n",
    "    \n",
    "    X_test_imputed = pd.DataFrame(data=X_test_imputed,\n",
    "                                   columns=Imputer.get_feature_names_out())\n",
    "    \n",
    "    clf = ctree.CustomDecisionTreeV2(custom_rules=processed_rules,\n",
    "                                 prune_threshold=None,\n",
    "                                 Tree_kwargs=TreeKwargs,\n",
    "                                 TargetMap = TargetMap, \n",
    "                                 tot_max_depth=5)\n",
    "    clf_base = DecisionTreeClassifier(**TreeKwargs)\n",
    "    \n",
    "    clf_base.fit(X_train_imputed, y_train_encoded)\n",
    "    clf.fit(X_train_imputed, y_train_encoded)\n",
    "    enriched_rules = clf.get_enriched_rules()\n",
    "    final_tree = clf.get_custom_rules_model()\n",
    "    \n",
    "    Fold = i % num_splits\n",
    "    Repeat = i // num_splits\n",
    "    \n",
    "    \n",
    "    json.dump(final_tree, open(os.path.join(output_dir, f\"tree_Fold{Fold}_{Repeat}{MULTI_CLASS_STRING}.json\"), mode='w'))\n",
    "    ctree.update_html(tree=final_tree, \n",
    "                      html_path=\"../src/treeTemplate.html\", \n",
    "                      output_path=os.path.join(output_dir, f\"tree_Fold{Fold}_{Repeat}{MULTI_CLASS_STRING}.html\"))\n",
    "    \n",
    "    cust_probas_train = clf.predict_proba(X_train_imputed)\n",
    "    cust_probas_test = clf.predict_proba(X_test_imputed)\n",
    "    \n",
    "    base_probas_train = clf_base.predict_proba(X_train_imputed)\n",
    "    base_probas_test = clf_base.predict_proba(X_test_imputed)\n",
    "    \n",
    "    result_df['indices'] = np.hstack([train_index, test_index])\n",
    "    result_df['Fold'] = Fold\n",
    "    result_df['Repeat'] = Repeat\n",
    "    result_df['Y_true'] = np.hstack([Y_train.values, Y_test.values])\n",
    "    result_df[[f'Y_pred_normal_DT_{cname}' for cname in TargetMap.values()]] = np.vstack([base_probas_train, base_probas_test])\n",
    "    result_df[[f'Y_pred_custom_DT_{cname}' for cname in TargetMap.values()]] = np.vstack([cust_probas_train, cust_probas_test])\n",
    "    result_df['Dataset'] = ['train' for _ in train_index]+['test' for _ in test_index]\n",
    "    \n",
    "    results_list.append(result_df)\n",
    "    \n",
    "Final_results = pd.concat(results_list, axis=0)\n",
    "Final_results.to_csv(os.path.join(output_dir, f\"results{MULTI_CLASS_STRING}.csv\"), index=False, sep=\";\")\n",
    "Final_results.to_parquet(os.path.join(output_dir, f\"results{MULTI_CLASS_STRING}.parquet\"))\n"
   ],
   "id": "72e244d313d5c294",
   "outputs": [
    {
     "name": "stderr",
     "output_type": "stream",
     "text": [
      "  0%|          | 0/100 [00:00<?, ?it/s]"
     ]
    },
    {
     "name": "stdout",
     "output_type": "stream",
     "text": [
      "[IterativeImputer] Completing matrix with shape (1215, 63)\n"
     ]
    }
   ],
   "execution_count": null
  },
  {
   "metadata": {
    "jupyter": {
     "is_executing": true
    }
   },
   "cell_type": "code",
   "source": "",
   "id": "a937e035478b02d9",
   "outputs": [],
   "execution_count": null
  }
 ],
 "metadata": {
  "kernelspec": {
   "display_name": "base_310",
   "language": "python",
   "name": "python3"
  },
  "language_info": {
   "codemirror_mode": {
    "name": "ipython",
    "version": 3
   },
   "file_extension": ".py",
   "mimetype": "text/x-python",
   "name": "python",
   "nbconvert_exporter": "python",
   "pygments_lexer": "ipython3",
   "version": "3.10.5"
  }
 },
 "nbformat": 4,
 "nbformat_minor": 5
}
