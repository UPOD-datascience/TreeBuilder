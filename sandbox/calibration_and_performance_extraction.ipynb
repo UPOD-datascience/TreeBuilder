{
 "cells": [
  {
   "metadata": {},
   "cell_type": "markdown",
   "source": [
    "The purpose here is to \n",
    "* extract performance metrics, ROC curves, precision-recall curves, f1-proba, prec-proba, spec-proba, recall-proba curves\n",
    "* extract calibration curves\n",
    "* extract calibration-corrections\n",
    "\n",
    "Given: a `.parquet` with the probas for all classes, the fold numbers, the id's and the actual class values\n",
    "\n",
    "```\n",
    "@inproceedings{guo2017calibration,\n",
    "  title={On calibration of modern neural networks},\n",
    "  author={Guo, Chuan and Pleiss, Geoff and Sun, Yu and Weinberger, Kilian Q},\n",
    "  booktitle={International conference on machine learning},\n",
    "  pages={1321--1330},\n",
    "  year={2017},\n",
    "  organization={PMLR}\n",
    "}\n",
    "```"
   ],
   "id": "8d017fb6f40a448d"
  },
  {
   "metadata": {},
   "cell_type": "code",
   "source": [
    "%load_ext autoreload\n",
    "%autoreload 2\n",
    "import pandas as pd\n",
    "import numpy as np\n",
    "import os\n",
    "import sys\n",
    "from tqdm import tqdm\n",
    "from collections import defaultdict\n",
    "from typing import Literal\n",
    "\n",
    "from sklearn.calibration import calibration_curve\n",
    "import matplotlib.pyplot as plt\n",
    "\n",
    "sys.path.insert(0, os.path.join(os.path.abspath('.'),'..', 'src'))\n",
    "import tree_utils\n"
   ],
   "id": "781b38dd4bd43fbb",
   "outputs": [],
   "execution_count": null
  },
  {
   "metadata": {},
   "cell_type": "code",
   "source": "plt.style.use('ggplot')",
   "id": "2fd011590b7d6c0c",
   "outputs": [],
   "execution_count": null
  },
  {
   "metadata": {},
   "cell_type": "code",
   "source": "start_path = r'J:\\Onderzoek\\21-763_rvanes_MiniECG-2-Data'",
   "id": "b4ba4d9c65bd5288",
   "outputs": [],
   "execution_count": null
  },
  {
   "metadata": {},
   "cell_type": "code",
   "source": "os.chdir(start_path)",
   "id": "8a344b227fc9c358",
   "outputs": [],
   "execution_count": null
  },
  {
   "metadata": {
    "ExecuteTime": {
     "end_time": "2024-08-22T11:34:04.451336Z",
     "start_time": "2024-08-22T11:34:04.291337Z"
    }
   },
   "cell_type": "code",
   "source": [
    "RUN_CALIBRATION_PLOTS = False\n",
    "RUN_NBA = False\n",
    "RUN_ROC = False\n",
    "RUN_PRC = True\n",
    "RUN_F1C = True\n",
    "RUN_RC = True\n",
    "RUN_PC = True\n",
    "RUN_NPVC = True\n",
    "ONLY_DATA = True"
   ],
   "id": "b5175c600d0895d0",
   "outputs": [],
   "execution_count": 31
  },
  {
   "metadata": {},
   "cell_type": "code",
   "source": [
    "RESULTS = {}\n",
    "PATHS = {}"
   ],
   "id": "387790c3a41642b3",
   "outputs": [],
   "execution_count": null
  },
  {
   "metadata": {},
   "cell_type": "markdown",
   "source": "## Calibration ",
   "id": "43e89203cc0cc82e"
  },
  {
   "metadata": {},
   "cell_type": "code",
   "source": [
    "output_path = r\"G_Output\\2_Data\\CustomTree\\conduction\"\n",
    "df = pd.read_parquet(os.path.join(output_path, \"CONDUCTION_MultiClass_wMorphoMap_RESULTS.parquet\"))\n",
    "RESULTS['CONDUCTION'] = df.copy()\n",
    "PATHS['CONDUCTION'] = output_path\n",
    "\n",
    "cal_df, _ = tree_utils.add_calibrated_values(RESULTS['CONDUCTION'].copy(), how='sigmoid')\n",
    "cal_df.to_parquet(os.path.join(start_path, PATHS['CONDUCTION'], 'Calibrated_RESULTS.parquet'))\n",
    "RESULTS['CONDUCTION_CALIBRATED'] = cal_df \n",
    "\n",
    "if RUN_CALIBRATION_PLOTS:\n",
    "    tree_utils.create_calibration_plots(df, output_path=os.path.join(start_path, output_path), write_out=True)\n",
    "    tree_utils.create_calibration_plots(cal_df, output_path=os.path.join(start_path, output_path), write_out=True, suffix='_calibrated_mean')\n"
   ],
   "id": "ca0bfb40b73c937d",
   "outputs": [],
   "execution_count": null
  },
  {
   "metadata": {},
   "cell_type": "code",
   "source": [
    "output_path = r\"G_Output\\2_Data\\CustomTree\\muscle\"\n",
    "df = pd.read_parquet(os.path.join(output_path, \"MUSCLE_MultiClass_wMorphoMap_RESULTS.parquet\"))\n",
    "RESULTS['MUSCLE'] = df.copy()\n",
    "PATHS['MUSCLE'] = output_path\n",
    "\n",
    "cal_df, _ = tree_utils.add_calibrated_values(RESULTS['MUSCLE'].copy(), how='sigmoid')\n",
    "cal_df.to_parquet(os.path.join(start_path, PATHS['MUSCLE'], 'Calibrated_RESULTS.parquet'))\n",
    "RESULTS['MUSCLE_CALIBRATED'] = cal_df \n",
    "\n",
    "if RUN_CALIBRATION_PLOTS:\n",
    "    tree_utils.create_calibration_plots(df, output_path=os.path.join(start_path, output_path), write_out=True)\n",
    "    tree_utils.create_calibration_plots(cal_df, output_path=os.path.join(start_path, output_path), write_out=True, suffix='_calibrated_mean')"
   ],
   "id": "f161b0aaeeb2e4cb",
   "outputs": [],
   "execution_count": null
  },
  {
   "metadata": {},
   "cell_type": "code",
   "source": [
    "output_path = r\"G_Output\\2_Data\\CustomTree\\axis\"\n",
    "df = pd.read_parquet(os.path.join(output_path, \"AXIS_MultiClass_wMorphoMap_RESULTS.parquet\"))\n",
    "RESULTS['AXIS'] = df.copy()\n",
    "PATHS['AXIS'] = output_path\n",
    "\n",
    "cal_df, _ = tree_utils.add_calibrated_values(RESULTS['AXIS'].copy(), how='sigmoid')\n",
    "cal_df.to_parquet(os.path.join(start_path, PATHS['AXIS'], 'Calibrated_RESULTS.parquet'))\n",
    "RESULTS['AXIS_CALIBRATED'] = cal_df \n",
    "\n",
    "if RUN_CALIBRATION_PLOTS:\n",
    "    tree_utils.create_calibration_plots(df, output_path=os.path.join(start_path, output_path), write_out=True)\n",
    "    tree_utils.create_calibration_plots(cal_df, output_path=os.path.join(start_path, output_path), write_out=True, suffix='_calibrated_mean')"
   ],
   "id": "e58db7a388eaf07f",
   "outputs": [],
   "execution_count": null
  },
  {
   "metadata": {},
   "cell_type": "code",
   "source": [
    "output_path = r\"G_Output\\2_Data\\CustomTree\\conduction_BinaryClass\"\n",
    "df = pd.read_parquet(os.path.join(output_path, \"results_BinaryClass_wMorphoMap.parquet\"))\n",
    "RESULTS['CONDUCTION_BINARY'] = df.copy()\n",
    "PATHS['CONDUCTION_BINARY'] = output_path\n",
    "\n",
    "cal_df, _ = tree_utils.add_calibrated_values(RESULTS['CONDUCTION_BINARY'].copy(), how='sigmoid')\n",
    "cal_df.to_parquet(os.path.join(start_path, PATHS['CONDUCTION_BINARY'], 'Calibrated_RESULTS.parquet'))\n",
    "RESULTS['CONDUCTION_BINARY_CALIBRATED'] = cal_df   \n",
    "\n",
    "if RUN_CALIBRATION_PLOTS:\n",
    "    tree_utils.create_calibration_plots(df, output_path=os.path.join(start_path, output_path), write_out=True)\n",
    "    tree_utils.create_calibration_plots(cal_df, output_path=os.path.join(start_path, output_path), write_out=True, suffix='_calibrated_mean')"
   ],
   "id": "23bd91408398d48b",
   "outputs": [],
   "execution_count": null
  },
  {
   "metadata": {},
   "cell_type": "code",
   "source": [
    "output_path = r\"G_Output\\2_Data\\CustomTree\\muscle_BinaryClass\"\n",
    "df = pd.read_parquet(os.path.join(output_path, \"results_BinaryClass_wMorphoMap.parquet\"))\n",
    "RESULTS['MUSCLE_BINARY'] = df.copy()\n",
    "PATHS['MUSCLE_BINARY'] = output_path\n",
    "\n",
    "cal_df, _ = tree_utils.add_calibrated_values(RESULTS['MUSCLE_BINARY'].copy(), how='sigmoid')\n",
    "cal_df.to_parquet(os.path.join(start_path, PATHS['MUSCLE_BINARY'], 'Calibrated_RESULTS.parquet'))\n",
    "RESULTS['MUSCLE_BINARY_CALIBRATED'] = cal_df   \n",
    "\n",
    "if RUN_CALIBRATION_PLOTS:\n",
    "    tree_utils.create_calibration_plots(df, output_path=os.path.join(start_path, output_path), write_out=True)\n",
    "    tree_utils.create_calibration_plots(cal_df, output_path=os.path.join(start_path, output_path), write_out=True, suffix='_calibrated_mean')"
   ],
   "id": "86d91cb380e49e0d",
   "outputs": [],
   "execution_count": null
  },
  {
   "metadata": {},
   "cell_type": "code",
   "source": [
    "output_path = r\"G_Output\\2_Data\\CustomTree\\axis_BinaryClass\"\n",
    "df = pd.read_parquet(os.path.join(output_path, \"results_BinaryClass_wMorphoMap.parquet\"))\n",
    "RESULTS['AXIS_BINARY'] = df.copy()\n",
    "PATHS['AXIS_BINARY'] = output_path\n",
    "\n",
    "cal_df, _ = tree_utils.add_calibrated_values(RESULTS['AXIS_BINARY'].copy(), how='sigmoid')\n",
    "cal_df.to_parquet(os.path.join(start_path, PATHS['AXIS_BINARY'], 'Calibrated_RESULTS.parquet'))\n",
    "RESULTS['AXIS_BINARY_CALIBRATED'] = cal_df   \n",
    "\n",
    "if RUN_CALIBRATION_PLOTS:\n",
    "    tree_utils.create_calibration_plots(df, output_path=os.path.join(start_path, output_path), write_out=True)\n",
    "    tree_utils.create_calibration_plots(cal_df, output_path=os.path.join(start_path, output_path), write_out=True, suffix='_calibrated_mean')"
   ],
   "id": "88e8dfc009489cc",
   "outputs": [],
   "execution_count": null
  },
  {
   "metadata": {},
   "cell_type": "markdown",
   "source": "## Net benefit analysis",
   "id": "a1c0b6d23cce2aa3"
  },
  {
   "metadata": {},
   "cell_type": "code",
   "source": [
    "if RUN_NBA:\n",
    "    for k in RESULTS.keys():\n",
    "        print(f\"Processing {k}...\")\n",
    "        if 'CALIBRATED' not in k:\n",
    "            tree_utils.net_benefit_curve_plot(RESULTS[k], \n",
    "                                              output_path=os.path.join(start_path, PATHS[k]), \n",
    "                                              true_col_prefix='Y_true',\n",
    "                                              pred_col_prefix='Y_pred',\n",
    "                                              xlim=[0, 0.5],\n",
    "                                              ylim=[-0.1, 0.5],\n",
    "                                              show_plot=False,\n",
    "                                              plot_title=\"Binary model, not calibrated\",\n",
    "                                              file_suffix=\"_train\",\n",
    "                                              dataset=\"train\"\n",
    "                                              )\n",
    "            tree_utils.net_benefit_curve_plot(RESULTS[k], \n",
    "                                              output_path=os.path.join(start_path, PATHS[k]), \n",
    "                                              true_col_prefix='Y_true',\n",
    "                                              pred_col_prefix='Y_pred',\n",
    "                                              xlim=[0, 0.5],\n",
    "                                              ylim=[-0.1, 0.5],\n",
    "                                              show_plot=False,\n",
    "                                              plot_title=\"Binary model, not calibrated\",\n",
    "                                              file_suffix=\"_calibrated\",\n",
    "                                              dataset=\"test\",\n",
    "                                              )\n",
    "            tree_utils.net_benefit_curve_plot(RESULTS[f'{k}_CALIBRATED'],\n",
    "                                                output_path = os.path.join(start_path, PATHS[k]),\n",
    "                                                true_col_prefix = 'Y_true',\n",
    "                                                pred_col_prefix = 'Y_pred',\n",
    "                                                xlim = [0, 0.5],\n",
    "                                                ylim = [-0.1, 0.5],\n",
    "                                                show_plot = False,\n",
    "                                                plot_title = \"Binary model, calibrated\",\n",
    "                                                file_suffix = \"_calibrated\",\n",
    "                                                dataset = \"test\",\n",
    "                                                calibrated = True,                                    \n",
    "                                              )"
   ],
   "id": "363b4f94306acbb9",
   "outputs": [],
   "execution_count": null
  },
  {
   "metadata": {},
   "cell_type": "markdown",
   "source": [
    "## Performance\n",
    "\n",
    "* ROC\n",
    "* precision-recall "
   ],
   "id": "e28375378cabcf5b"
  },
  {
   "metadata": {},
   "cell_type": "code",
   "source": [
    "if RUN_ROC:\n",
    "    for k in RESULTS.keys():\n",
    "        if 'CALIBRATED' not in k:\n",
    "            tree_utils.make_roc_plots(RESULTS[k], OutPath=os.path.join(start_path, PATHS[k]), Target=k)\n",
    "            tree_utils.make_roc_plots(RESULTS[f'{k}_CALIBRATED'], OutPath=os.path.join(start_path, PATHS[k]), Target=k, suffix='_calibrated_mean')"
   ],
   "id": "72849203f736eaf7",
   "outputs": [],
   "execution_count": null
  },
  {
   "metadata": {},
   "cell_type": "code",
   "source": [
    "if RUN_PRC:\n",
    "    for k in RESULTS.keys():\n",
    "        if 'CALIBRATED' not in k:\n",
    "            tree_utils.make_precisionRecall_plots(RESULTS[k], OutPath=os.path.join(start_path, PATHS[k]), Target=k)\n",
    "            tree_utils.make_precisionRecall_plots(RESULTS[f'{k}_CALIBRATED'], OutPath=os.path.join(start_path, PATHS[k]), Target=k, suffix='_calibrated_mean')"
   ],
   "id": "fb53d8e9f4ac6bed",
   "outputs": [],
   "execution_count": null
  },
  {
   "metadata": {
    "ExecuteTime": {
     "end_time": "2024-08-22T11:56:40.954097Z",
     "start_time": "2024-08-22T11:34:14.441532Z"
    }
   },
   "cell_type": "code",
   "source": [
    "if RUN_F1C:\n",
    "    for k in RESULTS.keys():\n",
    "        if 'CALIBRATED' not in k:\n",
    "            tree_utils.make_f1_plots(RESULTS[k], OutPath=os.path.join(start_path, PATHS[k]), Target=k, only_data=ONLY_DATA)\n",
    "            tree_utils.make_f1_plots(RESULTS[f'{k}_CALIBRATED'], OutPath=os.path.join(start_path, PATHS[k]), Target=k, suffix='_calibrated_mean', only_data=ONLY_DATA)"
   ],
   "id": "218a5e73f59c9f7f",
   "outputs": [],
   "execution_count": 32
  },
  {
   "metadata": {
    "ExecuteTime": {
     "end_time": "2024-08-22T12:20:28.342828Z",
     "start_time": "2024-08-22T11:56:40.955985Z"
    }
   },
   "cell_type": "code",
   "source": [
    "if RUN_RC:\n",
    "    for k in RESULTS.keys():\n",
    "        if 'CALIBRATED' not in k:\n",
    "            tree_utils.make_recall_plots(RESULTS[k], OutPath=os.path.join(start_path, PATHS[k]), Target=k, only_data=ONLY_DATA)\n",
    "            tree_utils.make_recall_plots(RESULTS[f'{k}_CALIBRATED'], OutPath=os.path.join(start_path, PATHS[k]), Target=k, suffix='_calibrated_mean', only_data=ONLY_DATA)"
   ],
   "id": "b202dae20db7eb78",
   "outputs": [],
   "execution_count": 33
  },
  {
   "metadata": {
    "ExecuteTime": {
     "end_time": "2024-08-22T12:43:39.185671Z",
     "start_time": "2024-08-22T12:20:28.344684Z"
    }
   },
   "cell_type": "code",
   "source": [
    "if RUN_PC:\n",
    "    for k in RESULTS.keys():\n",
    "        if 'CALIBRATED' not in k:\n",
    "            tree_utils.make_precision_plots(RESULTS[k], OutPath=os.path.join(start_path, PATHS[k]), Target=k, only_data=ONLY_DATA)\n",
    "            tree_utils.make_precision_plots(RESULTS[f'{k}_CALIBRATED'], OutPath=os.path.join(start_path, PATHS[k]), Target=k, suffix='_calibrated_mean', only_data=ONLY_DATA)"
   ],
   "id": "21e6aa8c057a518f",
   "outputs": [],
   "execution_count": 34
  },
  {
   "metadata": {
    "ExecuteTime": {
     "end_time": "2024-08-22T12:55:17.800004Z",
     "start_time": "2024-08-22T12:43:39.188583Z"
    }
   },
   "cell_type": "code",
   "source": [
    "if RUN_NPVC:\n",
    "    for k in RESULTS.keys():\n",
    "        if 'CALIBRATED' not in k:\n",
    "            tree_utils.make_npv_plots(RESULTS[k], OutPath=os.path.join(start_path, PATHS[k]), Target=k, only_data=ONLY_DATA)\n",
    "            tree_utils.make_npv_plots(RESULTS[f'{k}_CALIBRATED'], OutPath=os.path.join(start_path, PATHS[k]), Target=k, suffix='_calibrated_mean', only_data=ONLY_DATA)"
   ],
   "id": "30a49def2d9a5216",
   "outputs": [],
   "execution_count": 35
  },
  {
   "metadata": {},
   "cell_type": "code",
   "source": "",
   "id": "8bbdfe0d1aa818a6",
   "outputs": [],
   "execution_count": null
  }
 ],
 "metadata": {
  "kernelspec": {
   "display_name": "Python 3",
   "language": "python",
   "name": "python3"
  },
  "language_info": {
   "codemirror_mode": {
    "name": "ipython",
    "version": 2
   },
   "file_extension": ".py",
   "mimetype": "text/x-python",
   "name": "python",
   "nbconvert_exporter": "python",
   "pygments_lexer": "ipython2",
   "version": "2.7.6"
  }
 },
 "nbformat": 4,
 "nbformat_minor": 5
}
