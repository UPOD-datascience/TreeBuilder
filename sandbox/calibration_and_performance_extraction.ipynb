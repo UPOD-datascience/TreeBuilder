{
 "cells": [
  {
   "metadata": {},
   "cell_type": "markdown",
   "source": [
    "The purpose here is to \n",
    "* extract performance metrics, ROC curves, precision-recall curves, f1-proba, prec-proba, spec-proba, recall-proba curves\n",
    "* extract calibration curves\n",
    "* extract calibration-corrections\n",
    "\n",
    "Given: a `.parquet` with the probas for all classes, the fold numbers, the id's and the actual class values\n",
    "\n",
    "```\n",
    "@inproceedings{guo2017calibration,\n",
    "  title={On calibration of modern neural networks},\n",
    "  author={Guo, Chuan and Pleiss, Geoff and Sun, Yu and Weinberger, Kilian Q},\n",
    "  booktitle={International conference on machine learning},\n",
    "  pages={1321--1330},\n",
    "  year={2017},\n",
    "  organization={PMLR}\n",
    "}\n",
    "```"
   ],
   "id": "8d017fb6f40a448d"
  },
  {
   "metadata": {},
   "cell_type": "code",
   "source": [
    "%load_ext autoreload\n",
    "%autoreload 2\n",
    "import pandas as pd\n",
    "import numpy as np\n",
    "import os\n",
    "import sys\n",
    "from tqdm import tqdm\n",
    "from collections import defaultdict\n",
    "from typing import Literal\n",
    "\n",
    "from sklearn.calibration import calibration_curve\n",
    "import matplotlib.pyplot as plt\n",
    "\n",
    "sys.path.insert(0, os.path.join(os.path.abspath('.'),'..', 'src'))\n",
    "import tree_utils\n"
   ],
   "id": "781b38dd4bd43fbb",
   "outputs": [],
   "execution_count": null
  },
  {
   "metadata": {},
   "cell_type": "code",
   "source": "plt.style.use('ggplot')",
   "id": "2fd011590b7d6c0c",
   "outputs": [],
   "execution_count": null
  },
  {
   "metadata": {},
   "cell_type": "code",
   "source": "start_path = r'J:\\Onderzoek\\21-763_rvanes_MiniECG-2-Data'",
   "id": "b4ba4d9c65bd5288",
   "outputs": [],
   "execution_count": null
  },
  {
   "metadata": {},
   "cell_type": "code",
   "source": "os.chdir(start_path)",
   "id": "8a344b227fc9c358",
   "outputs": [],
   "execution_count": null
  },
  {
   "metadata": {},
   "cell_type": "code",
   "source": "RUN_CALIBRATION_PLOTS = False",
   "id": "b5175c600d0895d0",
   "outputs": [],
   "execution_count": null
  },
  {
   "metadata": {},
   "cell_type": "code",
   "source": [
    "RESULTS = {}\n",
    "PATHS = {}"
   ],
   "id": "387790c3a41642b3",
   "outputs": [],
   "execution_count": null
  },
  {
   "metadata": {},
   "cell_type": "markdown",
   "source": "## Calibration ",
   "id": "43e89203cc0cc82e"
  },
  {
   "metadata": {},
   "cell_type": "code",
   "source": [
    "output_path = r\"G_Output\\2_Data\\CustomTree\\conduction\"\n",
    "df = pd.read_parquet(os.path.join(output_path, \"CONDUCTION_MultiClass_wMorphoMap_RESULTS.parquet\"))\n",
    "RESULTS['CONDUCTION'] = df.copy()\n",
    "PATHS['CONDUCTION'] = output_path\n",
    "\n",
    "if RUN_CALIBRATION_PLOTS:\n",
    "    tree_utils.create_calibration_plots(df, output_path=os.path.join(start_path, output_path), write_out=True)"
   ],
   "id": "ca0bfb40b73c937d",
   "outputs": [],
   "execution_count": null
  },
  {
   "metadata": {},
   "cell_type": "code",
   "source": [
    "output_path = r\"G_Output\\2_Data\\CustomTree\\muscle\"\n",
    "df = pd.read_parquet(os.path.join(output_path, \"MUSCLE_MultiClass_wMorphoMap_RESULTS.parquet\"))\n",
    "RESULTS['MUSCLE'] = df.copy()\n",
    "PATHS['MUSCLE'] = output_path\n",
    "\n",
    "if RUN_CALIBRATION_PLOTS:\n",
    "    tree_utils.create_calibration_plots(df, output_path=os.path.join(start_path, output_path), write_out=True)"
   ],
   "id": "f161b0aaeeb2e4cb",
   "outputs": [],
   "execution_count": null
  },
  {
   "metadata": {},
   "cell_type": "code",
   "source": [
    "output_path = r\"G_Output\\2_Data\\CustomTree\\axis\"\n",
    "df = pd.read_parquet(os.path.join(output_path, \"AXIS_MultiClass_wMorphoMap_RESULTS.parquet\"))\n",
    "RESULTS['AXIS'] = df.copy()\n",
    "PATHS['AXIS'] = output_path\n",
    "\n",
    "if RUN_CALIBRATION_PLOTS:\n",
    "    tree_utils.create_calibration_plots(df, output_path=os.path.join(start_path, output_path), write_out=True)"
   ],
   "id": "e58db7a388eaf07f",
   "outputs": [],
   "execution_count": null
  },
  {
   "metadata": {},
   "cell_type": "code",
   "source": [
    "output_path = r\"G_Output\\2_Data\\CustomTree\\conduction_BinaryClass\"\n",
    "df = pd.read_parquet(os.path.join(output_path, \"results_BinaryClass_wMorphoMap.parquet\"))\n",
    "RESULTS['CONDUCTION_BINARY'] = df.copy()\n",
    "PATHS['CONDUCTION_BINARY'] = output_path\n",
    "\n",
    "if RUN_CALIBRATION_PLOTS:\n",
    "    tree_utils.create_calibration_plots(df, output_path=os.path.join(start_path, output_path), write_out=True)"
   ],
   "id": "23bd91408398d48b",
   "outputs": [],
   "execution_count": null
  },
  {
   "metadata": {},
   "cell_type": "code",
   "source": [
    "output_path = r\"G_Output\\2_Data\\CustomTree\\muscle_BinaryClass\"\n",
    "df = pd.read_parquet(os.path.join(output_path, \"results_BinaryClass_wMorphoMap.parquet\"))\n",
    "RESULTS['MUSCLE_BINARY'] = df.copy()\n",
    "PATHS['MUSCLE_BINARY'] = output_path\n",
    "\n",
    "if RUN_CALIBRATION_PLOTS:\n",
    "    tree_utils.create_calibration_plots(df, output_path=os.path.join(start_path, output_path), write_out=True)"
   ],
   "id": "86d91cb380e49e0d",
   "outputs": [],
   "execution_count": null
  },
  {
   "metadata": {},
   "cell_type": "code",
   "source": [
    "output_path = r\"G_Output\\2_Data\\CustomTree\\axis_BinaryClass\"\n",
    "df = pd.read_parquet(os.path.join(output_path, \"results_BinaryClass_wMorphoMap.parquet\"))\n",
    "RESULTS['AXIS_BINARY'] = df.copy()\n",
    "PATHS['AXIS_BINARY'] = output_path\n",
    "\n",
    "if RUN_CALIBRATION_PLOTS:\n",
    "    tree_utils.create_calibration_plots(df, output_path=os.path.join(start_path, output_path), write_out=True)"
   ],
   "id": "88e8dfc009489cc",
   "outputs": [],
   "execution_count": null
  },
  {
   "metadata": {},
   "cell_type": "code",
   "source": [
    "from sklearn.calibration import IsotonicRegression, _SigmoidCalibration\n",
    "from sklearn.linear_model import LinearRegression"
   ],
   "id": "ce06911d269ac99a",
   "outputs": [],
   "execution_count": null
  },
  {
   "metadata": {},
   "cell_type": "code",
   "source": [
    "def calibrater(y_true, y_preds, how: Literal=['isotonic', 'linear', 'sigmoid']):\n",
    "    if how=='isotonic':\n",
    "        calibrator = IsotonicRegression(out_of_bounds='clip')\n",
    "    elif how=='linear':\n",
    "        calibrator = LinearRegression(positive=True)\n",
    "    elif how=='sigmoid':\n",
    "        calibrator = _SigmoidCalibration()\n",
    "    else:\n",
    "        raise ValueError(\"method should be one of isotonic, linear or sigmoid\")\n",
    "        \n",
    "    calibrator.fit(y_preds,y_true)    \n",
    "    return calibrator"
   ],
   "id": "b1b2aee1fa9277eb",
   "outputs": [],
   "execution_count": null
  },
  {
   "metadata": {},
   "cell_type": "code",
   "source": [
    "def add_calibrated_values(df, how='isotonic'):\n",
    "    CALIBRATOR = defaultdict(lambda: defaultdict(list))\n",
    "\n",
    "    pred_strings = [c for c in df.columns if c.startswith('Y_pred')]\n",
    "    Classes = set([s.split(\"_\")[3] for s in pred_strings])\n",
    "    Models = set([s.split(\"_\")[2] for s in pred_strings])\n",
    "    Folds = df.Fold.unique().tolist()\n",
    "    Repeats = df.Repeat.unique().tolist()\n",
    "    \n",
    "    for _class in Classes:\n",
    "        for _mod in Models:\n",
    "            new_col = f'Y_pred_{_mod}_{_class}_calibrated_mean'\n",
    "            new_col_std = f'Y_pred_{_mod}_{_class}_calibrated_std'   \n",
    "            df.loc[new_col] = np.nan  \n",
    "            df.loc[new_col_std] = np.nan \n",
    "            for _Repeat in Repeats:\n",
    "                tmp_calibrator_list = []\n",
    "                for _Fold in Folds:       \n",
    "                    conds = (df.Repeat==_Repeat) & (df.Fold==_Fold) & (df.Dataset=='test')\n",
    "                    Y_true = df.loc[conds, f'Y_true_{_class}'].values\n",
    "                    Y_pred = df.loc[conds, f'Y_pred_{_mod}_{_class}'].values\n",
    "                    \n",
    "                    Calibration_model = calibrater(Y_true, Y_pred, how=how)\n",
    "                    \n",
    "                    tmp_calibrator_list.append(Calibration_model)\n",
    "                    CALIBRATOR[_class][_mod].append(Calibration_model)\n",
    "                # now we collect the calibrated probas for all folds based on all the calibrations\n",
    "                _conds = (df.Repeat==_Repeat)  & (df.Dataset=='test')\n",
    "                calibrated_list = []\n",
    "                _y_preds = df.loc[_conds, f'Y_pred_{_mod}_{_class}'].values\n",
    "                for _Fold, _calibrater in enumerate(tmp_calibrator_list):\n",
    "                    calibrated_list.append(_calibrater.predict(_y_preds))       \n",
    "                    \n",
    "                df.loc[_conds, new_col] = np.mean(calibrated_list, axis=0)\n",
    "                df.loc[_conds, new_col_std] = np.std(calibrated_list, axis=0)\n",
    "    df['indices'] = df['indices'].astype(int)\n",
    "    df['Fold'] = df['Fold'].astype(int)\n",
    "    df['Repeat'] = df['Repeat'].astype(int)\n",
    "    return df, CALIBRATOR"
   ],
   "id": "62b2ea148238eb5c",
   "outputs": [],
   "execution_count": null
  },
  {
   "metadata": {
    "ExecuteTime": {
     "end_time": "2024-08-20T13:39:54.256587Z",
     "start_time": "2024-08-20T13:39:45.550550Z"
    }
   },
   "cell_type": "code",
   "source": [
    "out_df, _ = add_calibrated_values(RESULTS['AXIS_BINARY'].copy(), how='sigmoid')\n",
    "out_df.to_parquet(os.path.join(start_path, PATHS['AXIS_BINARY'], 'Calibrated_RESULTS.parquet'))"
   ],
   "id": "7a1e6c65c408d716",
   "outputs": [
    {
     "ename": "ArrowInvalid",
     "evalue": "(\"Could not convert 'Y_pred_XGB_Normal_calibrated_mean' with type str: tried to convert to int64\", 'Conversion failed for column None with type object')",
     "output_type": "error",
     "traceback": [
      "\u001B[1;31m---------------------------------------------------------------------------\u001B[0m",
      "\u001B[1;31mArrowInvalid\u001B[0m                              Traceback (most recent call last)",
      "Input \u001B[1;32mIn [20]\u001B[0m, in \u001B[0;36m<cell line: 2>\u001B[1;34m()\u001B[0m\n\u001B[0;32m      1\u001B[0m out_df, _ \u001B[38;5;241m=\u001B[39m add_calibrated_values(RESULTS[\u001B[38;5;124m'\u001B[39m\u001B[38;5;124mAXIS_BINARY\u001B[39m\u001B[38;5;124m'\u001B[39m]\u001B[38;5;241m.\u001B[39mcopy(), how\u001B[38;5;241m=\u001B[39m\u001B[38;5;124m'\u001B[39m\u001B[38;5;124msigmoid\u001B[39m\u001B[38;5;124m'\u001B[39m)\n\u001B[1;32m----> 2\u001B[0m \u001B[43mout_df\u001B[49m\u001B[38;5;241;43m.\u001B[39;49m\u001B[43mto_parquet\u001B[49m\u001B[43m(\u001B[49m\u001B[43mos\u001B[49m\u001B[38;5;241;43m.\u001B[39;49m\u001B[43mpath\u001B[49m\u001B[38;5;241;43m.\u001B[39;49m\u001B[43mjoin\u001B[49m\u001B[43m(\u001B[49m\u001B[43mstart_path\u001B[49m\u001B[43m,\u001B[49m\u001B[43m \u001B[49m\u001B[43mPATHS\u001B[49m\u001B[43m[\u001B[49m\u001B[38;5;124;43m'\u001B[39;49m\u001B[38;5;124;43mAXIS_BINARY\u001B[39;49m\u001B[38;5;124;43m'\u001B[39;49m\u001B[43m]\u001B[49m\u001B[43m,\u001B[49m\u001B[43m \u001B[49m\u001B[38;5;124;43m'\u001B[39;49m\u001B[38;5;124;43mCalibrated_RESULTS.parquet\u001B[39;49m\u001B[38;5;124;43m'\u001B[39;49m\u001B[43m)\u001B[49m\u001B[43m)\u001B[49m\n",
      "File \u001B[1;32mD:\\VENVS\\Envs\\base_310\\lib\\site-packages\\pandas\\core\\frame.py:2889\u001B[0m, in \u001B[0;36mDataFrame.to_parquet\u001B[1;34m(self, path, engine, compression, index, partition_cols, storage_options, **kwargs)\u001B[0m\n\u001B[0;32m   2802\u001B[0m \u001B[38;5;124;03m\"\"\"\u001B[39;00m\n\u001B[0;32m   2803\u001B[0m \u001B[38;5;124;03mWrite a DataFrame to the binary parquet format.\u001B[39;00m\n\u001B[0;32m   2804\u001B[0m \n\u001B[1;32m   (...)\u001B[0m\n\u001B[0;32m   2885\u001B[0m \u001B[38;5;124;03m>>> content = f.read()\u001B[39;00m\n\u001B[0;32m   2886\u001B[0m \u001B[38;5;124;03m\"\"\"\u001B[39;00m\n\u001B[0;32m   2887\u001B[0m \u001B[38;5;28;01mfrom\u001B[39;00m \u001B[38;5;21;01mpandas\u001B[39;00m\u001B[38;5;21;01m.\u001B[39;00m\u001B[38;5;21;01mio\u001B[39;00m\u001B[38;5;21;01m.\u001B[39;00m\u001B[38;5;21;01mparquet\u001B[39;00m \u001B[38;5;28;01mimport\u001B[39;00m to_parquet\n\u001B[1;32m-> 2889\u001B[0m \u001B[38;5;28;01mreturn\u001B[39;00m to_parquet(\n\u001B[0;32m   2890\u001B[0m     \u001B[38;5;28mself\u001B[39m,\n\u001B[0;32m   2891\u001B[0m     path,\n\u001B[0;32m   2892\u001B[0m     engine,\n\u001B[0;32m   2893\u001B[0m     compression\u001B[38;5;241m=\u001B[39mcompression,\n\u001B[0;32m   2894\u001B[0m     index\u001B[38;5;241m=\u001B[39mindex,\n\u001B[0;32m   2895\u001B[0m     partition_cols\u001B[38;5;241m=\u001B[39mpartition_cols,\n\u001B[0;32m   2896\u001B[0m     storage_options\u001B[38;5;241m=\u001B[39mstorage_options,\n\u001B[0;32m   2897\u001B[0m     \u001B[38;5;241m*\u001B[39m\u001B[38;5;241m*\u001B[39mkwargs,\n\u001B[0;32m   2898\u001B[0m )\n",
      "File \u001B[1;32mD:\\VENVS\\Envs\\base_310\\lib\\site-packages\\pandas\\io\\parquet.py:411\u001B[0m, in \u001B[0;36mto_parquet\u001B[1;34m(df, path, engine, compression, index, storage_options, partition_cols, **kwargs)\u001B[0m\n\u001B[0;32m    407\u001B[0m impl \u001B[38;5;241m=\u001B[39m get_engine(engine)\n\u001B[0;32m    409\u001B[0m path_or_buf: FilePath \u001B[38;5;241m|\u001B[39m WriteBuffer[\u001B[38;5;28mbytes\u001B[39m] \u001B[38;5;241m=\u001B[39m io\u001B[38;5;241m.\u001B[39mBytesIO() \u001B[38;5;28;01mif\u001B[39;00m path \u001B[38;5;129;01mis\u001B[39;00m \u001B[38;5;28;01mNone\u001B[39;00m \u001B[38;5;28;01melse\u001B[39;00m path\n\u001B[1;32m--> 411\u001B[0m impl\u001B[38;5;241m.\u001B[39mwrite(\n\u001B[0;32m    412\u001B[0m     df,\n\u001B[0;32m    413\u001B[0m     path_or_buf,\n\u001B[0;32m    414\u001B[0m     compression\u001B[38;5;241m=\u001B[39mcompression,\n\u001B[0;32m    415\u001B[0m     index\u001B[38;5;241m=\u001B[39mindex,\n\u001B[0;32m    416\u001B[0m     partition_cols\u001B[38;5;241m=\u001B[39mpartition_cols,\n\u001B[0;32m    417\u001B[0m     storage_options\u001B[38;5;241m=\u001B[39mstorage_options,\n\u001B[0;32m    418\u001B[0m     \u001B[38;5;241m*\u001B[39m\u001B[38;5;241m*\u001B[39mkwargs,\n\u001B[0;32m    419\u001B[0m )\n\u001B[0;32m    421\u001B[0m \u001B[38;5;28;01mif\u001B[39;00m path \u001B[38;5;129;01mis\u001B[39;00m \u001B[38;5;28;01mNone\u001B[39;00m:\n\u001B[0;32m    422\u001B[0m     \u001B[38;5;28;01massert\u001B[39;00m \u001B[38;5;28misinstance\u001B[39m(path_or_buf, io\u001B[38;5;241m.\u001B[39mBytesIO)\n",
      "File \u001B[1;32mD:\\VENVS\\Envs\\base_310\\lib\\site-packages\\pandas\\io\\parquet.py:159\u001B[0m, in \u001B[0;36mPyArrowImpl.write\u001B[1;34m(self, df, path, compression, index, storage_options, partition_cols, **kwargs)\u001B[0m\n\u001B[0;32m    156\u001B[0m \u001B[38;5;28;01mif\u001B[39;00m index \u001B[38;5;129;01mis\u001B[39;00m \u001B[38;5;129;01mnot\u001B[39;00m \u001B[38;5;28;01mNone\u001B[39;00m:\n\u001B[0;32m    157\u001B[0m     from_pandas_kwargs[\u001B[38;5;124m\"\u001B[39m\u001B[38;5;124mpreserve_index\u001B[39m\u001B[38;5;124m\"\u001B[39m] \u001B[38;5;241m=\u001B[39m index\n\u001B[1;32m--> 159\u001B[0m table \u001B[38;5;241m=\u001B[39m \u001B[38;5;28mself\u001B[39m\u001B[38;5;241m.\u001B[39mapi\u001B[38;5;241m.\u001B[39mTable\u001B[38;5;241m.\u001B[39mfrom_pandas(df, \u001B[38;5;241m*\u001B[39m\u001B[38;5;241m*\u001B[39mfrom_pandas_kwargs)\n\u001B[0;32m    161\u001B[0m path_or_handle, handles, kwargs[\u001B[38;5;124m\"\u001B[39m\u001B[38;5;124mfilesystem\u001B[39m\u001B[38;5;124m\"\u001B[39m] \u001B[38;5;241m=\u001B[39m _get_path_or_handle(\n\u001B[0;32m    162\u001B[0m     path,\n\u001B[0;32m    163\u001B[0m     kwargs\u001B[38;5;241m.\u001B[39mpop(\u001B[38;5;124m\"\u001B[39m\u001B[38;5;124mfilesystem\u001B[39m\u001B[38;5;124m\"\u001B[39m, \u001B[38;5;28;01mNone\u001B[39;00m),\n\u001B[1;32m   (...)\u001B[0m\n\u001B[0;32m    166\u001B[0m     is_dir\u001B[38;5;241m=\u001B[39mpartition_cols \u001B[38;5;129;01mis\u001B[39;00m \u001B[38;5;129;01mnot\u001B[39;00m \u001B[38;5;28;01mNone\u001B[39;00m,\n\u001B[0;32m    167\u001B[0m )\n\u001B[0;32m    168\u001B[0m \u001B[38;5;28;01mif\u001B[39;00m (\n\u001B[0;32m    169\u001B[0m     \u001B[38;5;28misinstance\u001B[39m(path_or_handle, io\u001B[38;5;241m.\u001B[39mBufferedWriter)\n\u001B[0;32m    170\u001B[0m     \u001B[38;5;129;01mand\u001B[39;00m \u001B[38;5;28mhasattr\u001B[39m(path_or_handle, \u001B[38;5;124m\"\u001B[39m\u001B[38;5;124mname\u001B[39m\u001B[38;5;124m\"\u001B[39m)\n\u001B[0;32m    171\u001B[0m     \u001B[38;5;129;01mand\u001B[39;00m \u001B[38;5;28misinstance\u001B[39m(path_or_handle\u001B[38;5;241m.\u001B[39mname, (\u001B[38;5;28mstr\u001B[39m, \u001B[38;5;28mbytes\u001B[39m))\n\u001B[0;32m    172\u001B[0m ):\n",
      "File \u001B[1;32mD:\\VENVS\\Envs\\base_310\\lib\\site-packages\\pyarrow\\table.pxi:3457\u001B[0m, in \u001B[0;36mpyarrow.lib.Table.from_pandas\u001B[1;34m()\u001B[0m\n",
      "File \u001B[1;32mD:\\VENVS\\Envs\\base_310\\lib\\site-packages\\pyarrow\\pandas_compat.py:607\u001B[0m, in \u001B[0;36mdataframe_to_arrays\u001B[1;34m(df, schema, preserve_index, nthreads, columns, safe)\u001B[0m\n\u001B[0;32m    605\u001B[0m     \u001B[38;5;28;01mfor\u001B[39;00m i, maybe_fut \u001B[38;5;129;01min\u001B[39;00m \u001B[38;5;28menumerate\u001B[39m(arrays):\n\u001B[0;32m    606\u001B[0m         \u001B[38;5;28;01mif\u001B[39;00m \u001B[38;5;28misinstance\u001B[39m(maybe_fut, futures\u001B[38;5;241m.\u001B[39mFuture):\n\u001B[1;32m--> 607\u001B[0m             arrays[i] \u001B[38;5;241m=\u001B[39m \u001B[43mmaybe_fut\u001B[49m\u001B[38;5;241;43m.\u001B[39;49m\u001B[43mresult\u001B[49m\u001B[43m(\u001B[49m\u001B[43m)\u001B[49m\n\u001B[0;32m    609\u001B[0m types \u001B[38;5;241m=\u001B[39m [x\u001B[38;5;241m.\u001B[39mtype \u001B[38;5;28;01mfor\u001B[39;00m x \u001B[38;5;129;01min\u001B[39;00m arrays]\n\u001B[0;32m    611\u001B[0m \u001B[38;5;28;01mif\u001B[39;00m schema \u001B[38;5;129;01mis\u001B[39;00m \u001B[38;5;28;01mNone\u001B[39;00m:\n",
      "File \u001B[1;32m~\\AppData\\Local\\Programs\\Python\\Python310\\lib\\concurrent\\futures\\_base.py:439\u001B[0m, in \u001B[0;36mFuture.result\u001B[1;34m(self, timeout)\u001B[0m\n\u001B[0;32m    437\u001B[0m     \u001B[38;5;28;01mraise\u001B[39;00m CancelledError()\n\u001B[0;32m    438\u001B[0m \u001B[38;5;28;01melif\u001B[39;00m \u001B[38;5;28mself\u001B[39m\u001B[38;5;241m.\u001B[39m_state \u001B[38;5;241m==\u001B[39m FINISHED:\n\u001B[1;32m--> 439\u001B[0m     \u001B[38;5;28;01mreturn\u001B[39;00m \u001B[38;5;28;43mself\u001B[39;49m\u001B[38;5;241;43m.\u001B[39;49m\u001B[43m__get_result\u001B[49m\u001B[43m(\u001B[49m\u001B[43m)\u001B[49m\n\u001B[0;32m    441\u001B[0m \u001B[38;5;28mself\u001B[39m\u001B[38;5;241m.\u001B[39m_condition\u001B[38;5;241m.\u001B[39mwait(timeout)\n\u001B[0;32m    443\u001B[0m \u001B[38;5;28;01mif\u001B[39;00m \u001B[38;5;28mself\u001B[39m\u001B[38;5;241m.\u001B[39m_state \u001B[38;5;129;01min\u001B[39;00m [CANCELLED, CANCELLED_AND_NOTIFIED]:\n",
      "File \u001B[1;32m~\\AppData\\Local\\Programs\\Python\\Python310\\lib\\concurrent\\futures\\_base.py:391\u001B[0m, in \u001B[0;36mFuture.__get_result\u001B[1;34m(self)\u001B[0m\n\u001B[0;32m    389\u001B[0m \u001B[38;5;28;01mif\u001B[39;00m \u001B[38;5;28mself\u001B[39m\u001B[38;5;241m.\u001B[39m_exception:\n\u001B[0;32m    390\u001B[0m     \u001B[38;5;28;01mtry\u001B[39;00m:\n\u001B[1;32m--> 391\u001B[0m         \u001B[38;5;28;01mraise\u001B[39;00m \u001B[38;5;28mself\u001B[39m\u001B[38;5;241m.\u001B[39m_exception\n\u001B[0;32m    392\u001B[0m     \u001B[38;5;28;01mfinally\u001B[39;00m:\n\u001B[0;32m    393\u001B[0m         \u001B[38;5;66;03m# Break a reference cycle with the exception in self._exception\u001B[39;00m\n\u001B[0;32m    394\u001B[0m         \u001B[38;5;28mself\u001B[39m \u001B[38;5;241m=\u001B[39m \u001B[38;5;28;01mNone\u001B[39;00m\n",
      "File \u001B[1;32m~\\AppData\\Local\\Programs\\Python\\Python310\\lib\\concurrent\\futures\\thread.py:58\u001B[0m, in \u001B[0;36m_WorkItem.run\u001B[1;34m(self)\u001B[0m\n\u001B[0;32m     55\u001B[0m     \u001B[38;5;28;01mreturn\u001B[39;00m\n\u001B[0;32m     57\u001B[0m \u001B[38;5;28;01mtry\u001B[39;00m:\n\u001B[1;32m---> 58\u001B[0m     result \u001B[38;5;241m=\u001B[39m \u001B[38;5;28mself\u001B[39m\u001B[38;5;241m.\u001B[39mfn(\u001B[38;5;241m*\u001B[39m\u001B[38;5;28mself\u001B[39m\u001B[38;5;241m.\u001B[39margs, \u001B[38;5;241m*\u001B[39m\u001B[38;5;241m*\u001B[39m\u001B[38;5;28mself\u001B[39m\u001B[38;5;241m.\u001B[39mkwargs)\n\u001B[0;32m     59\u001B[0m \u001B[38;5;28;01mexcept\u001B[39;00m \u001B[38;5;167;01mBaseException\u001B[39;00m \u001B[38;5;28;01mas\u001B[39;00m exc:\n\u001B[0;32m     60\u001B[0m     \u001B[38;5;28mself\u001B[39m\u001B[38;5;241m.\u001B[39mfuture\u001B[38;5;241m.\u001B[39mset_exception(exc)\n",
      "File \u001B[1;32mD:\\VENVS\\Envs\\base_310\\lib\\site-packages\\pyarrow\\pandas_compat.py:581\u001B[0m, in \u001B[0;36mdataframe_to_arrays.<locals>.convert_column\u001B[1;34m(col, field)\u001B[0m\n\u001B[0;32m    576\u001B[0m \u001B[38;5;28;01mexcept\u001B[39;00m (pa\u001B[38;5;241m.\u001B[39mArrowInvalid,\n\u001B[0;32m    577\u001B[0m         pa\u001B[38;5;241m.\u001B[39mArrowNotImplementedError,\n\u001B[0;32m    578\u001B[0m         pa\u001B[38;5;241m.\u001B[39mArrowTypeError) \u001B[38;5;28;01mas\u001B[39;00m e:\n\u001B[0;32m    579\u001B[0m     e\u001B[38;5;241m.\u001B[39margs \u001B[38;5;241m+\u001B[39m\u001B[38;5;241m=\u001B[39m (\u001B[38;5;124m\"\u001B[39m\u001B[38;5;124mConversion failed for column \u001B[39m\u001B[38;5;132;01m{!s}\u001B[39;00m\u001B[38;5;124m with type \u001B[39m\u001B[38;5;132;01m{!s}\u001B[39;00m\u001B[38;5;124m\"\u001B[39m\n\u001B[0;32m    580\u001B[0m                \u001B[38;5;241m.\u001B[39mformat(col\u001B[38;5;241m.\u001B[39mname, col\u001B[38;5;241m.\u001B[39mdtype),)\n\u001B[1;32m--> 581\u001B[0m     \u001B[38;5;28;01mraise\u001B[39;00m e\n\u001B[0;32m    582\u001B[0m \u001B[38;5;28;01mif\u001B[39;00m \u001B[38;5;129;01mnot\u001B[39;00m field_nullable \u001B[38;5;129;01mand\u001B[39;00m result\u001B[38;5;241m.\u001B[39mnull_count \u001B[38;5;241m>\u001B[39m \u001B[38;5;241m0\u001B[39m:\n\u001B[0;32m    583\u001B[0m     \u001B[38;5;28;01mraise\u001B[39;00m \u001B[38;5;167;01mValueError\u001B[39;00m(\u001B[38;5;124m\"\u001B[39m\u001B[38;5;124mField \u001B[39m\u001B[38;5;132;01m{}\u001B[39;00m\u001B[38;5;124m was non-nullable but pandas column \u001B[39m\u001B[38;5;124m\"\u001B[39m\n\u001B[0;32m    584\u001B[0m                      \u001B[38;5;124m\"\u001B[39m\u001B[38;5;124mhad \u001B[39m\u001B[38;5;132;01m{}\u001B[39;00m\u001B[38;5;124m null values\u001B[39m\u001B[38;5;124m\"\u001B[39m\u001B[38;5;241m.\u001B[39mformat(\u001B[38;5;28mstr\u001B[39m(field),\n\u001B[0;32m    585\u001B[0m                                                  result\u001B[38;5;241m.\u001B[39mnull_count))\n",
      "File \u001B[1;32mD:\\VENVS\\Envs\\base_310\\lib\\site-packages\\pyarrow\\pandas_compat.py:575\u001B[0m, in \u001B[0;36mdataframe_to_arrays.<locals>.convert_column\u001B[1;34m(col, field)\u001B[0m\n\u001B[0;32m    572\u001B[0m     type_ \u001B[38;5;241m=\u001B[39m field\u001B[38;5;241m.\u001B[39mtype\n\u001B[0;32m    574\u001B[0m \u001B[38;5;28;01mtry\u001B[39;00m:\n\u001B[1;32m--> 575\u001B[0m     result \u001B[38;5;241m=\u001B[39m \u001B[43mpa\u001B[49m\u001B[38;5;241;43m.\u001B[39;49m\u001B[43marray\u001B[49m\u001B[43m(\u001B[49m\u001B[43mcol\u001B[49m\u001B[43m,\u001B[49m\u001B[43m \u001B[49m\u001B[38;5;28;43mtype\u001B[39;49m\u001B[38;5;241;43m=\u001B[39;49m\u001B[43mtype_\u001B[49m\u001B[43m,\u001B[49m\u001B[43m \u001B[49m\u001B[43mfrom_pandas\u001B[49m\u001B[38;5;241;43m=\u001B[39;49m\u001B[38;5;28;43;01mTrue\u001B[39;49;00m\u001B[43m,\u001B[49m\u001B[43m \u001B[49m\u001B[43msafe\u001B[49m\u001B[38;5;241;43m=\u001B[39;49m\u001B[43msafe\u001B[49m\u001B[43m)\u001B[49m\n\u001B[0;32m    576\u001B[0m \u001B[38;5;28;01mexcept\u001B[39;00m (pa\u001B[38;5;241m.\u001B[39mArrowInvalid,\n\u001B[0;32m    577\u001B[0m         pa\u001B[38;5;241m.\u001B[39mArrowNotImplementedError,\n\u001B[0;32m    578\u001B[0m         pa\u001B[38;5;241m.\u001B[39mArrowTypeError) \u001B[38;5;28;01mas\u001B[39;00m e:\n\u001B[0;32m    579\u001B[0m     e\u001B[38;5;241m.\u001B[39margs \u001B[38;5;241m+\u001B[39m\u001B[38;5;241m=\u001B[39m (\u001B[38;5;124m\"\u001B[39m\u001B[38;5;124mConversion failed for column \u001B[39m\u001B[38;5;132;01m{!s}\u001B[39;00m\u001B[38;5;124m with type \u001B[39m\u001B[38;5;132;01m{!s}\u001B[39;00m\u001B[38;5;124m\"\u001B[39m\n\u001B[0;32m    580\u001B[0m                \u001B[38;5;241m.\u001B[39mformat(col\u001B[38;5;241m.\u001B[39mname, col\u001B[38;5;241m.\u001B[39mdtype),)\n",
      "File \u001B[1;32mD:\\VENVS\\Envs\\base_310\\lib\\site-packages\\pyarrow\\array.pxi:312\u001B[0m, in \u001B[0;36mpyarrow.lib.array\u001B[1;34m()\u001B[0m\n",
      "File \u001B[1;32mD:\\VENVS\\Envs\\base_310\\lib\\site-packages\\pyarrow\\array.pxi:83\u001B[0m, in \u001B[0;36mpyarrow.lib._ndarray_to_array\u001B[1;34m()\u001B[0m\n",
      "File \u001B[1;32mD:\\VENVS\\Envs\\base_310\\lib\\site-packages\\pyarrow\\error.pxi:100\u001B[0m, in \u001B[0;36mpyarrow.lib.check_status\u001B[1;34m()\u001B[0m\n",
      "\u001B[1;31mArrowInvalid\u001B[0m: (\"Could not convert 'Y_pred_XGB_Normal_calibrated_mean' with type str: tried to convert to int64\", 'Conversion failed for column None with type object')"
     ]
    }
   ],
   "execution_count": 20
  },
  {
   "metadata": {},
   "cell_type": "markdown",
   "source": "## Net benefit analysis",
   "id": "a1c0b6d23cce2aa3"
  },
  {
   "metadata": {},
   "cell_type": "code",
   "source": [
    "tree_utils.net_benefit_curve_plot(RESULTS['AXIS_BINARY'], \n",
    "                                  output_path=os.path.join(start_path, PATHS['AXIS_BINARY']), \n",
    "                                  true_col_prefix='Y_true',\n",
    "                                  pred_col_prefix='Y_pred',\n",
    "                                  xlim=[0, 0.5],\n",
    "                                  ylim=[-0.1, 0.3],\n",
    "                                  plot_title=\"Binary model, not calibrated\",\n",
    "                                  file_suffix=\"\",\n",
    "                                  show_plot=False)"
   ],
   "id": "363b4f94306acbb9",
   "outputs": [],
   "execution_count": null
  },
  {
   "metadata": {},
   "cell_type": "markdown",
   "source": "## Performance",
   "id": "e28375378cabcf5b"
  },
  {
   "metadata": {},
   "cell_type": "markdown",
   "source": "",
   "id": "88a34363020d440e"
  },
  {
   "metadata": {},
   "cell_type": "code",
   "source": "",
   "id": "72849203f736eaf7",
   "outputs": [],
   "execution_count": null
  }
 ],
 "metadata": {
  "kernelspec": {
   "display_name": "Python 3",
   "language": "python",
   "name": "python3"
  },
  "language_info": {
   "codemirror_mode": {
    "name": "ipython",
    "version": 2
   },
   "file_extension": ".py",
   "mimetype": "text/x-python",
   "name": "python",
   "nbconvert_exporter": "python",
   "pygments_lexer": "ipython2",
   "version": "2.7.6"
  }
 },
 "nbformat": 4,
 "nbformat_minor": 5
}
