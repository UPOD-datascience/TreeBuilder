{
 "cells": [
  {
   "cell_type": "markdown",
   "id": "8d017fb6f40a448d",
   "metadata": {},
   "source": [
    "The purpose here is to \n",
    "* extract performance metrics, ROC curves, precision-recall curves, f1-proba, prec-proba, spec-proba, recall-proba curves\n",
    "* extract calibration curves\n",
    "* extract calibration-corrections\n",
    "\n",
    "Given: a `.parquet` with the probas for all classes, the fold numbers, the id's and the actual class values\n",
    "\n",
    "```\n",
    "@inproceedings{guo2017calibration,\n",
    "  title={On calibration of modern neural networks},\n",
    "  author={Guo, Chuan and Pleiss, Geoff and Sun, Yu and Weinberger, Kilian Q},\n",
    "  booktitle={International conference on machine learning},\n",
    "  pages={1321--1330},\n",
    "  year={2017},\n",
    "  organization={PMLR}\n",
    "}\n",
    "```"
   ]
  },
  {
   "cell_type": "code",
   "execution_count": 1,
   "id": "781b38dd4bd43fbb",
   "metadata": {
    "ExecuteTime": {
     "end_time": "2024-09-11T09:08:40.071216Z",
     "start_time": "2024-09-11T09:08:36.061137Z"
    }
   },
   "outputs": [],
   "source": [
    "%load_ext autoreload\n",
    "%autoreload 2\n",
    "import pandas as pd\n",
    "import numpy as np\n",
    "import os\n",
    "import sys\n",
    "from tqdm import tqdm\n",
    "from collections import defaultdict\n",
    "from typing import Literal\n",
    "\n",
    "from sklearn.calibration import calibration_curve\n",
    "import matplotlib.pyplot as plt\n",
    "\n",
    "sys.path.insert(0, os.path.join(os.path.abspath('.'),'..', 'src'))\n",
    "import tree_utils\n"
   ]
  },
  {
   "cell_type": "code",
   "execution_count": null,
   "id": "2fd011590b7d6c0c",
   "metadata": {},
   "outputs": [],
   "source": [
    "#plt.style.use('ggplot')"
   ]
  },
  {
   "cell_type": "code",
   "execution_count": 2,
   "id": "b4ba4d9c65bd5288",
   "metadata": {},
   "outputs": [],
   "source": [
    "start_path = r'J:\\Onderzoek\\21-763_rvanes_MiniECG-2-Data'"
   ]
  },
  {
   "cell_type": "code",
   "execution_count": 3,
   "id": "8a344b227fc9c358",
   "metadata": {},
   "outputs": [],
   "source": [
    "os.chdir(start_path)"
   ]
  },
  {
   "cell_type": "code",
   "execution_count": 4,
   "id": "b5175c600d0895d0",
   "metadata": {},
   "outputs": [],
   "source": [
    "RUN_CALIBRATION_PLOTS = True\n",
    "RUN_NBA = True\n",
    "RUN_ROC = True\n",
    "RUN_PRC = False\n",
    "RUN_F1C = False\n",
    "RUN_NPVC = False\n",
    "RUN_RC = False\n",
    "RUN_PC = False\n",
    "ONLY_DATA = False"
   ]
  },
  {
   "cell_type": "code",
   "execution_count": 5,
   "id": "387790c3a41642b3",
   "metadata": {},
   "outputs": [],
   "source": [
    "RESULTS = {}\n",
    "PATHS = {}"
   ]
  },
  {
   "cell_type": "markdown",
   "id": "43e89203cc0cc82e",
   "metadata": {},
   "source": [
    "## Calibration "
   ]
  },
  {
   "cell_type": "code",
   "execution_count": 6,
   "id": "ca0bfb40b73c937d",
   "metadata": {},
   "outputs": [],
   "source": [
    "output_path = r\"G_Output\\2_Data\\CustomTree\\conduction\"\n",
    "df = pd.read_parquet(os.path.join(output_path, \"CONDUCTION_MultiClass_wMorphoMap_RESULTS.parquet\"))\n",
    "RESULTS['CONDUCTION'] = df.copy()\n",
    "PATHS['CONDUCTION'] = output_path\n",
    "\n",
    "cal_df, _ = tree_utils.add_calibrated_values(RESULTS['CONDUCTION'].copy(), how='sigmoid')\n",
    "cal_df.to_parquet(os.path.join(start_path, PATHS['CONDUCTION'], 'Calibrated_RESULTS.parquet'))\n",
    "RESULTS['CONDUCTION_CALIBRATED'] = cal_df"
   ]
  },
  {
   "cell_type": "code",
   "execution_count": 7,
   "id": "f161b0aaeeb2e4cb",
   "metadata": {},
   "outputs": [],
   "source": [
    "output_path = r\"G_Output\\2_Data\\CustomTree\\muscle\"\n",
    "df = pd.read_parquet(os.path.join(output_path, \"MUSCLE_MultiClass_wMorphoMap_RESULTS.parquet\"))\n",
    "RESULTS['MUSCLE'] = df.copy()\n",
    "PATHS['MUSCLE'] = output_path\n",
    "\n",
    "cal_df, _ = tree_utils.add_calibrated_values(RESULTS['MUSCLE'].copy(), how='sigmoid')\n",
    "cal_df.to_parquet(os.path.join(start_path, PATHS['MUSCLE'], 'Calibrated_RESULTS.parquet'))\n",
    "RESULTS['MUSCLE_CALIBRATED'] = cal_df"
   ]
  },
  {
   "cell_type": "code",
   "execution_count": 8,
   "id": "e58db7a388eaf07f",
   "metadata": {},
   "outputs": [],
   "source": [
    "output_path = r\"G_Output\\2_Data\\CustomTree\\axis\"\n",
    "df = pd.read_parquet(os.path.join(output_path, \"AXIS_MultiClass_wMorphoMap_RESULTS.parquet\"))\n",
    "RESULTS['AXIS'] = df.copy()\n",
    "PATHS['AXIS'] = output_path\n",
    "\n",
    "cal_df, _ = tree_utils.add_calibrated_values(RESULTS['AXIS'].copy(), how='sigmoid')\n",
    "cal_df.to_parquet(os.path.join(start_path, PATHS['AXIS'], 'Calibrated_RESULTS.parquet'))\n",
    "RESULTS['AXIS_CALIBRATED'] = cal_df"
   ]
  },
  {
   "cell_type": "code",
   "execution_count": 9,
   "id": "23bd91408398d48b",
   "metadata": {},
   "outputs": [],
   "source": [
    "output_path = r\"G_Output\\2_Data\\CustomTree\\conduction_BinaryClass\"\n",
    "df = pd.read_parquet(os.path.join(output_path, \"results_BinaryClass_wMorphoMap.parquet\"))\n",
    "RESULTS['CONDUCTION_BINARY'] = df.copy()\n",
    "PATHS['CONDUCTION_BINARY'] = output_path\n",
    "\n",
    "cal_df, _ = tree_utils.add_calibrated_values(RESULTS['CONDUCTION_BINARY'].copy(), how='sigmoid')\n",
    "cal_df.to_parquet(os.path.join(start_path, PATHS['CONDUCTION_BINARY'], 'Calibrated_RESULTS.parquet'))\n",
    "RESULTS['CONDUCTION_BINARY_CALIBRATED'] = cal_df"
   ]
  },
  {
   "cell_type": "code",
   "execution_count": 10,
   "id": "86d91cb380e49e0d",
   "metadata": {},
   "outputs": [],
   "source": [
    "output_path = r\"G_Output\\2_Data\\CustomTree\\muscle_BinaryClass\"\n",
    "df = pd.read_parquet(os.path.join(output_path, \"results_BinaryClass_wMorphoMap.parquet\"))\n",
    "RESULTS['MUSCLE_BINARY'] = df.copy()\n",
    "PATHS['MUSCLE_BINARY'] = output_path\n",
    "\n",
    "cal_df, _ = tree_utils.add_calibrated_values(RESULTS['MUSCLE_BINARY'].copy(), how='sigmoid')\n",
    "cal_df.to_parquet(os.path.join(start_path, PATHS['MUSCLE_BINARY'], 'Calibrated_RESULTS.parquet'))\n",
    "RESULTS['MUSCLE_BINARY_CALIBRATED'] = cal_df"
   ]
  },
  {
   "cell_type": "code",
   "execution_count": 11,
   "id": "88e8dfc009489cc",
   "metadata": {},
   "outputs": [],
   "source": [
    "output_path = r\"G_Output\\2_Data\\CustomTree\\axis_BinaryClass\"\n",
    "df = pd.read_parquet(os.path.join(output_path, \"results_BinaryClass_wMorphoMap.parquet\"))\n",
    "RESULTS['AXIS_BINARY'] = df.copy()\n",
    "PATHS['AXIS_BINARY'] = output_path\n",
    "\n",
    "cal_df, _ = tree_utils.add_calibrated_values(RESULTS['AXIS_BINARY'].copy(), how='sigmoid')\n",
    "cal_df.to_parquet(os.path.join(start_path, PATHS['AXIS_BINARY'], 'Calibrated_RESULTS.parquet'))\n",
    "RESULTS['AXIS_BINARY_CALIBRATED'] = cal_df"
   ]
  },
  {
   "cell_type": "code",
   "execution_count": null,
   "id": "2dd4ac35ea055a4d",
   "metadata": {},
   "outputs": [],
   "source": [
    "if RUN_CALIBRATION_PLOTS:\n",
    "    tree_utils.create_calibration_plots(RESULTS['CONDUCTION'], \n",
    "                                        output_path=os.path.join(start_path, PATHS['CONDUCTION']), \n",
    "                                        write_out=True,\n",
    "                                        mod_order=['XGB', 'LR', 'customDT', 'normalDT'])\n",
    "    tree_utils.create_calibration_plots(RESULTS['CONDUCTION_CALIBRATED'], \n",
    "                                        output_path=os.path.join(start_path, PATHS['CONDUCTION']), \n",
    "                                        write_out=True, \n",
    "                                        mod_order=['XGB', 'LR', 'customDT', 'normalDT'],\n",
    "                                        suffix='_calibrated_mean')\n",
    "\n",
    "    tree_utils.create_calibration_plots(RESULTS['CONDUCTION_BINARY'], \n",
    "                                        output_path=os.path.join(start_path, PATHS['CONDUCTION_BINARY']), \n",
    "                                        mod_order=['XGB', 'LR', 'customDT', 'normalDT'],\n",
    "                                        write_out=True)\n",
    "    tree_utils.create_calibration_plots(RESULTS['CONDUCTION_BINARY_CALIBRATED'],\n",
    "                                        output_path=os.path.join(start_path, PATHS['CONDUCTION_BINARY']), \n",
    "                                        write_out=True, \n",
    "                                        mod_order=['XGB', 'LR', 'customDT', 'normalDT'],\n",
    "                                        suffix='_calibrated_mean')\n",
    "\n",
    "    tree_utils.create_calibration_plots(RESULTS['MUSCLE'],\n",
    "                                        output_path=os.path.join(start_path, PATHS['MUSCLE']), \n",
    "                                        write_out=True)\n",
    "    tree_utils.create_calibration_plots(RESULTS['MUSCLE_CALIBRATED'],\n",
    "                                        output_path=os.path.join(start_path, PATHS['MUSCLE']), \n",
    "                                        write_out=True, \n",
    "                                        suffix='_calibrated_mean')\n",
    "    \n",
    "    tree_utils.create_calibration_plots(RESULTS['AXIS'], \n",
    "                                        output_path=os.path.join(start_path, PATHS['AXIS']), \n",
    "                                        write_out=True)\n",
    "    tree_utils.create_calibration_plots(RESULTS['AXIS_CALIBRATED'], \n",
    "                                        output_path=os.path.join(start_path, PATHS['AXIS']),\n",
    "                                        write_out=True, \n",
    "                                        suffix='_calibrated_mean')\n",
    "\n",
    "    tree_utils.create_calibration_plots(RESULTS['MUSCLE_BINARY'],\n",
    "                                        output_path=os.path.join(start_path, PATHS['MUSCLE_BINARY']),\n",
    "                                        write_out=True)\n",
    "    tree_utils.create_calibration_plots(RESULTS['MUSCLE_BINARY_CALIBRATED'],\n",
    "                                        output_path=os.path.join(start_path, PATHS['MUSCLE_BINARY']), \n",
    "                                        write_out=True, \n",
    "                                        suffix='_calibrated_mean')\n",
    "\n",
    "    tree_utils.create_calibration_plots(RESULTS['AXIS_BINARY'], \n",
    "                                        output_path=os.path.join(start_path, PATHS['AXIS_BINARY']), \n",
    "                                        write_out=True)\n",
    "    tree_utils.create_calibration_plots(RESULTS['AXIS_BINARY_CALIBRATED'],\n",
    "                                        output_path=os.path.join(start_path, PATHS['AXIS_BINARY']), \n",
    "                                        write_out=True,\n",
    "                                        suffix='_calibrated_mean')"
   ]
  },
  {
   "cell_type": "markdown",
   "id": "a1c0b6d23cce2aa3",
   "metadata": {},
   "source": [
    "## Net benefit analysis"
   ]
  },
  {
   "cell_type": "code",
   "execution_count": 49,
   "id": "363b4f94306acbb9",
   "metadata": {},
   "outputs": [
    {
     "name": "stdout",
     "output_type": "stream",
     "text": [
      "Processing CONDUCTION...\n",
      "Processing CONDUCTION_CALIBRATED...\n",
      "Processing MUSCLE...\n",
      "Processing MUSCLE_CALIBRATED...\n",
      "Processing AXIS...\n",
      "Processing AXIS_CALIBRATED...\n",
      "Processing CONDUCTION_BINARY...\n",
      "Processing CONDUCTION_BINARY_CALIBRATED...\n",
      "Processing MUSCLE_BINARY...\n",
      "Processing MUSCLE_BINARY_CALIBRATED...\n",
      "Processing AXIS_BINARY...\n",
      "Processing AXIS_BINARY_CALIBRATED...\n"
     ]
    }
   ],
   "source": [
    "if RUN_NBA:\n",
    "    for k in RESULTS.keys():\n",
    "        print(f\"Processing {k}...\")\n",
    "        if 'CALIBRATED' not in k:\n",
    "            tree_utils.net_benefit_curve_plot(RESULTS[k], \n",
    "                                              output_path=os.path.join(start_path, PATHS[k]), \n",
    "                                              true_col_prefix='Y_true',\n",
    "                                              pred_col_prefix='Y_pred',\n",
    "                                              xlim=[0, 0.5],\n",
    "                                              ylim=[-0.1, 0.5],\n",
    "                                              show_plot=False,\n",
    "                                              plot_title=\"Binary model, not calibrated\",\n",
    "                                              file_suffix=\"_train\",\n",
    "                                              dataset=\"train\"\n",
    "                                              )\n",
    "            tree_utils.net_benefit_curve_plot(RESULTS[k], \n",
    "                                              output_path=os.path.join(start_path, PATHS[k]), \n",
    "                                              true_col_prefix='Y_true',\n",
    "                                              pred_col_prefix='Y_pred',\n",
    "                                              xlim=[0, 0.5],\n",
    "                                              ylim=[-0.1, 0.5],\n",
    "                                              show_plot=False,\n",
    "                                              plot_title=\"Binary model, not calibrated\",\n",
    "                                              file_suffix=\"_calibrated\",\n",
    "                                              dataset=\"test\",\n",
    "                                              )\n",
    "            tree_utils.net_benefit_curve_plot(RESULTS[f'{k}_CALIBRATED'],\n",
    "                                                output_path = os.path.join(start_path, PATHS[k]),\n",
    "                                                true_col_prefix = 'Y_true',\n",
    "                                                pred_col_prefix = 'Y_pred',\n",
    "                                                xlim = [0, 0.5],\n",
    "                                                ylim = [-0.1, 0.5],\n",
    "                                                show_plot = False,\n",
    "                                                plot_title = \"Binary model, calibrated\",\n",
    "                                                file_suffix = \"_calibrated\",\n",
    "                                                dataset = \"test\",\n",
    "                                                calibrated = True,                                    \n",
    "                                              )"
   ]
  },
  {
   "cell_type": "markdown",
   "id": "e28375378cabcf5b",
   "metadata": {},
   "source": [
    "## Performance\n",
    "\n",
    "* ROC\n",
    "* precision-recall "
   ]
  },
  {
   "cell_type": "code",
   "execution_count": 46,
   "id": "72849203f736eaf7",
   "metadata": {},
   "outputs": [
    {
     "name": "stdout",
     "output_type": "stream",
     "text": [
      "CONDUCTION\n",
      "CONDUCTION_CALIBRATED\n",
      "MUSCLE\n",
      "MUSCLE_CALIBRATED\n",
      "AXIS\n",
      "AXIS_CALIBRATED\n",
      "CONDUCTION_BINARY\n",
      "CONDUCTION_BINARY_CALIBRATED\n",
      "MUSCLE_BINARY\n",
      "MUSCLE_BINARY_CALIBRATED\n",
      "AXIS_BINARY\n",
      "AXIS_BINARY_CALIBRATED\n"
     ]
    }
   ],
   "source": [
    "if RUN_ROC:\n",
    "    for k in RESULTS.keys():\n",
    "        print(k)\n",
    "        if 'conduction' in k.lower():\n",
    "            mod_order = ['XGB', 'LR', 'customDT', 'normalDT']\n",
    "        else:\n",
    "            mod_order = ['XGB', 'LR', 'normalDT']\n",
    "        \n",
    "        if 'CALIBRATED' not in k:\n",
    "            tree_utils.make_roc_plots(RESULTS[k], \n",
    "                                      OutPath=os.path.join(start_path, PATHS[k]), \n",
    "                                      Target=k,\n",
    "                                      mod_order = mod_order)\n",
    "            tree_utils.make_roc_plots(RESULTS[f'{k}_CALIBRATED'], \n",
    "                                      OutPath=os.path.join(start_path, PATHS[k]), \n",
    "                                      Target=k,\n",
    "                                      suffix='_calibrated_mean',\n",
    "                                      mod_order = mod_order)"
   ]
  },
  {
   "cell_type": "code",
   "execution_count": null,
   "id": "fb53d8e9f4ac6bed",
   "metadata": {},
   "outputs": [],
   "source": [
    "if RUN_PRC:\n",
    "    for k in RESULTS.keys():\n",
    "        if 'CALIBRATED' not in k:\n",
    "            tree_utils.make_precisionRecall_plots(RESULTS[k], OutPath=os.path.join(start_path, PATHS[k]), Target=k)\n",
    "            tree_utils.make_precisionRecall_plots(RESULTS[f'{k}_CALIBRATED'], OutPath=os.path.join(start_path, PATHS[k]), Target=k, suffix='_calibrated_mean')"
   ]
  },
  {
   "cell_type": "code",
   "execution_count": 32,
   "id": "218a5e73f59c9f7f",
   "metadata": {
    "ExecuteTime": {
     "end_time": "2024-08-22T11:56:40.954097Z",
     "start_time": "2024-08-22T11:34:14.441532Z"
    }
   },
   "outputs": [],
   "source": [
    "if RUN_F1C:\n",
    "    for k in RESULTS.keys():\n",
    "        if 'CALIBRATED' not in k:\n",
    "            tree_utils.make_f1_plots(RESULTS[k], OutPath=os.path.join(start_path, PATHS[k]), Target=k, only_data=ONLY_DATA)\n",
    "            tree_utils.make_f1_plots(RESULTS[f'{k}_CALIBRATED'], OutPath=os.path.join(start_path, PATHS[k]), Target=k, suffix='_calibrated_mean', only_data=ONLY_DATA)"
   ]
  },
  {
   "cell_type": "code",
   "execution_count": 33,
   "id": "b202dae20db7eb78",
   "metadata": {
    "ExecuteTime": {
     "end_time": "2024-08-22T12:20:28.342828Z",
     "start_time": "2024-08-22T11:56:40.955985Z"
    }
   },
   "outputs": [],
   "source": [
    "if RUN_RC:\n",
    "    for k in RESULTS.keys():\n",
    "        if 'CALIBRATED' not in k:\n",
    "            tree_utils.make_recall_plots(RESULTS[k], OutPath=os.path.join(start_path, PATHS[k]), Target=k, only_data=ONLY_DATA)\n",
    "            tree_utils.make_recall_plots(RESULTS[f'{k}_CALIBRATED'], OutPath=os.path.join(start_path, PATHS[k]), Target=k, suffix='_calibrated_mean', only_data=ONLY_DATA)"
   ]
  },
  {
   "cell_type": "code",
   "execution_count": 34,
   "id": "21e6aa8c057a518f",
   "metadata": {
    "ExecuteTime": {
     "end_time": "2024-08-22T12:43:39.185671Z",
     "start_time": "2024-08-22T12:20:28.344684Z"
    }
   },
   "outputs": [],
   "source": [
    "if RUN_PC:\n",
    "    for k in RESULTS.keys():\n",
    "        if 'CALIBRATED' not in k:\n",
    "            tree_utils.make_precision_plots(RESULTS[k], OutPath=os.path.join(start_path, PATHS[k]), Target=k, only_data=ONLY_DATA)\n",
    "            tree_utils.make_precision_plots(RESULTS[f'{k}_CALIBRATED'], OutPath=os.path.join(start_path, PATHS[k]), Target=k, suffix='_calibrated_mean', only_data=ONLY_DATA)"
   ]
  },
  {
   "cell_type": "code",
   "execution_count": 35,
   "id": "30a49def2d9a5216",
   "metadata": {
    "ExecuteTime": {
     "end_time": "2024-08-22T12:55:17.800004Z",
     "start_time": "2024-08-22T12:43:39.188583Z"
    }
   },
   "outputs": [],
   "source": [
    "if RUN_NPVC:\n",
    "    for k in RESULTS.keys():\n",
    "        if 'CALIBRATED' not in k:\n",
    "            tree_utils.make_npv_plots(RESULTS[k], OutPath=os.path.join(start_path, PATHS[k]), Target=k, only_data=ONLY_DATA)\n",
    "            tree_utils.make_npv_plots(RESULTS[f'{k}_CALIBRATED'], OutPath=os.path.join(start_path, PATHS[k]), Target=k, suffix='_calibrated_mean', only_data=ONLY_DATA)"
   ]
  },
  {
   "cell_type": "code",
   "execution_count": null,
   "id": "8bbdfe0d1aa818a6",
   "metadata": {},
   "outputs": [],
   "source": []
  }
 ],
 "metadata": {
  "kernelspec": {
   "display_name": "Python 3",
   "language": "python",
   "name": "python3"
  },
  "language_info": {
   "codemirror_mode": {
    "name": "ipython",
    "version": 3
   },
   "file_extension": ".py",
   "mimetype": "text/x-python",
   "name": "python",
   "nbconvert_exporter": "python",
   "pygments_lexer": "ipython3",
   "version": "3.8.10"
  }
 },
 "nbformat": 4,
 "nbformat_minor": 5
}
