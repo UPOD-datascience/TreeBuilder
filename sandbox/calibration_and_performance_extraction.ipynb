{
 "cells": [
  {
   "metadata": {},
   "cell_type": "markdown",
   "source": [
    "The purpose here is to \n",
    "* extract performance metrics, ROC curves, precision-recall curves, f1-proba, prec-proba, spec-proba, recall-proba curves\n",
    "* extract calibration curves\n",
    "* extract calibration-corrections\n",
    "\n",
    "Given: a `.parquet` with the probas for all classes, the fold numbers, the id's and the actual class values\n",
    "\n",
    "```\n",
    "@inproceedings{guo2017calibration,\n",
    "  title={On calibration of modern neural networks},\n",
    "  author={Guo, Chuan and Pleiss, Geoff and Sun, Yu and Weinberger, Kilian Q},\n",
    "  booktitle={International conference on machine learning},\n",
    "  pages={1321--1330},\n",
    "  year={2017},\n",
    "  organization={PMLR}\n",
    "}\n",
    "```"
   ],
   "id": "8d017fb6f40a448d"
  },
  {
   "metadata": {
    "ExecuteTime": {
     "end_time": "2024-08-19T14:50:17.394554Z",
     "start_time": "2024-08-19T14:50:17.195553Z"
    }
   },
   "cell_type": "code",
   "source": [
    "%load_ext autoreload\n",
    "%autoreload 2\n",
    "import pandas as pd\n",
    "import numpy as np\n",
    "import os\n",
    "import sys\n",
    "from tqdm import tqdm\n",
    "\n",
    "from sklearn.calibration import calibration_curve\n",
    "import matplotlib.pyplot as plt\n",
    "\n",
    "sys.path.insert(0, os.path.join(os.path.abspath('.'),'..', 'src'))\n",
    "import tree_utils\n"
   ],
   "id": "781b38dd4bd43fbb",
   "outputs": [
    {
     "name": "stdout",
     "output_type": "stream",
     "text": [
      "The autoreload extension is already loaded. To reload it, use:\n",
      "  %reload_ext autoreload\n"
     ]
    }
   ],
   "execution_count": 20
  },
  {
   "metadata": {
    "ExecuteTime": {
     "end_time": "2024-08-19T14:26:36.597863Z",
     "start_time": "2024-08-19T14:26:35.467576Z"
    }
   },
   "cell_type": "code",
   "source": "plt.style.use('ggplot')",
   "id": "2fd011590b7d6c0c",
   "outputs": [],
   "execution_count": 2
  },
  {
   "metadata": {
    "ExecuteTime": {
     "end_time": "2024-08-19T14:27:11.416900Z",
     "start_time": "2024-08-19T14:27:11.250897Z"
    }
   },
   "cell_type": "code",
   "source": "start_path = r'J:\\Onderzoek\\21-763_rvanes_MiniECG-2-Data'",
   "id": "b4ba4d9c65bd5288",
   "outputs": [],
   "execution_count": 7
  },
  {
   "metadata": {
    "ExecuteTime": {
     "end_time": "2024-08-19T14:27:12.300091Z",
     "start_time": "2024-08-19T14:27:12.139089Z"
    }
   },
   "cell_type": "code",
   "source": "os.chdir(start_path)",
   "id": "8a344b227fc9c358",
   "outputs": [],
   "execution_count": 8
  },
  {
   "metadata": {},
   "cell_type": "markdown",
   "source": "## Calibration ",
   "id": "43e89203cc0cc82e"
  },
  {
   "metadata": {
    "ExecuteTime": {
     "end_time": "2024-08-19T14:44:37.549432Z",
     "start_time": "2024-08-19T14:44:37.290927Z"
    }
   },
   "cell_type": "code",
   "source": [
    "output_path = r\"G_Output\\2_Data\\CustomTree\\conduction\"\n",
    "df = pd.read_parquet(os.path.join(output_path, \"CONDUCTION_MultiClass_wMorphoMap_RESULTS.parquet\"))\n",
    "tree_utils.create_calibration_plots(df, output_path=os.path.join(start_path, output_path), write_out=True)"
   ],
   "id": "ca0bfb40b73c937d",
   "outputs": [
    {
     "data": {
      "text/plain": [
       "'J:\\\\Onderzoek\\\\21-763_rvanes_MiniECG-2-Data\\\\G_Output\\\\2_Data\\\\CustomTree\\\\conduction'"
      ]
     },
     "execution_count": 13,
     "metadata": {},
     "output_type": "execute_result"
    }
   ],
   "execution_count": 13
  },
  {
   "metadata": {
    "ExecuteTime": {
     "end_time": "2024-08-19T14:51:26.227793Z",
     "start_time": "2024-08-19T14:51:20.432157Z"
    }
   },
   "cell_type": "code",
   "source": [
    "output_path = r\"G_Output\\2_Data\\CustomTree\\muscle\"\n",
    "df = pd.read_parquet(os.path.join(output_path, \"MUSCLE_MultiClass_wMorphoMap_RESULTS.parquet\"))\n",
    "tree_utils.create_calibration_plots(df, output_path=os.path.join(start_path, output_path), write_out=True)"
   ],
   "id": "f161b0aaeeb2e4cb",
   "outputs": [
    {
     "name": "stderr",
     "output_type": "stream",
     "text": [
      "100%|██████████| 3/3 [00:04<00:00,  1.64s/it]\n"
     ]
    }
   ],
   "execution_count": 22
  },
  {
   "metadata": {
    "ExecuteTime": {
     "end_time": "2024-08-19T14:56:55.392779Z",
     "start_time": "2024-08-19T14:56:49.473471Z"
    }
   },
   "cell_type": "code",
   "source": [
    "output_path = r\"G_Output\\2_Data\\CustomTree\\axis\"\n",
    "df = pd.read_parquet(os.path.join(output_path, \"AXIS_MultiClass_wMorphoMap_RESULTS.parquet\"))\n",
    "tree_utils.create_calibration_plots(df, output_path=os.path.join(start_path, output_path), write_out=True)"
   ],
   "id": "e58db7a388eaf07f",
   "outputs": [
    {
     "name": "stderr",
     "output_type": "stream",
     "text": [
      "100%|██████████| 3/3 [00:05<00:00,  1.69s/it]\n"
     ]
    }
   ],
   "execution_count": 23
  },
  {
   "metadata": {
    "ExecuteTime": {
     "end_time": "2024-08-19T14:58:25.649118Z",
     "start_time": "2024-08-19T14:58:19.693639Z"
    }
   },
   "cell_type": "code",
   "source": [
    "output_path = r\"G_Output\\2_Data\\CustomTree\\conduction_BinaryClass\"\n",
    "df = pd.read_parquet(os.path.join(output_path, \"results_BinaryClass_wMorphoMap.parquet\"))\n",
    "tree_utils.create_calibration_plots(df, output_path=os.path.join(start_path, output_path), write_out=True)"
   ],
   "id": "23bd91408398d48b",
   "outputs": [
    {
     "name": "stderr",
     "output_type": "stream",
     "text": [
      "100%|██████████| 2/2 [00:05<00:00,  2.66s/it]\n"
     ]
    }
   ],
   "execution_count": 24
  },
  {
   "metadata": {
    "ExecuteTime": {
     "end_time": "2024-08-19T14:59:29.666745Z",
     "start_time": "2024-08-19T14:59:25.872898Z"
    }
   },
   "cell_type": "code",
   "source": [
    "output_path = r\"G_Output\\2_Data\\CustomTree\\muscle_BinaryClass\"\n",
    "df = pd.read_parquet(os.path.join(output_path, \"results_BinaryClass_wMorphoMap.parquet\"))\n",
    "tree_utils.create_calibration_plots(df, output_path=os.path.join(start_path, output_path), write_out=True)"
   ],
   "id": "86d91cb380e49e0d",
   "outputs": [
    {
     "name": "stderr",
     "output_type": "stream",
     "text": [
      "100%|██████████| 2/2 [00:03<00:00,  1.62s/it]\n"
     ]
    }
   ],
   "execution_count": 25
  },
  {
   "metadata": {
    "ExecuteTime": {
     "end_time": "2024-08-19T15:00:20.970399Z",
     "start_time": "2024-08-19T15:00:15.796847Z"
    }
   },
   "cell_type": "code",
   "source": [
    "output_path = r\"G_Output\\2_Data\\CustomTree\\axis_BinaryClass\"\n",
    "df = pd.read_parquet(os.path.join(output_path, \"results_BinaryClass_wMorphoMap.parquet\"))\n",
    "tree_utils.create_calibration_plots(df, output_path=os.path.join(start_path, output_path), write_out=True)"
   ],
   "id": "88e8dfc009489cc",
   "outputs": [
    {
     "name": "stderr",
     "output_type": "stream",
     "text": [
      "100%|██████████| 2/2 [00:04<00:00,  2.11s/it]\n"
     ]
    }
   ],
   "execution_count": 26
  },
  {
   "metadata": {},
   "cell_type": "markdown",
   "source": "## Net benefit analysis",
   "id": "a1c0b6d23cce2aa3"
  },
  {
   "metadata": {},
   "cell_type": "code",
   "outputs": [],
   "execution_count": null,
   "source": "",
   "id": "363b4f94306acbb9"
  },
  {
   "metadata": {},
   "cell_type": "markdown",
   "source": "## Performance",
   "id": "e28375378cabcf5b"
  },
  {
   "metadata": {},
   "cell_type": "markdown",
   "source": "",
   "id": "88a34363020d440e"
  }
 ],
 "metadata": {
  "kernelspec": {
   "display_name": "Python 3",
   "language": "python",
   "name": "python3"
  },
  "language_info": {
   "codemirror_mode": {
    "name": "ipython",
    "version": 2
   },
   "file_extension": ".py",
   "mimetype": "text/x-python",
   "name": "python",
   "nbconvert_exporter": "python",
   "pygments_lexer": "ipython2",
   "version": "2.7.6"
  }
 },
 "nbformat": 4,
 "nbformat_minor": 5
}
